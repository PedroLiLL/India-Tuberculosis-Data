{
 "cells": [
  {
   "cell_type": "code",
   "execution_count": 36,
   "metadata": {},
   "outputs": [],
   "source": [
    "import numpy as np\n",
    "import pandas as pd\n",
    "import polars as pl\n",
    "import seaborn as sns\n",
    "import matplotlib.pyplot as plt"
   ]
  },
  {
   "cell_type": "code",
   "execution_count": 8,
   "metadata": {},
   "outputs": [
    {
     "data": {
      "text/html": [
       "<div><style>\n",
       ".dataframe > thead > tr > th,\n",
       ".dataframe > tbody > tr > td {\n",
       "  text-align: right;\n",
       "}\n",
       "</style>\n",
       "<small>shape: (37, 19)</small><table border=\"1\" class=\"dataframe\"><thead><tr><th>State/Uts</th><th>No of TB - Diabetes-TB patients with known DM status, of notified)-Public</th><th>Percentage  of TB - Diabetes-TB patients with known DM status,of notified)-Public</th><th>No of TB - Diabetes-TB patients with known DM status, of notified)-Private</th><th>Percentage  of TB - Diabetes-TB patients with known DM status, of notified)-Private</th><th>No of TB - Diabetes-TB patients with known DM status,of notified)-Total</th><th>Percentage of TB - Diabetes-TB patients with known DM status,  of notified)-Total</th><th>No of TB - Diabetes-Patients diagnosed among tested,of those with known DM status)-Public</th><th>Percentage of TB - Diabetes- Patients diagnosed among tested,of those with known DM status)-Public</th><th>No of TB - Diabetes- Patients diagnosed among tested, of those with known DM status)-Private</th><th>Percentage  of TB - Diabetes-Patients diagnosed among tested,  of those with known DM status)-Private</th><th>No of TB - Diabetes-Patients diagnosed among tested, of those with known DM status)-Total</th><th>Percentage  of TB - Diabetes-  Patients diagnosed among tested, of those with known DM status)-Total</th><th>No of TB - Diabetes- patients initiated on Anti-diabetic treatment, of TB-DM)-Public</th><th>Percentage of TB - Diabetes- patients initiated on Anti-diabetic treatment, of TB-DM)-Public</th><th>No of TB - Diabetes- patients initiated on Anti-diabetic treatment, of TB-DM)-Private</th><th>Percentage of TB - Diabetes- patients initiated on Anti-diabetic treatment, of TB-DM)-Private</th><th>No of TB - Diabetes- patients initiated on Anti-diabetic treatment, of TB-DM)0Total</th><th>Percentage of TB - Diabetes- patients initiated on Anti-diabetic treatment,of TB-DM)0Total</th></tr><tr><td>str</td><td>str</td><td>f64</td><td>str</td><td>str</td><td>str</td><td>f64</td><td>str</td><td>f64</td><td>str</td><td>str</td><td>str</td><td>f64</td><td>str</td><td>f64</td><td>str</td><td>str</td><td>str</td><td>f64</td></tr></thead><tbody><tr><td>&quot;Andaman &amp; Nico…</td><td>&quot;518 &quot;</td><td>95.2</td><td>&quot;3 &quot;</td><td>&quot;75&quot;</td><td>&quot;521 &quot;</td><td>95.1</td><td>&quot;97&quot;</td><td>18.7</td><td>&quot;1 &quot;</td><td>&quot;33.3&quot;</td><td>&quot;98 &quot;</td><td>18.8</td><td>&quot;69 &quot;</td><td>71.1</td><td>&quot;1 &quot;</td><td>&quot;100&quot;</td><td>&quot;70 &quot;</td><td>71.4</td></tr><tr><td>&quot;Andhra Pradesh…</td><td>&quot;65235 &quot;</td><td>98.7</td><td>&quot;26883 &quot;</td><td>&quot;99.6&quot;</td><td>&quot;92118 &quot;</td><td>98.9</td><td>&quot;8816 &quot;</td><td>13.5</td><td>&quot;2940 &quot;</td><td>&quot;10.9&quot;</td><td>&quot;11756 &quot;</td><td>12.8</td><td>&quot;6282 &quot;</td><td>71.3</td><td>&quot;1671 &quot;</td><td>&quot;56.8&quot;</td><td>&quot;7953 &quot;</td><td>67.7</td></tr><tr><td>&quot;Arunachal Prad…</td><td>&quot;2378 &quot;</td><td>79.0</td><td>&quot;3 &quot;</td><td>&quot;50&quot;</td><td>&quot;2381 &quot;</td><td>79.0</td><td>&quot;59 &quot;</td><td>2.5</td><td>&quot;0 &quot;</td><td>&quot;0&quot;</td><td>&quot;59 &quot;</td><td>2.5</td><td>&quot;28 &quot;</td><td>47.5</td><td>&quot;NA&quot;</td><td>&quot;NA&quot;</td><td>&quot;28 &quot;</td><td>47.5</td></tr><tr><td>&quot;Assam&quot;</td><td>&quot;34011 &quot;</td><td>81.0</td><td>&quot;4929 &quot;</td><td>&quot;83.2&quot;</td><td>&quot;38940 &quot;</td><td>81.2</td><td>&quot;2554 &quot;</td><td>7.5</td><td>&quot;499 &quot;</td><td>&quot;10.1&quot;</td><td>&quot;3053 &quot;</td><td>7.8</td><td>&quot;1003 &quot;</td><td>39.3</td><td>&quot;179 &quot;</td><td>&quot;35.9&quot;</td><td>&quot;1182 &quot;</td><td>38.7</td></tr><tr><td>&quot;Bihar&quot;</td><td>&quot;53768 &quot;</td><td>66.1</td><td>&quot;74114 &quot;</td><td>&quot;87.7&quot;</td><td>&quot;127882 &quot;</td><td>77.1</td><td>&quot;3062 &quot;</td><td>5.7</td><td>&quot;3801 &quot;</td><td>&quot;5.1&quot;</td><td>&quot;6863 &quot;</td><td>5.4</td><td>&quot;1489 &quot;</td><td>48.6</td><td>&quot;811 &quot;</td><td>&quot;21.3&quot;</td><td>&quot;2300 &quot;</td><td>33.5</td></tr><tr><td>&quot;Chandigarh&quot;</td><td>&quot;3531 &quot;</td><td>94.9</td><td>&quot;47 &quot;</td><td>&quot;73.4&quot;</td><td>&quot;3578 &quot;</td><td>94.6</td><td>&quot;316 &quot;</td><td>8.9</td><td>&quot;5 &quot;</td><td>&quot;10.6&quot;</td><td>&quot;321 &quot;</td><td>9.0</td><td>&quot;248 &quot;</td><td>78.5</td><td>&quot;5 &quot;</td><td>&quot;100&quot;</td><td>&quot;253 &quot;</td><td>78.8</td></tr><tr><td>&quot;Chhattisgarh&quot;</td><td>&quot;26987 &quot;</td><td>91.6</td><td>&quot;8243 &quot;</td><td>&quot;88.8&quot;</td><td>&quot;35230 &quot;</td><td>91.0</td><td>&quot;2473 &quot;</td><td>9.2</td><td>&quot;639 &quot;</td><td>&quot;7.8&quot;</td><td>&quot;3112 &quot;</td><td>8.8</td><td>&quot;1184 &quot;</td><td>47.9</td><td>&quot;155 &quot;</td><td>&quot;24.3&quot;</td><td>&quot;1339 &quot;</td><td>43.0</td></tr><tr><td>&quot;Dadra and Naga…</td><td>&quot;838 &quot;</td><td>99.2</td><td>&quot;76&quot;</td><td>&quot;100&quot;</td><td>&quot;914 &quot;</td><td>99.2</td><td>&quot;56 &quot;</td><td>6.7</td><td>&quot;3 &quot;</td><td>&quot;3.9&quot;</td><td>&quot;59 &quot;</td><td>6.5</td><td>&quot;46 &quot;</td><td>82.1</td><td>&quot;2 &quot;</td><td>&quot;66.7&quot;</td><td>&quot;48 &quot;</td><td>81.4</td></tr><tr><td>&quot;Delhi&quot;</td><td>&quot;65700 &quot;</td><td>84.2</td><td>&quot;5628 &quot;</td><td>&quot;55&quot;</td><td>&quot;71328 &quot;</td><td>80.8</td><td>&quot;5323 &quot;</td><td>8.1</td><td>&quot;621 &quot;</td><td>&quot;11&quot;</td><td>&quot;5944 &quot;</td><td>8.3</td><td>&quot;2661 &quot;</td><td>50.0</td><td>&quot;168 &quot;</td><td>&quot;27.1&quot;</td><td>&quot;2829 &quot;</td><td>47.6</td></tr><tr><td>&quot;Goa&quot;</td><td>&quot;1659 &quot;</td><td>98.9</td><td>&quot;288 &quot;</td><td>&quot;72.7&quot;</td><td>&quot;1947 &quot;</td><td>93.9</td><td>&quot;332 &quot;</td><td>20.0</td><td>&quot;45 &quot;</td><td>&quot;15.6&quot;</td><td>&quot;377 &quot;</td><td>19.4</td><td>&quot;300 &quot;</td><td>90.4</td><td>&quot;25 &quot;</td><td>&quot;55.6&quot;</td><td>&quot;325 &quot;</td><td>86.2</td></tr><tr><td>&quot;Gujarat&quot;</td><td>&quot;106333 &quot;</td><td>97.8</td><td>&quot;35899 &quot;</td><td>&quot;90.9&quot;</td><td>&quot;142232 &quot;</td><td>96.0</td><td>&quot;5343 &quot;</td><td>5.0</td><td>&quot;1250 &quot;</td><td>&quot;3.5&quot;</td><td>&quot;6593 &quot;</td><td>4.6</td><td>&quot;4304 &quot;</td><td>80.6</td><td>&quot;991 &quot;</td><td>&quot;79.3&quot;</td><td>&quot;5295 &quot;</td><td>80.3</td></tr><tr><td>&quot;Haryana&quot;</td><td>&quot;58171 &quot;</td><td>95.0</td><td>&quot;15853 &quot;</td><td>&quot;91.1&quot;</td><td>&quot;74024 &quot;</td><td>94.1</td><td>&quot;4463 &quot;</td><td>7.7</td><td>&quot;837 &quot;</td><td>&quot;5.3&quot;</td><td>&quot;5300 &quot;</td><td>7.2</td><td>&quot;3357 &quot;</td><td>75.2</td><td>&quot;560 &quot;</td><td>&quot;66.9&quot;</td><td>&quot;3917 &quot;</td><td>73.9</td></tr><tr><td>&hellip;</td><td>&hellip;</td><td>&hellip;</td><td>&hellip;</td><td>&hellip;</td><td>&hellip;</td><td>&hellip;</td><td>&hellip;</td><td>&hellip;</td><td>&hellip;</td><td>&hellip;</td><td>&hellip;</td><td>&hellip;</td><td>&hellip;</td><td>&hellip;</td><td>&hellip;</td><td>&hellip;</td><td>&hellip;</td><td>&hellip;</td></tr><tr><td>&quot;Odisha&quot;</td><td>&quot;53597 &quot;</td><td>96.5</td><td>&quot;4141 &quot;</td><td>&quot;94.2&quot;</td><td>&quot;57738 &quot;</td><td>96.3</td><td>&quot;4047 &quot;</td><td>7.6</td><td>&quot;274 &quot;</td><td>&quot;6.6&quot;</td><td>&quot;4321 &quot;</td><td>7.5</td><td>&quot;3105 &quot;</td><td>76.7</td><td>&quot;211 &quot;</td><td>&quot;77&quot;</td><td>&quot;3316 &quot;</td><td>76.7</td></tr><tr><td>&quot;Puducherry&quot;</td><td>&quot;1510 &quot;</td><td>99.0</td><td>&quot;2 &quot;</td><td>&quot;100&quot;</td><td>&quot;1512 &quot;</td><td>99.0</td><td>&quot;464 &quot;</td><td>30.7</td><td>&quot;0 &quot;</td><td>&quot;0&quot;</td><td>&quot;464 &quot;</td><td>30.7</td><td>&quot;445 &quot;</td><td>95.9</td><td>&quot;NA&quot;</td><td>&quot;NA&quot;</td><td>&quot;445 &quot;</td><td>95.9</td></tr><tr><td>&quot;Punjab&quot;</td><td>&quot;43665 &quot;</td><td>91.5</td><td>&quot;9006 &quot;</td><td>&quot;91.8&quot;</td><td>&quot;52671 &quot;</td><td>91.5</td><td>&quot;4930 &quot;</td><td>11.3</td><td>&quot;676 &quot;</td><td>&quot;7.5&quot;</td><td>&quot;5606 &quot;</td><td>10.6</td><td>&quot;2266 &quot;</td><td>46.0</td><td>&quot;170 &quot;</td><td>&quot;25.1&quot;</td><td>&quot;2436 &quot;</td><td>43.5</td></tr><tr><td>&quot;Rajasthan&quot;</td><td>&quot;119170 &quot;</td><td>90.5</td><td>&quot;34317 &quot;</td><td>&quot;88.8&quot;</td><td>&quot;153487 &quot;</td><td>90.1</td><td>&quot;3484 &quot;</td><td>2.9</td><td>&quot;1208 &quot;</td><td>&quot;3.5&quot;</td><td>&quot;4692 &quot;</td><td>3.1</td><td>&quot;2276 &quot;</td><td>65.3</td><td>&quot;538 &quot;</td><td>&quot;44.5&quot;</td><td>&quot;2814 &quot;</td><td>60.0</td></tr><tr><td>&quot;Sikkim&quot;</td><td>&quot;1305 &quot;</td><td>97.5</td><td>&quot;71 &quot;</td><td>&quot;95.9&quot;</td><td>&quot;1376 &quot;</td><td>97.5</td><td>&quot;118 &quot;</td><td>9.0</td><td>&quot;4 &quot;</td><td>&quot;5.6&quot;</td><td>&quot;122 &quot;</td><td>8.9</td><td>&quot;106 &quot;</td><td>89.8</td><td>&quot;3 &quot;</td><td>&quot;75&quot;</td><td>&quot;109 &quot;</td><td>89.3</td></tr><tr><td>&quot;Tamil Nadu&quot;</td><td>&quot;76635 &quot;</td><td>97.9</td><td>&quot;16054 &quot;</td><td>&quot;90.8&quot;</td><td>&quot;92689 &quot;</td><td>96.6</td><td>&quot;20196 &quot;</td><td>26.4</td><td>&quot;3655 &quot;</td><td>&quot;22.8&quot;</td><td>&quot;23851 &quot;</td><td>25.7</td><td>&quot;19144 &quot;</td><td>94.8</td><td>&quot;3179 &quot;</td><td>&quot;87&quot;</td><td>&quot;22323 &quot;</td><td>93.6</td></tr><tr><td>&quot;Telangana&quot;</td><td>&quot;51411 &quot;</td><td>94.3</td><td>&quot;17215 &quot;</td><td>&quot;92.2&quot;</td><td>&quot;68626 &quot;</td><td>93.7</td><td>&quot;3250 &quot;</td><td>6.3</td><td>&quot;892 &quot;</td><td>&quot;5.2&quot;</td><td>&quot;4142 &quot;</td><td>6.0</td><td>&quot;2691 &quot;</td><td>82.8</td><td>&quot;738 &quot;</td><td>&quot;82.7&quot;</td><td>&quot;3429 &quot;</td><td>82.8</td></tr><tr><td>&quot;Tripura&quot;</td><td>&quot;3078 &quot;</td><td>94.6</td><td>&quot;34 &quot;</td><td>&quot;85&quot;</td><td>&quot;3112 &quot;</td><td>94.4</td><td>&quot;473 &quot;</td><td>15.4</td><td>&quot;6 &quot;</td><td>&quot;17.6&quot;</td><td>&quot;479 &quot;</td><td>15.4</td><td>&quot;182 &quot;</td><td>38.5</td><td>&quot;0 &quot;</td><td>&quot;0&quot;</td><td>&quot;182 &quot;</td><td>38.0</td></tr><tr><td>&quot;Uttar Pradesh&quot;</td><td>&quot;390088 &quot;</td><td>93.0</td><td>&quot;100893 &quot;</td><td>&quot;86.5&quot;</td><td>&quot;490981 &quot;</td><td>91.6</td><td>&quot;21480 &quot;</td><td>5.5</td><td>&quot;1968 &quot;</td><td>&quot;2&quot;</td><td>&quot;23448 &quot;</td><td>4.8</td><td>&quot;8161 &quot;</td><td>38.0</td><td>&quot;670 &quot;</td><td>&quot;34&quot;</td><td>&quot;8831 &quot;</td><td>37.7</td></tr><tr><td>&quot;Uttarakhand&quot;</td><td>&quot;21948 &quot;</td><td>96.6</td><td>&quot;4339 &quot;</td><td>&quot;93.3&quot;</td><td>&quot;26287 &quot;</td><td>96.1</td><td>&quot;1741 &quot;</td><td>7.9</td><td>&quot;231 &quot;</td><td>&quot;5.3&quot;</td><td>&quot;1972 &quot;</td><td>7.5</td><td>&quot;670 &quot;</td><td>38.5</td><td>&quot;121 &quot;</td><td>&quot;52.4&quot;</td><td>&quot;791 &quot;</td><td>40.1</td></tr><tr><td>&quot;West Bengal&quot;</td><td>&quot;87854 &quot;</td><td>93.6</td><td>&quot;6472 &quot;</td><td>&quot;80.9&quot;</td><td>&quot;94326 &quot;</td><td>92.6</td><td>&quot;12541 &quot;</td><td>14.3</td><td>&quot;910 &quot;</td><td>&quot;14.1&quot;</td><td>&quot;13451 &quot;</td><td>14.3</td><td>&quot;9590 &quot;</td><td>76.5</td><td>&quot;710 &quot;</td><td>&quot;78&quot;</td><td>&quot;10300 &quot;</td><td>76.6</td></tr><tr><td>&quot;India&quot;</td><td>&quot;1707030 &quot;</td><td>92.1</td><td>&quot;508900 &quot;</td><td>&quot;89.6&quot;</td><td>&quot;2215930 &quot;</td><td>91.5</td><td>&quot;143167 &quot;</td><td>8.4</td><td>&quot;30564 &quot;</td><td>&quot;6&quot;</td><td>&quot;173731 &quot;</td><td>7.8</td><td>&quot;93897 &quot;</td><td>65.6</td><td>&quot;16161 &quot;</td><td>&quot;52.9&quot;</td><td>&quot;110058 &quot;</td><td>63.3</td></tr></tbody></table></div>"
      ],
      "text/plain": [
       "shape: (37, 19)\n",
       "┌─────────┬────────────┬────────────┬────────────┬───┬────────────┬────────────┬────────────┬────────────┐\n",
       "│ State/U ┆ No of TB - ┆ Percentage ┆ No of TB - ┆ … ┆ No of TB - ┆ Percentage ┆ No of TB - ┆ Percentage │\n",
       "│ ts      ┆ Diabetes-T ┆ of TB -    ┆ Diabetes-T ┆   ┆ Diabetes-  ┆ of TB -    ┆ Diabetes-  ┆ of TB -    │\n",
       "│ ---     ┆ B patients ┆ Diabetes-T ┆ B patients ┆   ┆ patients   ┆ Diabetes-  ┆ patients   ┆ Diabetes-  │\n",
       "│ str     ┆ …          ┆ B …        ┆ …          ┆   ┆ in…        ┆ pat…       ┆ in…        ┆ pat…       │\n",
       "│         ┆ ---        ┆ ---        ┆ ---        ┆   ┆ ---        ┆ ---        ┆ ---        ┆ ---        │\n",
       "│         ┆ str        ┆ f64        ┆ str        ┆   ┆ str        ┆ str        ┆ str        ┆ f64        │\n",
       "╞═════════╪════════════╪════════════╪════════════╪═══╪════════════╪════════════╪════════════╪════════════╡\n",
       "│ Andaman ┆ 518        ┆ 95.2       ┆ 3          ┆ … ┆ 1          ┆ 100        ┆ 70         ┆ 71.4       │\n",
       "│ &       ┆            ┆            ┆            ┆   ┆            ┆            ┆            ┆            │\n",
       "│ Nicobar ┆            ┆            ┆            ┆   ┆            ┆            ┆            ┆            │\n",
       "│ Islands ┆            ┆            ┆            ┆   ┆            ┆            ┆            ┆            │\n",
       "│ Andhra  ┆ 65235      ┆ 98.7       ┆ 26883      ┆ … ┆ 1671       ┆ 56.8       ┆ 7953       ┆ 67.7       │\n",
       "│ Pradesh ┆            ┆            ┆            ┆   ┆            ┆            ┆            ┆            │\n",
       "│ Arunach ┆ 2378       ┆ 79.0       ┆ 3          ┆ … ┆ NA         ┆ NA         ┆ 28         ┆ 47.5       │\n",
       "│ al      ┆            ┆            ┆            ┆   ┆            ┆            ┆            ┆            │\n",
       "│ Pradesh ┆            ┆            ┆            ┆   ┆            ┆            ┆            ┆            │\n",
       "│ Assam   ┆ 34011      ┆ 81.0       ┆ 4929       ┆ … ┆ 179        ┆ 35.9       ┆ 1182       ┆ 38.7       │\n",
       "│ …       ┆ …          ┆ …          ┆ …          ┆ … ┆ …          ┆ …          ┆ …          ┆ …          │\n",
       "│ Uttar   ┆ 390088     ┆ 93.0       ┆ 100893     ┆ … ┆ 670        ┆ 34         ┆ 8831       ┆ 37.7       │\n",
       "│ Pradesh ┆            ┆            ┆            ┆   ┆            ┆            ┆            ┆            │\n",
       "│ Uttarak ┆ 21948      ┆ 96.6       ┆ 4339       ┆ … ┆ 121        ┆ 52.4       ┆ 791        ┆ 40.1       │\n",
       "│ hand    ┆            ┆            ┆            ┆   ┆            ┆            ┆            ┆            │\n",
       "│ West    ┆ 87854      ┆ 93.6       ┆ 6472       ┆ … ┆ 710        ┆ 78         ┆ 10300      ┆ 76.6       │\n",
       "│ Bengal  ┆            ┆            ┆            ┆   ┆            ┆            ┆            ┆            │\n",
       "│ India   ┆ 1707030    ┆ 92.1       ┆ 508900     ┆ … ┆ 16161      ┆ 52.9       ┆ 110058     ┆ 63.3       │\n",
       "└─────────┴────────────┴────────────┴────────────┴───┴────────────┴────────────┴────────────┴────────────┘"
      ]
     },
     "execution_count": 8,
     "metadata": {},
     "output_type": "execute_result"
    }
   ],
   "source": [
    "tb_diabetes = pl.read_csv('2.10_TB_Diabetes.csv')\n",
    "tb_tabaco = pl.read_csv('2.11_TB_Tobacco.csv')\n",
    "tb_alcohol = pl.read_csv('2.12_TB_Alcohol.csv')\n",
    "tb_diabetes"
   ]
  },
  {
   "cell_type": "markdown",
   "metadata": {},
   "source": [
    "## Data cleaning"
   ]
  },
  {
   "cell_type": "code",
   "execution_count": 14,
   "metadata": {},
   "outputs": [],
   "source": [
    "# remove blank spaces\n",
    "columnas_tdb = tb_diabetes.columns[1:]\n",
    "\n",
    "for c in columnas_tdb:\n",
    "    tb_diabetes = tb_diabetes.with_columns(tb_diabetes[c].str.replace(' ', ''))"
   ]
  },
  {
   "cell_type": "code",
   "execution_count": 21,
   "metadata": {},
   "outputs": [
    {
     "data": {
      "text/html": [
       "<div><style>\n",
       ".dataframe > thead > tr > th,\n",
       ".dataframe > tbody > tr > td {\n",
       "  text-align: right;\n",
       "}\n",
       "</style>\n",
       "<small>shape: (37, 19)</small><table border=\"1\" class=\"dataframe\"><thead><tr><th>State/Uts</th><th>No of TB - Diabetes-TB patients with known DM status, of notified)-Public</th><th>Percentage  of TB - Diabetes-TB patients with known DM status,of notified)-Public</th><th>No of TB - Diabetes-TB patients with known DM status, of notified)-Private</th><th>Percentage  of TB - Diabetes-TB patients with known DM status, of notified)-Private</th><th>No of TB - Diabetes-TB patients with known DM status,of notified)-Total</th><th>Percentage of TB - Diabetes-TB patients with known DM status,  of notified)-Total</th><th>No of TB - Diabetes-Patients diagnosed among tested,of those with known DM status)-Public</th><th>Percentage of TB - Diabetes- Patients diagnosed among tested,of those with known DM status)-Public</th><th>No of TB - Diabetes- Patients diagnosed among tested, of those with known DM status)-Private</th><th>Percentage  of TB - Diabetes-Patients diagnosed among tested,  of those with known DM status)-Private</th><th>No of TB - Diabetes-Patients diagnosed among tested, of those with known DM status)-Total</th><th>Percentage  of TB - Diabetes-  Patients diagnosed among tested, of those with known DM status)-Total</th><th>No of TB - Diabetes- patients initiated on Anti-diabetic treatment, of TB-DM)-Public</th><th>Percentage of TB - Diabetes- patients initiated on Anti-diabetic treatment, of TB-DM)-Public</th><th>No of TB - Diabetes- patients initiated on Anti-diabetic treatment, of TB-DM)-Private</th><th>Percentage of TB - Diabetes- patients initiated on Anti-diabetic treatment, of TB-DM)-Private</th><th>No of TB - Diabetes- patients initiated on Anti-diabetic treatment, of TB-DM)0Total</th><th>Percentage of TB - Diabetes- patients initiated on Anti-diabetic treatment,of TB-DM)0Total</th></tr><tr><td>str</td><td>str</td><td>str</td><td>str</td><td>str</td><td>str</td><td>str</td><td>str</td><td>str</td><td>str</td><td>str</td><td>str</td><td>str</td><td>str</td><td>str</td><td>str</td><td>str</td><td>str</td><td>str</td></tr></thead><tbody><tr><td>&quot;Andaman &amp; Nico…</td><td>&quot;518&quot;</td><td>&quot;95.2&quot;</td><td>&quot;3&quot;</td><td>&quot;75&quot;</td><td>&quot;521&quot;</td><td>&quot;95.1&quot;</td><td>&quot;97&quot;</td><td>&quot;18.7&quot;</td><td>&quot;1&quot;</td><td>&quot;33.3&quot;</td><td>&quot;98&quot;</td><td>&quot;18.8&quot;</td><td>&quot;69&quot;</td><td>&quot;71.1&quot;</td><td>&quot;1&quot;</td><td>&quot;100&quot;</td><td>&quot;70&quot;</td><td>&quot;71.4&quot;</td></tr><tr><td>&quot;Andhra Pradesh…</td><td>&quot;65235&quot;</td><td>&quot;98.7&quot;</td><td>&quot;26883&quot;</td><td>&quot;99.6&quot;</td><td>&quot;92118&quot;</td><td>&quot;98.9&quot;</td><td>&quot;8816&quot;</td><td>&quot;13.5&quot;</td><td>&quot;2940&quot;</td><td>&quot;10.9&quot;</td><td>&quot;11756&quot;</td><td>&quot;12.8&quot;</td><td>&quot;6282&quot;</td><td>&quot;71.3&quot;</td><td>&quot;1671&quot;</td><td>&quot;56.8&quot;</td><td>&quot;7953&quot;</td><td>&quot;67.7&quot;</td></tr><tr><td>&quot;Arunachal Prad…</td><td>&quot;2378&quot;</td><td>&quot;79.0&quot;</td><td>&quot;3&quot;</td><td>&quot;50&quot;</td><td>&quot;2381&quot;</td><td>&quot;79.0&quot;</td><td>&quot;59&quot;</td><td>&quot;2.5&quot;</td><td>&quot;0&quot;</td><td>&quot;0&quot;</td><td>&quot;59&quot;</td><td>&quot;2.5&quot;</td><td>&quot;28&quot;</td><td>&quot;47.5&quot;</td><td>&quot;0&quot;</td><td>&quot;0&quot;</td><td>&quot;28&quot;</td><td>&quot;47.5&quot;</td></tr><tr><td>&quot;Assam&quot;</td><td>&quot;34011&quot;</td><td>&quot;81.0&quot;</td><td>&quot;4929&quot;</td><td>&quot;83.2&quot;</td><td>&quot;38940&quot;</td><td>&quot;81.2&quot;</td><td>&quot;2554&quot;</td><td>&quot;7.5&quot;</td><td>&quot;499&quot;</td><td>&quot;10.1&quot;</td><td>&quot;3053&quot;</td><td>&quot;7.8&quot;</td><td>&quot;1003&quot;</td><td>&quot;39.3&quot;</td><td>&quot;179&quot;</td><td>&quot;35.9&quot;</td><td>&quot;1182&quot;</td><td>&quot;38.7&quot;</td></tr><tr><td>&quot;Bihar&quot;</td><td>&quot;53768&quot;</td><td>&quot;66.1&quot;</td><td>&quot;74114&quot;</td><td>&quot;87.7&quot;</td><td>&quot;127882&quot;</td><td>&quot;77.1&quot;</td><td>&quot;3062&quot;</td><td>&quot;5.7&quot;</td><td>&quot;3801&quot;</td><td>&quot;5.1&quot;</td><td>&quot;6863&quot;</td><td>&quot;5.4&quot;</td><td>&quot;1489&quot;</td><td>&quot;48.6&quot;</td><td>&quot;811&quot;</td><td>&quot;21.3&quot;</td><td>&quot;2300&quot;</td><td>&quot;33.5&quot;</td></tr><tr><td>&quot;Chandigarh&quot;</td><td>&quot;3531&quot;</td><td>&quot;94.9&quot;</td><td>&quot;47&quot;</td><td>&quot;73.4&quot;</td><td>&quot;3578&quot;</td><td>&quot;94.6&quot;</td><td>&quot;316&quot;</td><td>&quot;8.9&quot;</td><td>&quot;5&quot;</td><td>&quot;10.6&quot;</td><td>&quot;321&quot;</td><td>&quot;9.0&quot;</td><td>&quot;248&quot;</td><td>&quot;78.5&quot;</td><td>&quot;5&quot;</td><td>&quot;100&quot;</td><td>&quot;253&quot;</td><td>&quot;78.8&quot;</td></tr><tr><td>&quot;Chhattisgarh&quot;</td><td>&quot;26987&quot;</td><td>&quot;91.6&quot;</td><td>&quot;8243&quot;</td><td>&quot;88.8&quot;</td><td>&quot;35230&quot;</td><td>&quot;91.0&quot;</td><td>&quot;2473&quot;</td><td>&quot;9.2&quot;</td><td>&quot;639&quot;</td><td>&quot;7.8&quot;</td><td>&quot;3112&quot;</td><td>&quot;8.8&quot;</td><td>&quot;1184&quot;</td><td>&quot;47.9&quot;</td><td>&quot;155&quot;</td><td>&quot;24.3&quot;</td><td>&quot;1339&quot;</td><td>&quot;43.0&quot;</td></tr><tr><td>&quot;Dadra and Naga…</td><td>&quot;838&quot;</td><td>&quot;99.2&quot;</td><td>&quot;76&quot;</td><td>&quot;100&quot;</td><td>&quot;914&quot;</td><td>&quot;99.2&quot;</td><td>&quot;56&quot;</td><td>&quot;6.7&quot;</td><td>&quot;3&quot;</td><td>&quot;3.9&quot;</td><td>&quot;59&quot;</td><td>&quot;6.5&quot;</td><td>&quot;46&quot;</td><td>&quot;82.1&quot;</td><td>&quot;2&quot;</td><td>&quot;66.7&quot;</td><td>&quot;48&quot;</td><td>&quot;81.4&quot;</td></tr><tr><td>&quot;Delhi&quot;</td><td>&quot;65700&quot;</td><td>&quot;84.2&quot;</td><td>&quot;5628&quot;</td><td>&quot;55&quot;</td><td>&quot;71328&quot;</td><td>&quot;80.8&quot;</td><td>&quot;5323&quot;</td><td>&quot;8.1&quot;</td><td>&quot;621&quot;</td><td>&quot;11&quot;</td><td>&quot;5944&quot;</td><td>&quot;8.3&quot;</td><td>&quot;2661&quot;</td><td>&quot;50.0&quot;</td><td>&quot;168&quot;</td><td>&quot;27.1&quot;</td><td>&quot;2829&quot;</td><td>&quot;47.6&quot;</td></tr><tr><td>&quot;Goa&quot;</td><td>&quot;1659&quot;</td><td>&quot;98.9&quot;</td><td>&quot;288&quot;</td><td>&quot;72.7&quot;</td><td>&quot;1947&quot;</td><td>&quot;93.9&quot;</td><td>&quot;332&quot;</td><td>&quot;20.0&quot;</td><td>&quot;45&quot;</td><td>&quot;15.6&quot;</td><td>&quot;377&quot;</td><td>&quot;19.4&quot;</td><td>&quot;300&quot;</td><td>&quot;90.4&quot;</td><td>&quot;25&quot;</td><td>&quot;55.6&quot;</td><td>&quot;325&quot;</td><td>&quot;86.2&quot;</td></tr><tr><td>&quot;Gujarat&quot;</td><td>&quot;106333&quot;</td><td>&quot;97.8&quot;</td><td>&quot;35899&quot;</td><td>&quot;90.9&quot;</td><td>&quot;142232&quot;</td><td>&quot;96.0&quot;</td><td>&quot;5343&quot;</td><td>&quot;5.0&quot;</td><td>&quot;1250&quot;</td><td>&quot;3.5&quot;</td><td>&quot;6593&quot;</td><td>&quot;4.6&quot;</td><td>&quot;4304&quot;</td><td>&quot;80.6&quot;</td><td>&quot;991&quot;</td><td>&quot;79.3&quot;</td><td>&quot;5295&quot;</td><td>&quot;80.3&quot;</td></tr><tr><td>&quot;Haryana&quot;</td><td>&quot;58171&quot;</td><td>&quot;95.0&quot;</td><td>&quot;15853&quot;</td><td>&quot;91.1&quot;</td><td>&quot;74024&quot;</td><td>&quot;94.1&quot;</td><td>&quot;4463&quot;</td><td>&quot;7.7&quot;</td><td>&quot;837&quot;</td><td>&quot;5.3&quot;</td><td>&quot;5300&quot;</td><td>&quot;7.2&quot;</td><td>&quot;3357&quot;</td><td>&quot;75.2&quot;</td><td>&quot;560&quot;</td><td>&quot;66.9&quot;</td><td>&quot;3917&quot;</td><td>&quot;73.9&quot;</td></tr><tr><td>&hellip;</td><td>&hellip;</td><td>&hellip;</td><td>&hellip;</td><td>&hellip;</td><td>&hellip;</td><td>&hellip;</td><td>&hellip;</td><td>&hellip;</td><td>&hellip;</td><td>&hellip;</td><td>&hellip;</td><td>&hellip;</td><td>&hellip;</td><td>&hellip;</td><td>&hellip;</td><td>&hellip;</td><td>&hellip;</td><td>&hellip;</td></tr><tr><td>&quot;Odisha&quot;</td><td>&quot;53597&quot;</td><td>&quot;96.5&quot;</td><td>&quot;4141&quot;</td><td>&quot;94.2&quot;</td><td>&quot;57738&quot;</td><td>&quot;96.3&quot;</td><td>&quot;4047&quot;</td><td>&quot;7.6&quot;</td><td>&quot;274&quot;</td><td>&quot;6.6&quot;</td><td>&quot;4321&quot;</td><td>&quot;7.5&quot;</td><td>&quot;3105&quot;</td><td>&quot;76.7&quot;</td><td>&quot;211&quot;</td><td>&quot;77&quot;</td><td>&quot;3316&quot;</td><td>&quot;76.7&quot;</td></tr><tr><td>&quot;Puducherry&quot;</td><td>&quot;1510&quot;</td><td>&quot;99.0&quot;</td><td>&quot;2&quot;</td><td>&quot;100&quot;</td><td>&quot;1512&quot;</td><td>&quot;99.0&quot;</td><td>&quot;464&quot;</td><td>&quot;30.7&quot;</td><td>&quot;0&quot;</td><td>&quot;0&quot;</td><td>&quot;464&quot;</td><td>&quot;30.7&quot;</td><td>&quot;445&quot;</td><td>&quot;95.9&quot;</td><td>&quot;0&quot;</td><td>&quot;0&quot;</td><td>&quot;445&quot;</td><td>&quot;95.9&quot;</td></tr><tr><td>&quot;Punjab&quot;</td><td>&quot;43665&quot;</td><td>&quot;91.5&quot;</td><td>&quot;9006&quot;</td><td>&quot;91.8&quot;</td><td>&quot;52671&quot;</td><td>&quot;91.5&quot;</td><td>&quot;4930&quot;</td><td>&quot;11.3&quot;</td><td>&quot;676&quot;</td><td>&quot;7.5&quot;</td><td>&quot;5606&quot;</td><td>&quot;10.6&quot;</td><td>&quot;2266&quot;</td><td>&quot;46.0&quot;</td><td>&quot;170&quot;</td><td>&quot;25.1&quot;</td><td>&quot;2436&quot;</td><td>&quot;43.5&quot;</td></tr><tr><td>&quot;Rajasthan&quot;</td><td>&quot;119170&quot;</td><td>&quot;90.5&quot;</td><td>&quot;34317&quot;</td><td>&quot;88.8&quot;</td><td>&quot;153487&quot;</td><td>&quot;90.1&quot;</td><td>&quot;3484&quot;</td><td>&quot;2.9&quot;</td><td>&quot;1208&quot;</td><td>&quot;3.5&quot;</td><td>&quot;4692&quot;</td><td>&quot;3.1&quot;</td><td>&quot;2276&quot;</td><td>&quot;65.3&quot;</td><td>&quot;538&quot;</td><td>&quot;44.5&quot;</td><td>&quot;2814&quot;</td><td>&quot;60.0&quot;</td></tr><tr><td>&quot;Sikkim&quot;</td><td>&quot;1305&quot;</td><td>&quot;97.5&quot;</td><td>&quot;71&quot;</td><td>&quot;95.9&quot;</td><td>&quot;1376&quot;</td><td>&quot;97.5&quot;</td><td>&quot;118&quot;</td><td>&quot;9.0&quot;</td><td>&quot;4&quot;</td><td>&quot;5.6&quot;</td><td>&quot;122&quot;</td><td>&quot;8.9&quot;</td><td>&quot;106&quot;</td><td>&quot;89.8&quot;</td><td>&quot;3&quot;</td><td>&quot;75&quot;</td><td>&quot;109&quot;</td><td>&quot;89.3&quot;</td></tr><tr><td>&quot;Tamil Nadu&quot;</td><td>&quot;76635&quot;</td><td>&quot;97.9&quot;</td><td>&quot;16054&quot;</td><td>&quot;90.8&quot;</td><td>&quot;92689&quot;</td><td>&quot;96.6&quot;</td><td>&quot;20196&quot;</td><td>&quot;26.4&quot;</td><td>&quot;3655&quot;</td><td>&quot;22.8&quot;</td><td>&quot;23851&quot;</td><td>&quot;25.7&quot;</td><td>&quot;19144&quot;</td><td>&quot;94.8&quot;</td><td>&quot;3179&quot;</td><td>&quot;87&quot;</td><td>&quot;22323&quot;</td><td>&quot;93.6&quot;</td></tr><tr><td>&quot;Telangana&quot;</td><td>&quot;51411&quot;</td><td>&quot;94.3&quot;</td><td>&quot;17215&quot;</td><td>&quot;92.2&quot;</td><td>&quot;68626&quot;</td><td>&quot;93.7&quot;</td><td>&quot;3250&quot;</td><td>&quot;6.3&quot;</td><td>&quot;892&quot;</td><td>&quot;5.2&quot;</td><td>&quot;4142&quot;</td><td>&quot;6.0&quot;</td><td>&quot;2691&quot;</td><td>&quot;82.8&quot;</td><td>&quot;738&quot;</td><td>&quot;82.7&quot;</td><td>&quot;3429&quot;</td><td>&quot;82.8&quot;</td></tr><tr><td>&quot;Tripura&quot;</td><td>&quot;3078&quot;</td><td>&quot;94.6&quot;</td><td>&quot;34&quot;</td><td>&quot;85&quot;</td><td>&quot;3112&quot;</td><td>&quot;94.4&quot;</td><td>&quot;473&quot;</td><td>&quot;15.4&quot;</td><td>&quot;6&quot;</td><td>&quot;17.6&quot;</td><td>&quot;479&quot;</td><td>&quot;15.4&quot;</td><td>&quot;182&quot;</td><td>&quot;38.5&quot;</td><td>&quot;0&quot;</td><td>&quot;0&quot;</td><td>&quot;182&quot;</td><td>&quot;38.0&quot;</td></tr><tr><td>&quot;Uttar Pradesh&quot;</td><td>&quot;390088&quot;</td><td>&quot;93.0&quot;</td><td>&quot;100893&quot;</td><td>&quot;86.5&quot;</td><td>&quot;490981&quot;</td><td>&quot;91.6&quot;</td><td>&quot;21480&quot;</td><td>&quot;5.5&quot;</td><td>&quot;1968&quot;</td><td>&quot;2&quot;</td><td>&quot;23448&quot;</td><td>&quot;4.8&quot;</td><td>&quot;8161&quot;</td><td>&quot;38.0&quot;</td><td>&quot;670&quot;</td><td>&quot;34&quot;</td><td>&quot;8831&quot;</td><td>&quot;37.7&quot;</td></tr><tr><td>&quot;Uttarakhand&quot;</td><td>&quot;21948&quot;</td><td>&quot;96.6&quot;</td><td>&quot;4339&quot;</td><td>&quot;93.3&quot;</td><td>&quot;26287&quot;</td><td>&quot;96.1&quot;</td><td>&quot;1741&quot;</td><td>&quot;7.9&quot;</td><td>&quot;231&quot;</td><td>&quot;5.3&quot;</td><td>&quot;1972&quot;</td><td>&quot;7.5&quot;</td><td>&quot;670&quot;</td><td>&quot;38.5&quot;</td><td>&quot;121&quot;</td><td>&quot;52.4&quot;</td><td>&quot;791&quot;</td><td>&quot;40.1&quot;</td></tr><tr><td>&quot;West Bengal&quot;</td><td>&quot;87854&quot;</td><td>&quot;93.6&quot;</td><td>&quot;6472&quot;</td><td>&quot;80.9&quot;</td><td>&quot;94326&quot;</td><td>&quot;92.6&quot;</td><td>&quot;12541&quot;</td><td>&quot;14.3&quot;</td><td>&quot;910&quot;</td><td>&quot;14.1&quot;</td><td>&quot;13451&quot;</td><td>&quot;14.3&quot;</td><td>&quot;9590&quot;</td><td>&quot;76.5&quot;</td><td>&quot;710&quot;</td><td>&quot;78&quot;</td><td>&quot;10300&quot;</td><td>&quot;76.6&quot;</td></tr><tr><td>&quot;India&quot;</td><td>&quot;1707030&quot;</td><td>&quot;92.1&quot;</td><td>&quot;508900&quot;</td><td>&quot;89.6&quot;</td><td>&quot;2215930&quot;</td><td>&quot;91.5&quot;</td><td>&quot;143167&quot;</td><td>&quot;8.4&quot;</td><td>&quot;30564&quot;</td><td>&quot;6&quot;</td><td>&quot;173731&quot;</td><td>&quot;7.8&quot;</td><td>&quot;93897&quot;</td><td>&quot;65.6&quot;</td><td>&quot;16161&quot;</td><td>&quot;52.9&quot;</td><td>&quot;110058&quot;</td><td>&quot;63.3&quot;</td></tr></tbody></table></div>"
      ],
      "text/plain": [
       "shape: (37, 19)\n",
       "┌─────────┬────────────┬────────────┬────────────┬───┬────────────┬────────────┬────────────┬────────────┐\n",
       "│ State/U ┆ No of TB - ┆ Percentage ┆ No of TB - ┆ … ┆ No of TB - ┆ Percentage ┆ No of TB - ┆ Percentage │\n",
       "│ ts      ┆ Diabetes-T ┆ of TB -    ┆ Diabetes-T ┆   ┆ Diabetes-  ┆ of TB -    ┆ Diabetes-  ┆ of TB -    │\n",
       "│ ---     ┆ B patients ┆ Diabetes-T ┆ B patients ┆   ┆ patients   ┆ Diabetes-  ┆ patients   ┆ Diabetes-  │\n",
       "│ str     ┆ …          ┆ B …        ┆ …          ┆   ┆ in…        ┆ pat…       ┆ in…        ┆ pat…       │\n",
       "│         ┆ ---        ┆ ---        ┆ ---        ┆   ┆ ---        ┆ ---        ┆ ---        ┆ ---        │\n",
       "│         ┆ str        ┆ str        ┆ str        ┆   ┆ str        ┆ str        ┆ str        ┆ str        │\n",
       "╞═════════╪════════════╪════════════╪════════════╪═══╪════════════╪════════════╪════════════╪════════════╡\n",
       "│ Andaman ┆ 518        ┆ 95.2       ┆ 3          ┆ … ┆ 1          ┆ 100        ┆ 70         ┆ 71.4       │\n",
       "│ &       ┆            ┆            ┆            ┆   ┆            ┆            ┆            ┆            │\n",
       "│ Nicobar ┆            ┆            ┆            ┆   ┆            ┆            ┆            ┆            │\n",
       "│ Islands ┆            ┆            ┆            ┆   ┆            ┆            ┆            ┆            │\n",
       "│ Andhra  ┆ 65235      ┆ 98.7       ┆ 26883      ┆ … ┆ 1671       ┆ 56.8       ┆ 7953       ┆ 67.7       │\n",
       "│ Pradesh ┆            ┆            ┆            ┆   ┆            ┆            ┆            ┆            │\n",
       "│ Arunach ┆ 2378       ┆ 79.0       ┆ 3          ┆ … ┆ 0          ┆ 0          ┆ 28         ┆ 47.5       │\n",
       "│ al      ┆            ┆            ┆            ┆   ┆            ┆            ┆            ┆            │\n",
       "│ Pradesh ┆            ┆            ┆            ┆   ┆            ┆            ┆            ┆            │\n",
       "│ Assam   ┆ 34011      ┆ 81.0       ┆ 4929       ┆ … ┆ 179        ┆ 35.9       ┆ 1182       ┆ 38.7       │\n",
       "│ …       ┆ …          ┆ …          ┆ …          ┆ … ┆ …          ┆ …          ┆ …          ┆ …          │\n",
       "│ Uttar   ┆ 390088     ┆ 93.0       ┆ 100893     ┆ … ┆ 670        ┆ 34         ┆ 8831       ┆ 37.7       │\n",
       "│ Pradesh ┆            ┆            ┆            ┆   ┆            ┆            ┆            ┆            │\n",
       "│ Uttarak ┆ 21948      ┆ 96.6       ┆ 4339       ┆ … ┆ 121        ┆ 52.4       ┆ 791        ┆ 40.1       │\n",
       "│ hand    ┆            ┆            ┆            ┆   ┆            ┆            ┆            ┆            │\n",
       "│ West    ┆ 87854      ┆ 93.6       ┆ 6472       ┆ … ┆ 710        ┆ 78         ┆ 10300      ┆ 76.6       │\n",
       "│ Bengal  ┆            ┆            ┆            ┆   ┆            ┆            ┆            ┆            │\n",
       "│ India   ┆ 1707030    ┆ 92.1       ┆ 508900     ┆ … ┆ 16161      ┆ 52.9       ┆ 110058     ┆ 63.3       │\n",
       "└─────────┴────────────┴────────────┴────────────┴───┴────────────┴────────────┴────────────┴────────────┘"
      ]
     },
     "execution_count": 21,
     "metadata": {},
     "output_type": "execute_result"
    }
   ],
   "source": [
    "# change null values by 0\n",
    "for c in columnas_tdb:\n",
    "    tb_diabetes = tb_diabetes.with_columns(tb_diabetes[c].str.replace('NA', '0'))"
   ]
  },
  {
   "cell_type": "code",
   "execution_count": 29,
   "metadata": {},
   "outputs": [],
   "source": [
    "# change column data type\n",
    "tb_diabetes = tb_diabetes.with_columns(tb_diabetes['No of TB - Diabetes- Patients diagnosed among tested, of those with known DM status)-Private'].cast(pl.Int64))\n",
    "tb_diabetes = tb_diabetes.with_columns(tb_diabetes['No of TB - Diabetes-TB patients with known DM status, of notified)-Public'].cast(pl.Int64))\n",
    "tb_diabetes = tb_diabetes.with_columns(tb_diabetes['No of TB - Diabetes-TB patients with known DM status, of notified)-Private'].cast(pl.Int64))\n",
    "tb_diabetes = tb_diabetes.with_columns(tb_diabetes['No of TB - Diabetes-TB patients with known DM status,of notified)-Total'].cast(pl.Int64))\n",
    "tb_diabetes = tb_diabetes.with_columns(tb_diabetes['No of TB - Diabetes-Patients diagnosed among tested,of those with known DM status)-Public'].cast(pl.Int64))\n",
    "tb_diabetes = tb_diabetes.with_columns(tb_diabetes['No of TB - Diabetes- patients initiated on Anti-diabetic treatment, of TB-DM)-Public'].cast(pl.Int64))\n",
    "tb_diabetes = tb_diabetes.with_columns(tb_diabetes['No of TB - Diabetes- patients initiated on Anti-diabetic treatment, of TB-DM)-Private'].cast(pl.Int64))\n",
    "tb_diabetes = tb_diabetes.with_columns(tb_diabetes['No of TB - Diabetes- patients initiated on Anti-diabetic treatment, of TB-DM)0Total'].cast(pl.Int64))"
   ]
  },
  {
   "cell_type": "code",
   "execution_count": 45,
   "metadata": {},
   "outputs": [],
   "source": [
    "tb_diabetes = tb_diabetes.with_columns(tb_diabetes[tb_diabetes.columns[2]].cast(pl.Float64))\n",
    "tb_diabetes = tb_diabetes.with_columns(tb_diabetes[tb_diabetes.columns[4]].cast(pl.Float64))\n",
    "tb_diabetes = tb_diabetes.with_columns(tb_diabetes[tb_diabetes.columns[6]].cast(pl.Float64))\n",
    "tb_diabetes = tb_diabetes.with_columns(tb_diabetes[tb_diabetes.columns[8]].cast(pl.Float64))\n",
    "tb_diabetes = tb_diabetes.with_columns(tb_diabetes[tb_diabetes.columns[10]].cast(pl.Float64))\n",
    "tb_diabetes = tb_diabetes.with_columns(tb_diabetes[tb_diabetes.columns[11]].cast(pl.Float64))\n",
    "tb_diabetes = tb_diabetes.with_columns(tb_diabetes[tb_diabetes.columns[12]].cast(pl.Float64))\n",
    "tb_diabetes = tb_diabetes.with_columns(tb_diabetes[tb_diabetes.columns[14]].cast(pl.Float64))\n",
    "tb_diabetes = tb_diabetes.with_columns(tb_diabetes[tb_diabetes.columns[16]].cast(pl.Float64))\n",
    "tb_diabetes = tb_diabetes.with_columns(tb_diabetes[tb_diabetes.columns[18]].cast(pl.Float64))"
   ]
  },
  {
   "cell_type": "code",
   "execution_count": 46,
   "metadata": {},
   "outputs": [
    {
     "data": {
      "text/html": [
       "<div><style>\n",
       ".dataframe > thead > tr > th,\n",
       ".dataframe > tbody > tr > td {\n",
       "  text-align: right;\n",
       "}\n",
       "</style>\n",
       "<small>shape: (37, 19)</small><table border=\"1\" class=\"dataframe\"><thead><tr><th>State/Uts</th><th>No of TB - Diabetes-TB patients with known DM status, of notified)-Public</th><th>Percentage  of TB - Diabetes-TB patients with known DM status,of notified)-Public</th><th>No of TB - Diabetes-TB patients with known DM status, of notified)-Private</th><th>Percentage  of TB - Diabetes-TB patients with known DM status, of notified)-Private</th><th>No of TB - Diabetes-TB patients with known DM status,of notified)-Total</th><th>Percentage of TB - Diabetes-TB patients with known DM status,  of notified)-Total</th><th>No of TB - Diabetes-Patients diagnosed among tested,of those with known DM status)-Public</th><th>Percentage of TB - Diabetes- Patients diagnosed among tested,of those with known DM status)-Public</th><th>No of TB - Diabetes- Patients diagnosed among tested, of those with known DM status)-Private</th><th>Percentage  of TB - Diabetes-Patients diagnosed among tested,  of those with known DM status)-Private</th><th>No of TB - Diabetes-Patients diagnosed among tested, of those with known DM status)-Total</th><th>Percentage  of TB - Diabetes-  Patients diagnosed among tested, of those with known DM status)-Total</th><th>No of TB - Diabetes- patients initiated on Anti-diabetic treatment, of TB-DM)-Public</th><th>Percentage of TB - Diabetes- patients initiated on Anti-diabetic treatment, of TB-DM)-Public</th><th>No of TB - Diabetes- patients initiated on Anti-diabetic treatment, of TB-DM)-Private</th><th>Percentage of TB - Diabetes- patients initiated on Anti-diabetic treatment, of TB-DM)-Private</th><th>No of TB - Diabetes- patients initiated on Anti-diabetic treatment, of TB-DM)0Total</th><th>Percentage of TB - Diabetes- patients initiated on Anti-diabetic treatment,of TB-DM)0Total</th></tr><tr><td>str</td><td>i64</td><td>f64</td><td>i64</td><td>f64</td><td>i64</td><td>f64</td><td>i64</td><td>f64</td><td>i64</td><td>f64</td><td>f64</td><td>f64</td><td>i64</td><td>f64</td><td>i64</td><td>f64</td><td>i64</td><td>f64</td></tr></thead><tbody><tr><td>&quot;Andaman &amp; Nico…</td><td>518</td><td>95.2</td><td>3</td><td>75.0</td><td>521</td><td>95.1</td><td>97</td><td>18.7</td><td>1</td><td>33.3</td><td>98.0</td><td>18.8</td><td>69</td><td>71.1</td><td>1</td><td>100.0</td><td>70</td><td>71.4</td></tr><tr><td>&quot;Andhra Pradesh…</td><td>65235</td><td>98.7</td><td>26883</td><td>99.6</td><td>92118</td><td>98.9</td><td>8816</td><td>13.5</td><td>2940</td><td>10.9</td><td>11756.0</td><td>12.8</td><td>6282</td><td>71.3</td><td>1671</td><td>56.8</td><td>7953</td><td>67.7</td></tr><tr><td>&quot;Arunachal Prad…</td><td>2378</td><td>79.0</td><td>3</td><td>50.0</td><td>2381</td><td>79.0</td><td>59</td><td>2.5</td><td>0</td><td>0.0</td><td>59.0</td><td>2.5</td><td>28</td><td>47.5</td><td>0</td><td>0.0</td><td>28</td><td>47.5</td></tr><tr><td>&quot;Assam&quot;</td><td>34011</td><td>81.0</td><td>4929</td><td>83.2</td><td>38940</td><td>81.2</td><td>2554</td><td>7.5</td><td>499</td><td>10.1</td><td>3053.0</td><td>7.8</td><td>1003</td><td>39.3</td><td>179</td><td>35.9</td><td>1182</td><td>38.7</td></tr><tr><td>&quot;Bihar&quot;</td><td>53768</td><td>66.1</td><td>74114</td><td>87.7</td><td>127882</td><td>77.1</td><td>3062</td><td>5.7</td><td>3801</td><td>5.1</td><td>6863.0</td><td>5.4</td><td>1489</td><td>48.6</td><td>811</td><td>21.3</td><td>2300</td><td>33.5</td></tr><tr><td>&quot;Chandigarh&quot;</td><td>3531</td><td>94.9</td><td>47</td><td>73.4</td><td>3578</td><td>94.6</td><td>316</td><td>8.9</td><td>5</td><td>10.6</td><td>321.0</td><td>9.0</td><td>248</td><td>78.5</td><td>5</td><td>100.0</td><td>253</td><td>78.8</td></tr><tr><td>&quot;Chhattisgarh&quot;</td><td>26987</td><td>91.6</td><td>8243</td><td>88.8</td><td>35230</td><td>91.0</td><td>2473</td><td>9.2</td><td>639</td><td>7.8</td><td>3112.0</td><td>8.8</td><td>1184</td><td>47.9</td><td>155</td><td>24.3</td><td>1339</td><td>43.0</td></tr><tr><td>&quot;Dadra and Naga…</td><td>838</td><td>99.2</td><td>76</td><td>100.0</td><td>914</td><td>99.2</td><td>56</td><td>6.7</td><td>3</td><td>3.9</td><td>59.0</td><td>6.5</td><td>46</td><td>82.1</td><td>2</td><td>66.7</td><td>48</td><td>81.4</td></tr><tr><td>&quot;Delhi&quot;</td><td>65700</td><td>84.2</td><td>5628</td><td>55.0</td><td>71328</td><td>80.8</td><td>5323</td><td>8.1</td><td>621</td><td>11.0</td><td>5944.0</td><td>8.3</td><td>2661</td><td>50.0</td><td>168</td><td>27.1</td><td>2829</td><td>47.6</td></tr><tr><td>&quot;Goa&quot;</td><td>1659</td><td>98.9</td><td>288</td><td>72.7</td><td>1947</td><td>93.9</td><td>332</td><td>20.0</td><td>45</td><td>15.6</td><td>377.0</td><td>19.4</td><td>300</td><td>90.4</td><td>25</td><td>55.6</td><td>325</td><td>86.2</td></tr><tr><td>&quot;Gujarat&quot;</td><td>106333</td><td>97.8</td><td>35899</td><td>90.9</td><td>142232</td><td>96.0</td><td>5343</td><td>5.0</td><td>1250</td><td>3.5</td><td>6593.0</td><td>4.6</td><td>4304</td><td>80.6</td><td>991</td><td>79.3</td><td>5295</td><td>80.3</td></tr><tr><td>&quot;Haryana&quot;</td><td>58171</td><td>95.0</td><td>15853</td><td>91.1</td><td>74024</td><td>94.1</td><td>4463</td><td>7.7</td><td>837</td><td>5.3</td><td>5300.0</td><td>7.2</td><td>3357</td><td>75.2</td><td>560</td><td>66.9</td><td>3917</td><td>73.9</td></tr><tr><td>&hellip;</td><td>&hellip;</td><td>&hellip;</td><td>&hellip;</td><td>&hellip;</td><td>&hellip;</td><td>&hellip;</td><td>&hellip;</td><td>&hellip;</td><td>&hellip;</td><td>&hellip;</td><td>&hellip;</td><td>&hellip;</td><td>&hellip;</td><td>&hellip;</td><td>&hellip;</td><td>&hellip;</td><td>&hellip;</td><td>&hellip;</td></tr><tr><td>&quot;Odisha&quot;</td><td>53597</td><td>96.5</td><td>4141</td><td>94.2</td><td>57738</td><td>96.3</td><td>4047</td><td>7.6</td><td>274</td><td>6.6</td><td>4321.0</td><td>7.5</td><td>3105</td><td>76.7</td><td>211</td><td>77.0</td><td>3316</td><td>76.7</td></tr><tr><td>&quot;Puducherry&quot;</td><td>1510</td><td>99.0</td><td>2</td><td>100.0</td><td>1512</td><td>99.0</td><td>464</td><td>30.7</td><td>0</td><td>0.0</td><td>464.0</td><td>30.7</td><td>445</td><td>95.9</td><td>0</td><td>0.0</td><td>445</td><td>95.9</td></tr><tr><td>&quot;Punjab&quot;</td><td>43665</td><td>91.5</td><td>9006</td><td>91.8</td><td>52671</td><td>91.5</td><td>4930</td><td>11.3</td><td>676</td><td>7.5</td><td>5606.0</td><td>10.6</td><td>2266</td><td>46.0</td><td>170</td><td>25.1</td><td>2436</td><td>43.5</td></tr><tr><td>&quot;Rajasthan&quot;</td><td>119170</td><td>90.5</td><td>34317</td><td>88.8</td><td>153487</td><td>90.1</td><td>3484</td><td>2.9</td><td>1208</td><td>3.5</td><td>4692.0</td><td>3.1</td><td>2276</td><td>65.3</td><td>538</td><td>44.5</td><td>2814</td><td>60.0</td></tr><tr><td>&quot;Sikkim&quot;</td><td>1305</td><td>97.5</td><td>71</td><td>95.9</td><td>1376</td><td>97.5</td><td>118</td><td>9.0</td><td>4</td><td>5.6</td><td>122.0</td><td>8.9</td><td>106</td><td>89.8</td><td>3</td><td>75.0</td><td>109</td><td>89.3</td></tr><tr><td>&quot;Tamil Nadu&quot;</td><td>76635</td><td>97.9</td><td>16054</td><td>90.8</td><td>92689</td><td>96.6</td><td>20196</td><td>26.4</td><td>3655</td><td>22.8</td><td>23851.0</td><td>25.7</td><td>19144</td><td>94.8</td><td>3179</td><td>87.0</td><td>22323</td><td>93.6</td></tr><tr><td>&quot;Telangana&quot;</td><td>51411</td><td>94.3</td><td>17215</td><td>92.2</td><td>68626</td><td>93.7</td><td>3250</td><td>6.3</td><td>892</td><td>5.2</td><td>4142.0</td><td>6.0</td><td>2691</td><td>82.8</td><td>738</td><td>82.7</td><td>3429</td><td>82.8</td></tr><tr><td>&quot;Tripura&quot;</td><td>3078</td><td>94.6</td><td>34</td><td>85.0</td><td>3112</td><td>94.4</td><td>473</td><td>15.4</td><td>6</td><td>17.6</td><td>479.0</td><td>15.4</td><td>182</td><td>38.5</td><td>0</td><td>0.0</td><td>182</td><td>38.0</td></tr><tr><td>&quot;Uttar Pradesh&quot;</td><td>390088</td><td>93.0</td><td>100893</td><td>86.5</td><td>490981</td><td>91.6</td><td>21480</td><td>5.5</td><td>1968</td><td>2.0</td><td>23448.0</td><td>4.8</td><td>8161</td><td>38.0</td><td>670</td><td>34.0</td><td>8831</td><td>37.7</td></tr><tr><td>&quot;Uttarakhand&quot;</td><td>21948</td><td>96.6</td><td>4339</td><td>93.3</td><td>26287</td><td>96.1</td><td>1741</td><td>7.9</td><td>231</td><td>5.3</td><td>1972.0</td><td>7.5</td><td>670</td><td>38.5</td><td>121</td><td>52.4</td><td>791</td><td>40.1</td></tr><tr><td>&quot;West Bengal&quot;</td><td>87854</td><td>93.6</td><td>6472</td><td>80.9</td><td>94326</td><td>92.6</td><td>12541</td><td>14.3</td><td>910</td><td>14.1</td><td>13451.0</td><td>14.3</td><td>9590</td><td>76.5</td><td>710</td><td>78.0</td><td>10300</td><td>76.6</td></tr><tr><td>&quot;India&quot;</td><td>1707030</td><td>92.1</td><td>508900</td><td>89.6</td><td>2215930</td><td>91.5</td><td>143167</td><td>8.4</td><td>30564</td><td>6.0</td><td>173731.0</td><td>7.8</td><td>93897</td><td>65.6</td><td>16161</td><td>52.9</td><td>110058</td><td>63.3</td></tr></tbody></table></div>"
      ],
      "text/plain": [
       "shape: (37, 19)\n",
       "┌─────────┬────────────┬────────────┬────────────┬───┬────────────┬────────────┬────────────┬────────────┐\n",
       "│ State/U ┆ No of TB - ┆ Percentage ┆ No of TB - ┆ … ┆ No of TB - ┆ Percentage ┆ No of TB - ┆ Percentage │\n",
       "│ ts      ┆ Diabetes-T ┆ of TB -    ┆ Diabetes-T ┆   ┆ Diabetes-  ┆ of TB -    ┆ Diabetes-  ┆ of TB -    │\n",
       "│ ---     ┆ B patients ┆ Diabetes-T ┆ B patients ┆   ┆ patients   ┆ Diabetes-  ┆ patients   ┆ Diabetes-  │\n",
       "│ str     ┆ …          ┆ B …        ┆ …          ┆   ┆ in…        ┆ pat…       ┆ in…        ┆ pat…       │\n",
       "│         ┆ ---        ┆ ---        ┆ ---        ┆   ┆ ---        ┆ ---        ┆ ---        ┆ ---        │\n",
       "│         ┆ i64        ┆ f64        ┆ i64        ┆   ┆ i64        ┆ f64        ┆ i64        ┆ f64        │\n",
       "╞═════════╪════════════╪════════════╪════════════╪═══╪════════════╪════════════╪════════════╪════════════╡\n",
       "│ Andaman ┆ 518        ┆ 95.2       ┆ 3          ┆ … ┆ 1          ┆ 100.0      ┆ 70         ┆ 71.4       │\n",
       "│ &       ┆            ┆            ┆            ┆   ┆            ┆            ┆            ┆            │\n",
       "│ Nicobar ┆            ┆            ┆            ┆   ┆            ┆            ┆            ┆            │\n",
       "│ Islands ┆            ┆            ┆            ┆   ┆            ┆            ┆            ┆            │\n",
       "│ Andhra  ┆ 65235      ┆ 98.7       ┆ 26883      ┆ … ┆ 1671       ┆ 56.8       ┆ 7953       ┆ 67.7       │\n",
       "│ Pradesh ┆            ┆            ┆            ┆   ┆            ┆            ┆            ┆            │\n",
       "│ Arunach ┆ 2378       ┆ 79.0       ┆ 3          ┆ … ┆ 0          ┆ 0.0        ┆ 28         ┆ 47.5       │\n",
       "│ al      ┆            ┆            ┆            ┆   ┆            ┆            ┆            ┆            │\n",
       "│ Pradesh ┆            ┆            ┆            ┆   ┆            ┆            ┆            ┆            │\n",
       "│ Assam   ┆ 34011      ┆ 81.0       ┆ 4929       ┆ … ┆ 179        ┆ 35.9       ┆ 1182       ┆ 38.7       │\n",
       "│ …       ┆ …          ┆ …          ┆ …          ┆ … ┆ …          ┆ …          ┆ …          ┆ …          │\n",
       "│ Uttar   ┆ 390088     ┆ 93.0       ┆ 100893     ┆ … ┆ 670        ┆ 34.0       ┆ 8831       ┆ 37.7       │\n",
       "│ Pradesh ┆            ┆            ┆            ┆   ┆            ┆            ┆            ┆            │\n",
       "│ Uttarak ┆ 21948      ┆ 96.6       ┆ 4339       ┆ … ┆ 121        ┆ 52.4       ┆ 791        ┆ 40.1       │\n",
       "│ hand    ┆            ┆            ┆            ┆   ┆            ┆            ┆            ┆            │\n",
       "│ West    ┆ 87854      ┆ 93.6       ┆ 6472       ┆ … ┆ 710        ┆ 78.0       ┆ 10300      ┆ 76.6       │\n",
       "│ Bengal  ┆            ┆            ┆            ┆   ┆            ┆            ┆            ┆            │\n",
       "│ India   ┆ 1707030    ┆ 92.1       ┆ 508900     ┆ … ┆ 16161      ┆ 52.9       ┆ 110058     ┆ 63.3       │\n",
       "└─────────┴────────────┴────────────┴────────────┴───┴────────────┴────────────┴────────────┴────────────┘"
      ]
     },
     "execution_count": 46,
     "metadata": {},
     "output_type": "execute_result"
    }
   ],
   "source": [
    "tb_diabetes"
   ]
  }
 ],
 "metadata": {
  "kernelspec": {
   "display_name": "Python 3",
   "language": "python",
   "name": "python3"
  },
  "language_info": {
   "codemirror_mode": {
    "name": "ipython",
    "version": 3
   },
   "file_extension": ".py",
   "mimetype": "text/x-python",
   "name": "python",
   "nbconvert_exporter": "python",
   "pygments_lexer": "ipython3",
   "version": "3.11.4"
  },
  "orig_nbformat": 4
 },
 "nbformat": 4,
 "nbformat_minor": 2
}
