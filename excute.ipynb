{
 "cells": [
  {
   "cell_type": "code",
   "execution_count": 1,
   "metadata": {},
   "outputs": [],
   "source": [
    "import numpy as np\n",
    "import pandas as pd\n",
    "import polars as pl\n",
    "import seaborn as sns\n",
    "import matplotlib.pyplot as plt"
   ]
  },
  {
   "cell_type": "code",
   "execution_count": 17,
   "metadata": {},
   "outputs": [],
   "source": [
    "tb_diabetes = pl.read_csv('2.10_TB_Diabetes.csv')\n",
    "tb_tabaco = pl.read_csv('2.11_TB_Tobacco.csv')\n",
    "tb_alcohol = pl.read_csv('2.12_TB_Alcohol.csv')"
   ]
  },
  {
   "cell_type": "markdown",
   "metadata": {},
   "source": [
    "## Data cleaning with Pola.rs"
   ]
  },
  {
   "cell_type": "code",
   "execution_count": null,
   "metadata": {},
   "outputs": [],
   "source": [
    "tb_diabetes"
   ]
  },
  {
   "cell_type": "code",
   "execution_count": 4,
   "metadata": {},
   "outputs": [],
   "source": [
    "# remove blank spaces\n",
    "columnas_tdb = tb_diabetes.columns[1:]\n",
    "\n",
    "for c in columnas_tdb:\n",
    "    tb_diabetes = tb_diabetes.with_columns(tb_diabetes[c].str.replace(' ', ''))"
   ]
  },
  {
   "cell_type": "code",
   "execution_count": 5,
   "metadata": {},
   "outputs": [],
   "source": [
    "# change null values by 0\n",
    "for c in columnas_tdb:\n",
    "    tb_diabetes = tb_diabetes.with_columns(tb_diabetes[c].str.replace('NA', '0'))"
   ]
  },
  {
   "cell_type": "code",
   "execution_count": 6,
   "metadata": {},
   "outputs": [],
   "source": [
    "# change column data type\n",
    "tb_diabetes = tb_diabetes.with_columns(tb_diabetes['No of TB - Diabetes- Patients diagnosed among tested, of those with known DM status)-Private'].cast(pl.Int64))\n",
    "tb_diabetes = tb_diabetes.with_columns(tb_diabetes['No of TB - Diabetes-TB patients with known DM status, of notified)-Public'].cast(pl.Int64))\n",
    "tb_diabetes = tb_diabetes.with_columns(tb_diabetes['No of TB - Diabetes-TB patients with known DM status, of notified)-Private'].cast(pl.Int64))\n",
    "tb_diabetes = tb_diabetes.with_columns(tb_diabetes['No of TB - Diabetes-TB patients with known DM status,of notified)-Total'].cast(pl.Int64))\n",
    "tb_diabetes = tb_diabetes.with_columns(tb_diabetes['No of TB - Diabetes-Patients diagnosed among tested,of those with known DM status)-Public'].cast(pl.Int64))\n",
    "tb_diabetes = tb_diabetes.with_columns(tb_diabetes['No of TB - Diabetes- patients initiated on Anti-diabetic treatment, of TB-DM)-Public'].cast(pl.Int64))\n",
    "tb_diabetes = tb_diabetes.with_columns(tb_diabetes['No of TB - Diabetes- patients initiated on Anti-diabetic treatment, of TB-DM)-Private'].cast(pl.Int64))\n",
    "tb_diabetes = tb_diabetes.with_columns(tb_diabetes['No of TB - Diabetes- patients initiated on Anti-diabetic treatment, of TB-DM)0Total'].cast(pl.Int64))"
   ]
  },
  {
   "cell_type": "code",
   "execution_count": 7,
   "metadata": {},
   "outputs": [],
   "source": [
    "tb_diabetes = tb_diabetes.with_columns(tb_diabetes[tb_diabetes.columns[2]].cast(pl.Float64))\n",
    "tb_diabetes = tb_diabetes.with_columns(tb_diabetes[tb_diabetes.columns[4]].cast(pl.Float64))\n",
    "tb_diabetes = tb_diabetes.with_columns(tb_diabetes[tb_diabetes.columns[6]].cast(pl.Float64))\n",
    "tb_diabetes = tb_diabetes.with_columns(tb_diabetes[tb_diabetes.columns[8]].cast(pl.Float64))\n",
    "tb_diabetes = tb_diabetes.with_columns(tb_diabetes[tb_diabetes.columns[10]].cast(pl.Float64))\n",
    "tb_diabetes = tb_diabetes.with_columns(tb_diabetes[tb_diabetes.columns[11]].cast(pl.Float64))\n",
    "tb_diabetes = tb_diabetes.with_columns(tb_diabetes[tb_diabetes.columns[12]].cast(pl.Float64))\n",
    "tb_diabetes = tb_diabetes.with_columns(tb_diabetes[tb_diabetes.columns[14]].cast(pl.Float64))\n",
    "tb_diabetes = tb_diabetes.with_columns(tb_diabetes[tb_diabetes.columns[16]].cast(pl.Float64))\n",
    "tb_diabetes = tb_diabetes.with_columns(tb_diabetes[tb_diabetes.columns[18]].cast(pl.Float64))"
   ]
  },
  {
   "cell_type": "code",
   "execution_count": null,
   "metadata": {},
   "outputs": [],
   "source": [
    "tb_diabetes"
   ]
  },
  {
   "cell_type": "code",
   "execution_count": null,
   "metadata": {},
   "outputs": [],
   "source": [
    "# apply the same formatting for the other tables\n",
    "tb_alcohol"
   ]
  },
  {
   "cell_type": "code",
   "execution_count": 9,
   "metadata": {},
   "outputs": [],
   "source": [
    "columnas_tba = tb_alcohol.columns[1:]\n",
    "\n",
    "for c in columnas_tba:\n",
    "    tb_alcohol = tb_alcohol.with_columns(tb_alcohol[c].str.replace(' ', ''))"
   ]
  },
  {
   "cell_type": "code",
   "execution_count": 10,
   "metadata": {},
   "outputs": [],
   "source": [
    "for c in columnas_tba:\n",
    "    tb_alcohol = tb_alcohol.with_columns(tb_alcohol[c].str.replace('NA', '0'))"
   ]
  },
  {
   "cell_type": "code",
   "execution_count": 13,
   "metadata": {},
   "outputs": [],
   "source": [
    "# mass convert\n",
    "for i in range(1,len(tb_alcohol.columns)):\n",
    "    if i%2 == 0:\n",
    "        tb_alcohol = tb_alcohol.with_columns(tb_alcohol[tb_alcohol.columns[i]].cast(pl.Float64))\n",
    "    else:\n",
    "        tb_alcohol = tb_alcohol.with_columns(tb_alcohol[tb_alcohol.columns[i]].cast(pl.Int64))"
   ]
  },
  {
   "cell_type": "code",
   "execution_count": null,
   "metadata": {},
   "outputs": [],
   "source": [
    "tb_alcohol"
   ]
  },
  {
   "cell_type": "code",
   "execution_count": null,
   "metadata": {},
   "outputs": [],
   "source": [
    "tb_tabaco"
   ]
  },
  {
   "cell_type": "code",
   "execution_count": 21,
   "metadata": {},
   "outputs": [],
   "source": [
    "columnas_tbt = tb_tabaco.columns[1:]\n",
    "\n",
    "for c in columnas_tbt:\n",
    "    tb_tabaco = tb_tabaco.with_columns(tb_tabaco[c].str.replace(' ', ''))\n",
    "\n",
    "for c in columnas_tbt:\n",
    "    tb_tabaco = tb_tabaco.with_columns(tb_tabaco[c].str.replace('NA', '0'))"
   ]
  },
  {
   "cell_type": "code",
   "execution_count": 22,
   "metadata": {},
   "outputs": [],
   "source": [
    "for i in range(1,len(tb_tabaco.columns)):\n",
    "    if i%2 == 0:\n",
    "        tb_tabaco = tb_tabaco.with_columns(tb_tabaco[tb_tabaco.columns[i]].cast(pl.Float64))\n",
    "    else:\n",
    "        tb_tabaco = tb_tabaco.with_columns(tb_tabaco[tb_tabaco.columns[i]].cast(pl.Int64))"
   ]
  },
  {
   "cell_type": "code",
   "execution_count": 23,
   "metadata": {},
   "outputs": [
    {
     "data": {
      "text/html": [
       "<div><style>\n",
       ".dataframe > thead > tr > th,\n",
       ".dataframe > tbody > tr > td {\n",
       "  text-align: right;\n",
       "}\n",
       "</style>\n",
       "<small>shape: (37, 19)</small><table border=\"1\" class=\"dataframe\"><thead><tr><th>State/Uts</th><th>No of Tobacco-TB patients with known Tobacco usage status, of notified)-Public</th><th>% of Tobacco-TB patients with known Tobacco usage status, of notified)-Public</th><th>No of Tobacco-TB patients with known Tobacco usage status,of notified)-Private</th><th>% of Tobacco-TB patients with known Tobacco usage status,  of notified)-Private</th><th>No of Tobacco-TB patients with known Tobacco usage status,  of notified)-Total</th><th>% of Tobacco-TB patients with known Tobacco usage status, of notified)-Total</th><th>No of Tobacco users identified amongst screened,  of those with known tobacco usage status)-Public</th><th>Percentage of Tobacco users identified amongst screened,  of those with known tobacco usage status)-Public</th><th>No of Tobacco users identified amongst screened,of those with known tobacco usage status)-Private</th><th>Percentage of Tobacco users identified amongst screened,  of those with known tobacco usage status)-Private</th><th>No of Tobacco users identified amongst screened,of those with known tobacco usage status)-Total</th><th>Percentage  of Tobacco users identified amongst screened, of those with known tobacco usage status)-Total</th><th>No of Tobacco users linked with Tobacco cessation centres, of tobacco users)-Public</th><th>Percentage  of Tobacco users linked with Tobacco cessation centres, of tobacco users)-Public</th><th>No of Tobacco users linked with Tobacco cessation centres,of tobacco users)-Private</th><th>Percentage  of Tobacco users linked with Tobacco cessation centres, n (% of tobacco users)-Private</th><th>No of Tobacco users linked with Tobacco cessation centres, of tobacco users)-Total</th><th>Percentage  of Tobacco users linked with Tobacco cessation centres, of tobacco users)-Total</th></tr><tr><td>str</td><td>i64</td><td>f64</td><td>i64</td><td>f64</td><td>i64</td><td>f64</td><td>i64</td><td>f64</td><td>i64</td><td>f64</td><td>i64</td><td>f64</td><td>i64</td><td>f64</td><td>i64</td><td>f64</td><td>i64</td><td>f64</td></tr></thead><tbody><tr><td>&quot;Andaman &amp; Nico…</td><td>495</td><td>91.0</td><td>3</td><td>75.0</td><td>498</td><td>90.9</td><td>89</td><td>18.0</td><td>0</td><td>0.0</td><td>89</td><td>17.9</td><td>30</td><td>33.7</td><td>0</td><td>0.0</td><td>30</td><td>33.7</td></tr><tr><td>&quot;Andhra Pradesh…</td><td>63627</td><td>96.2</td><td>26477</td><td>98.1</td><td>90104</td><td>96.8</td><td>9786</td><td>15.4</td><td>1409</td><td>5.3</td><td>11195</td><td>12.4</td><td>2456</td><td>25.1</td><td>326</td><td>23.1</td><td>2782</td><td>24.9</td></tr><tr><td>&quot;Arunachal Prad…</td><td>2256</td><td>75.0</td><td>3</td><td>50.0</td><td>2259</td><td>74.9</td><td>303</td><td>13.4</td><td>0</td><td>0.0</td><td>303</td><td>13.4</td><td>171</td><td>56.4</td><td>0</td><td>0.0</td><td>171</td><td>56.4</td></tr><tr><td>&quot;Assam&quot;</td><td>30134</td><td>71.7</td><td>4074</td><td>68.8</td><td>34208</td><td>71.4</td><td>7929</td><td>26.3</td><td>325</td><td>8.0</td><td>8254</td><td>24.1</td><td>1497</td><td>18.9</td><td>93</td><td>28.6</td><td>1590</td><td>19.3</td></tr><tr><td>&quot;Bihar&quot;</td><td>44248</td><td>54.4</td><td>36165</td><td>42.8</td><td>80413</td><td>48.5</td><td>4139</td><td>9.4</td><td>1152</td><td>3.2</td><td>5291</td><td>6.6</td><td>917</td><td>22.2</td><td>41</td><td>3.6</td><td>958</td><td>18.1</td></tr><tr><td>&quot;Chandigarh&quot;</td><td>3508</td><td>94.3</td><td>47</td><td>73.4</td><td>3555</td><td>94.0</td><td>305</td><td>8.7</td><td>2</td><td>4.3</td><td>307</td><td>8.6</td><td>60</td><td>19.7</td><td>0</td><td>0.0</td><td>60</td><td>19.5</td></tr><tr><td>&quot;Chhattisgarh&quot;</td><td>25332</td><td>86.0</td><td>5815</td><td>62.7</td><td>31147</td><td>80.4</td><td>7986</td><td>31.5</td><td>336</td><td>5.8</td><td>8322</td><td>26.7</td><td>3595</td><td>45.0</td><td>140</td><td>41.7</td><td>3735</td><td>44.9</td></tr><tr><td>&quot;Dadra and Naga…</td><td>548</td><td>64.9</td><td>57</td><td>75.0</td><td>605</td><td>65.7</td><td>67</td><td>12.2</td><td>2</td><td>3.5</td><td>69</td><td>11.4</td><td>38</td><td>56.7</td><td>2</td><td>100.0</td><td>40</td><td>58.0</td></tr><tr><td>&quot;Delhi&quot;</td><td>51623</td><td>66.2</td><td>1686</td><td>16.5</td><td>53309</td><td>60.4</td><td>3440</td><td>6.7</td><td>16</td><td>0.9</td><td>3456</td><td>6.5</td><td>777</td><td>22.6</td><td>5</td><td>31.3</td><td>782</td><td>22.6</td></tr><tr><td>&quot;Goa&quot;</td><td>1553</td><td>92.6</td><td>27</td><td>6.8</td><td>1580</td><td>76.2</td><td>105</td><td>6.8</td><td>1</td><td>3.7</td><td>106</td><td>6.7</td><td>8</td><td>7.6</td><td>1</td><td>100.0</td><td>9</td><td>8.5</td></tr><tr><td>&quot;Gujarat&quot;</td><td>104192</td><td>95.9</td><td>35780</td><td>90.6</td><td>139972</td><td>94.5</td><td>16920</td><td>16.2</td><td>2365</td><td>6.6</td><td>19285</td><td>13.8</td><td>7145</td><td>42.2</td><td>895</td><td>37.8</td><td>8040</td><td>41.7</td></tr><tr><td>&quot;Haryana&quot;</td><td>54848</td><td>89.5</td><td>14373</td><td>82.6</td><td>69221</td><td>88.0</td><td>2572</td><td>4.7</td><td>486</td><td>3.4</td><td>3058</td><td>4.4</td><td>1044</td><td>40.6</td><td>161</td><td>33.1</td><td>1205</td><td>39.4</td></tr><tr><td>&hellip;</td><td>&hellip;</td><td>&hellip;</td><td>&hellip;</td><td>&hellip;</td><td>&hellip;</td><td>&hellip;</td><td>&hellip;</td><td>&hellip;</td><td>&hellip;</td><td>&hellip;</td><td>&hellip;</td><td>&hellip;</td><td>&hellip;</td><td>&hellip;</td><td>&hellip;</td><td>&hellip;</td><td>&hellip;</td><td>&hellip;</td></tr><tr><td>&quot;Odisha&quot;</td><td>52549</td><td>94.6</td><td>4025</td><td>91.6</td><td>56574</td><td>94.4</td><td>9966</td><td>19.0</td><td>262</td><td>6.5</td><td>10228</td><td>18.1</td><td>4454</td><td>44.7</td><td>114</td><td>43.5</td><td>4568</td><td>44.7</td></tr><tr><td>&quot;Puducherry&quot;</td><td>1480</td><td>97.0</td><td>2</td><td>100.0</td><td>1482</td><td>97.1</td><td>224</td><td>15.1</td><td>1</td><td>50.0</td><td>225</td><td>15.2</td><td>220</td><td>98.2</td><td>1</td><td>100.0</td><td>221</td><td>98.2</td></tr><tr><td>&quot;Punjab&quot;</td><td>40507</td><td>84.9</td><td>7662</td><td>78.1</td><td>48169</td><td>83.7</td><td>1693</td><td>4.2</td><td>85</td><td>1.1</td><td>1778</td><td>3.7</td><td>278</td><td>16.4</td><td>4</td><td>4.7</td><td>282</td><td>15.9</td></tr><tr><td>&quot;Rajasthan&quot;</td><td>106155</td><td>80.6</td><td>28475</td><td>73.7</td><td>134630</td><td>79.1</td><td>9100</td><td>8.6</td><td>1541</td><td>5.4</td><td>10641</td><td>7.9</td><td>3141</td><td>34.5</td><td>572</td><td>37.1</td><td>3713</td><td>34.9</td></tr><tr><td>&quot;Sikkim&quot;</td><td>947</td><td>70.8</td><td>49</td><td>66.2</td><td>996</td><td>70.5</td><td>77</td><td>8.1</td><td>2</td><td>4.1</td><td>79</td><td>7.9</td><td>5</td><td>6.5</td><td>1</td><td>50.0</td><td>6</td><td>7.6</td></tr><tr><td>&quot;Tamil Nadu&quot;</td><td>71409</td><td>91.2</td><td>12182</td><td>68.9</td><td>83591</td><td>87.1</td><td>13718</td><td>19.2</td><td>958</td><td>7.9</td><td>14676</td><td>17.6</td><td>3231</td><td>23.6</td><td>165</td><td>17.2</td><td>3396</td><td>23.1</td></tr><tr><td>&quot;Telangana&quot;</td><td>51000</td><td>93.5</td><td>16920</td><td>90.6</td><td>67920</td><td>92.8</td><td>6533</td><td>12.8</td><td>754</td><td>4.5</td><td>7287</td><td>10.7</td><td>3455</td><td>52.9</td><td>428</td><td>56.8</td><td>3883</td><td>53.3</td></tr><tr><td>&quot;Tripura&quot;</td><td>2215</td><td>68.0</td><td>31</td><td>77.5</td><td>2246</td><td>68.2</td><td>478</td><td>21.6</td><td>0</td><td>0.0</td><td>478</td><td>21.3</td><td>44</td><td>9.2</td><td>0</td><td>0.0</td><td>44</td><td>9.2</td></tr><tr><td>&quot;Uttar Pradesh&quot;</td><td>301001</td><td>71.8</td><td>57695</td><td>49.4</td><td>358696</td><td>66.9</td><td>29311</td><td>9.7</td><td>1686</td><td>2.9</td><td>30997</td><td>8.6</td><td>6824</td><td>23.3</td><td>236</td><td>14.0</td><td>7060</td><td>22.8</td></tr><tr><td>&quot;Uttarakhand&quot;</td><td>21611</td><td>95.1</td><td>4206</td><td>90.5</td><td>25817</td><td>94.4</td><td>2492</td><td>11.5</td><td>185</td><td>4.4</td><td>2677</td><td>10.4</td><td>800</td><td>32.1</td><td>38</td><td>20.5</td><td>838</td><td>31.3</td></tr><tr><td>&quot;West Bengal&quot;</td><td>80975</td><td>86.3</td><td>6168</td><td>77.1</td><td>87143</td><td>85.6</td><td>18126</td><td>22.4</td><td>1100</td><td>17.8</td><td>19226</td><td>22.1</td><td>6173</td><td>34.1</td><td>353</td><td>32.1</td><td>6526</td><td>33.9</td></tr><tr><td>&quot;India&quot;</td><td>1473433</td><td>79.5</td><td>354179</td><td>62.4</td><td>1827612</td><td>75.5</td><td>194531</td><td>13.2</td><td>16012</td><td>4.5</td><td>210543</td><td>11.5</td><td>62753</td><td>32.3</td><td>4404</td><td>27.5</td><td>67157</td><td>31.9</td></tr></tbody></table></div>"
      ],
      "text/plain": [
       "shape: (37, 19)\n",
       "┌───────────┬───────────┬───────────┬───────────┬───┬───────────┬───────────┬───────────┬──────────┐\n",
       "│ State/Uts ┆ No of Tob ┆ % of Toba ┆ No of Tob ┆ … ┆ No of     ┆ Percentag ┆ No of     ┆ Percenta │\n",
       "│ ---       ┆ acco-TB   ┆ cco-TB    ┆ acco-TB   ┆   ┆ Tobacco   ┆ e  of     ┆ Tobacco   ┆ ge  of   │\n",
       "│ str       ┆ patients  ┆ patients  ┆ patients  ┆   ┆ users     ┆ Tobacco   ┆ users     ┆ Tobacco  │\n",
       "│           ┆ with k…   ┆ with kn…  ┆ with k…   ┆   ┆ linked    ┆ users     ┆ linked    ┆ users    │\n",
       "│           ┆ ---       ┆ ---       ┆ ---       ┆   ┆ with …    ┆ lin…      ┆ with …    ┆ lin…     │\n",
       "│           ┆ i64       ┆ f64       ┆ i64       ┆   ┆ ---       ┆ ---       ┆ ---       ┆ ---      │\n",
       "│           ┆           ┆           ┆           ┆   ┆ i64       ┆ f64       ┆ i64       ┆ f64      │\n",
       "╞═══════════╪═══════════╪═══════════╪═══════════╪═══╪═══════════╪═══════════╪═══════════╪══════════╡\n",
       "│ Andaman & ┆ 495       ┆ 91.0      ┆ 3         ┆ … ┆ 0         ┆ 0.0       ┆ 30        ┆ 33.7     │\n",
       "│ Nicobar   ┆           ┆           ┆           ┆   ┆           ┆           ┆           ┆          │\n",
       "│ Islands   ┆           ┆           ┆           ┆   ┆           ┆           ┆           ┆          │\n",
       "│ Andhra    ┆ 63627     ┆ 96.2      ┆ 26477     ┆ … ┆ 326       ┆ 23.1      ┆ 2782      ┆ 24.9     │\n",
       "│ Pradesh   ┆           ┆           ┆           ┆   ┆           ┆           ┆           ┆          │\n",
       "│ Arunachal ┆ 2256      ┆ 75.0      ┆ 3         ┆ … ┆ 0         ┆ 0.0       ┆ 171       ┆ 56.4     │\n",
       "│ Pradesh   ┆           ┆           ┆           ┆   ┆           ┆           ┆           ┆          │\n",
       "│ Assam     ┆ 30134     ┆ 71.7      ┆ 4074      ┆ … ┆ 93        ┆ 28.6      ┆ 1590      ┆ 19.3     │\n",
       "│ …         ┆ …         ┆ …         ┆ …         ┆ … ┆ …         ┆ …         ┆ …         ┆ …        │\n",
       "│ Uttar     ┆ 301001    ┆ 71.8      ┆ 57695     ┆ … ┆ 236       ┆ 14.0      ┆ 7060      ┆ 22.8     │\n",
       "│ Pradesh   ┆           ┆           ┆           ┆   ┆           ┆           ┆           ┆          │\n",
       "│ Uttarakha ┆ 21611     ┆ 95.1      ┆ 4206      ┆ … ┆ 38        ┆ 20.5      ┆ 838       ┆ 31.3     │\n",
       "│ nd        ┆           ┆           ┆           ┆   ┆           ┆           ┆           ┆          │\n",
       "│ West      ┆ 80975     ┆ 86.3      ┆ 6168      ┆ … ┆ 353       ┆ 32.1      ┆ 6526      ┆ 33.9     │\n",
       "│ Bengal    ┆           ┆           ┆           ┆   ┆           ┆           ┆           ┆          │\n",
       "│ India     ┆ 1473433   ┆ 79.5      ┆ 354179    ┆ … ┆ 4404      ┆ 27.5      ┆ 67157     ┆ 31.9     │\n",
       "└───────────┴───────────┴───────────┴───────────┴───┴───────────┴───────────┴───────────┴──────────┘"
      ]
     },
     "execution_count": 23,
     "metadata": {},
     "output_type": "execute_result"
    }
   ],
   "source": [
    "tb_tabaco"
   ]
  }
 ],
 "metadata": {
  "kernelspec": {
   "display_name": "Python 3",
   "language": "python",
   "name": "python3"
  },
  "language_info": {
   "codemirror_mode": {
    "name": "ipython",
    "version": 3
   },
   "file_extension": ".py",
   "mimetype": "text/x-python",
   "name": "python",
   "nbconvert_exporter": "python",
   "pygments_lexer": "ipython3",
   "version": "3.11.4"
  },
  "orig_nbformat": 4
 },
 "nbformat": 4,
 "nbformat_minor": 2
}
