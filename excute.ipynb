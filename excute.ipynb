{
 "cells": [
  {
   "cell_type": "code",
   "execution_count": 25,
   "metadata": {},
   "outputs": [],
   "source": [
    "import numpy as np\n",
    "import polars as pl\n",
    "import seaborn as sns\n",
    "import matplotlib.pyplot as plt"
   ]
  },
  {
   "cell_type": "code",
   "execution_count": 26,
   "metadata": {},
   "outputs": [],
   "source": [
    "tb_diabetes = pl.read_csv('2.10_TB_Diabetes.csv')\n",
    "tb_tabaco = pl.read_csv('2.11_TB_Tobacco.csv')\n",
    "tb_alcohol = pl.read_csv('2.12_TB_Alcohol.csv')"
   ]
  },
  {
   "cell_type": "markdown",
   "metadata": {},
   "source": [
    "## Data cleaning with Pola.rs"
   ]
  },
  {
   "cell_type": "code",
   "execution_count": 27,
   "metadata": {},
   "outputs": [
    {
     "data": {
      "text/html": [
       "<div><style>\n",
       ".dataframe > thead > tr > th,\n",
       ".dataframe > tbody > tr > td {\n",
       "  text-align: right;\n",
       "}\n",
       "</style>\n",
       "<small>shape: (37, 19)</small><table border=\"1\" class=\"dataframe\"><thead><tr><th>State/Uts</th><th>No of TB - Diabetes-TB patients with known DM status, of notified)-Public</th><th>Percentage  of TB - Diabetes-TB patients with known DM status,of notified)-Public</th><th>No of TB - Diabetes-TB patients with known DM status, of notified)-Private</th><th>Percentage  of TB - Diabetes-TB patients with known DM status, of notified)-Private</th><th>No of TB - Diabetes-TB patients with known DM status,of notified)-Total</th><th>Percentage of TB - Diabetes-TB patients with known DM status,  of notified)-Total</th><th>No of TB - Diabetes-Patients diagnosed among tested,of those with known DM status)-Public</th><th>Percentage of TB - Diabetes- Patients diagnosed among tested,of those with known DM status)-Public</th><th>No of TB - Diabetes- Patients diagnosed among tested, of those with known DM status)-Private</th><th>Percentage  of TB - Diabetes-Patients diagnosed among tested,  of those with known DM status)-Private</th><th>No of TB - Diabetes-Patients diagnosed among tested, of those with known DM status)-Total</th><th>Percentage  of TB - Diabetes-  Patients diagnosed among tested, of those with known DM status)-Total</th><th>No of TB - Diabetes- patients initiated on Anti-diabetic treatment, of TB-DM)-Public</th><th>Percentage of TB - Diabetes- patients initiated on Anti-diabetic treatment, of TB-DM)-Public</th><th>No of TB - Diabetes- patients initiated on Anti-diabetic treatment, of TB-DM)-Private</th><th>Percentage of TB - Diabetes- patients initiated on Anti-diabetic treatment, of TB-DM)-Private</th><th>No of TB - Diabetes- patients initiated on Anti-diabetic treatment, of TB-DM)0Total</th><th>Percentage of TB - Diabetes- patients initiated on Anti-diabetic treatment,of TB-DM)0Total</th></tr><tr><td>str</td><td>str</td><td>f64</td><td>str</td><td>str</td><td>str</td><td>f64</td><td>str</td><td>f64</td><td>str</td><td>str</td><td>str</td><td>f64</td><td>str</td><td>f64</td><td>str</td><td>str</td><td>str</td><td>f64</td></tr></thead><tbody><tr><td>&quot;Andaman &amp; Nico…</td><td>&quot;518 &quot;</td><td>95.2</td><td>&quot;3 &quot;</td><td>&quot;75&quot;</td><td>&quot;521 &quot;</td><td>95.1</td><td>&quot;97&quot;</td><td>18.7</td><td>&quot;1 &quot;</td><td>&quot;33.3&quot;</td><td>&quot;98 &quot;</td><td>18.8</td><td>&quot;69 &quot;</td><td>71.1</td><td>&quot;1 &quot;</td><td>&quot;100&quot;</td><td>&quot;70 &quot;</td><td>71.4</td></tr><tr><td>&quot;Andhra Pradesh…</td><td>&quot;65235 &quot;</td><td>98.7</td><td>&quot;26883 &quot;</td><td>&quot;99.6&quot;</td><td>&quot;92118 &quot;</td><td>98.9</td><td>&quot;8816 &quot;</td><td>13.5</td><td>&quot;2940 &quot;</td><td>&quot;10.9&quot;</td><td>&quot;11756 &quot;</td><td>12.8</td><td>&quot;6282 &quot;</td><td>71.3</td><td>&quot;1671 &quot;</td><td>&quot;56.8&quot;</td><td>&quot;7953 &quot;</td><td>67.7</td></tr><tr><td>&quot;Arunachal Prad…</td><td>&quot;2378 &quot;</td><td>79.0</td><td>&quot;3 &quot;</td><td>&quot;50&quot;</td><td>&quot;2381 &quot;</td><td>79.0</td><td>&quot;59 &quot;</td><td>2.5</td><td>&quot;0 &quot;</td><td>&quot;0&quot;</td><td>&quot;59 &quot;</td><td>2.5</td><td>&quot;28 &quot;</td><td>47.5</td><td>&quot;NA&quot;</td><td>&quot;NA&quot;</td><td>&quot;28 &quot;</td><td>47.5</td></tr><tr><td>&quot;Assam&quot;</td><td>&quot;34011 &quot;</td><td>81.0</td><td>&quot;4929 &quot;</td><td>&quot;83.2&quot;</td><td>&quot;38940 &quot;</td><td>81.2</td><td>&quot;2554 &quot;</td><td>7.5</td><td>&quot;499 &quot;</td><td>&quot;10.1&quot;</td><td>&quot;3053 &quot;</td><td>7.8</td><td>&quot;1003 &quot;</td><td>39.3</td><td>&quot;179 &quot;</td><td>&quot;35.9&quot;</td><td>&quot;1182 &quot;</td><td>38.7</td></tr><tr><td>&quot;Bihar&quot;</td><td>&quot;53768 &quot;</td><td>66.1</td><td>&quot;74114 &quot;</td><td>&quot;87.7&quot;</td><td>&quot;127882 &quot;</td><td>77.1</td><td>&quot;3062 &quot;</td><td>5.7</td><td>&quot;3801 &quot;</td><td>&quot;5.1&quot;</td><td>&quot;6863 &quot;</td><td>5.4</td><td>&quot;1489 &quot;</td><td>48.6</td><td>&quot;811 &quot;</td><td>&quot;21.3&quot;</td><td>&quot;2300 &quot;</td><td>33.5</td></tr><tr><td>&quot;Chandigarh&quot;</td><td>&quot;3531 &quot;</td><td>94.9</td><td>&quot;47 &quot;</td><td>&quot;73.4&quot;</td><td>&quot;3578 &quot;</td><td>94.6</td><td>&quot;316 &quot;</td><td>8.9</td><td>&quot;5 &quot;</td><td>&quot;10.6&quot;</td><td>&quot;321 &quot;</td><td>9.0</td><td>&quot;248 &quot;</td><td>78.5</td><td>&quot;5 &quot;</td><td>&quot;100&quot;</td><td>&quot;253 &quot;</td><td>78.8</td></tr><tr><td>&quot;Chhattisgarh&quot;</td><td>&quot;26987 &quot;</td><td>91.6</td><td>&quot;8243 &quot;</td><td>&quot;88.8&quot;</td><td>&quot;35230 &quot;</td><td>91.0</td><td>&quot;2473 &quot;</td><td>9.2</td><td>&quot;639 &quot;</td><td>&quot;7.8&quot;</td><td>&quot;3112 &quot;</td><td>8.8</td><td>&quot;1184 &quot;</td><td>47.9</td><td>&quot;155 &quot;</td><td>&quot;24.3&quot;</td><td>&quot;1339 &quot;</td><td>43.0</td></tr><tr><td>&quot;Dadra and Naga…</td><td>&quot;838 &quot;</td><td>99.2</td><td>&quot;76&quot;</td><td>&quot;100&quot;</td><td>&quot;914 &quot;</td><td>99.2</td><td>&quot;56 &quot;</td><td>6.7</td><td>&quot;3 &quot;</td><td>&quot;3.9&quot;</td><td>&quot;59 &quot;</td><td>6.5</td><td>&quot;46 &quot;</td><td>82.1</td><td>&quot;2 &quot;</td><td>&quot;66.7&quot;</td><td>&quot;48 &quot;</td><td>81.4</td></tr><tr><td>&quot;Delhi&quot;</td><td>&quot;65700 &quot;</td><td>84.2</td><td>&quot;5628 &quot;</td><td>&quot;55&quot;</td><td>&quot;71328 &quot;</td><td>80.8</td><td>&quot;5323 &quot;</td><td>8.1</td><td>&quot;621 &quot;</td><td>&quot;11&quot;</td><td>&quot;5944 &quot;</td><td>8.3</td><td>&quot;2661 &quot;</td><td>50.0</td><td>&quot;168 &quot;</td><td>&quot;27.1&quot;</td><td>&quot;2829 &quot;</td><td>47.6</td></tr><tr><td>&quot;Goa&quot;</td><td>&quot;1659 &quot;</td><td>98.9</td><td>&quot;288 &quot;</td><td>&quot;72.7&quot;</td><td>&quot;1947 &quot;</td><td>93.9</td><td>&quot;332 &quot;</td><td>20.0</td><td>&quot;45 &quot;</td><td>&quot;15.6&quot;</td><td>&quot;377 &quot;</td><td>19.4</td><td>&quot;300 &quot;</td><td>90.4</td><td>&quot;25 &quot;</td><td>&quot;55.6&quot;</td><td>&quot;325 &quot;</td><td>86.2</td></tr><tr><td>&quot;Gujarat&quot;</td><td>&quot;106333 &quot;</td><td>97.8</td><td>&quot;35899 &quot;</td><td>&quot;90.9&quot;</td><td>&quot;142232 &quot;</td><td>96.0</td><td>&quot;5343 &quot;</td><td>5.0</td><td>&quot;1250 &quot;</td><td>&quot;3.5&quot;</td><td>&quot;6593 &quot;</td><td>4.6</td><td>&quot;4304 &quot;</td><td>80.6</td><td>&quot;991 &quot;</td><td>&quot;79.3&quot;</td><td>&quot;5295 &quot;</td><td>80.3</td></tr><tr><td>&quot;Haryana&quot;</td><td>&quot;58171 &quot;</td><td>95.0</td><td>&quot;15853 &quot;</td><td>&quot;91.1&quot;</td><td>&quot;74024 &quot;</td><td>94.1</td><td>&quot;4463 &quot;</td><td>7.7</td><td>&quot;837 &quot;</td><td>&quot;5.3&quot;</td><td>&quot;5300 &quot;</td><td>7.2</td><td>&quot;3357 &quot;</td><td>75.2</td><td>&quot;560 &quot;</td><td>&quot;66.9&quot;</td><td>&quot;3917 &quot;</td><td>73.9</td></tr><tr><td>&hellip;</td><td>&hellip;</td><td>&hellip;</td><td>&hellip;</td><td>&hellip;</td><td>&hellip;</td><td>&hellip;</td><td>&hellip;</td><td>&hellip;</td><td>&hellip;</td><td>&hellip;</td><td>&hellip;</td><td>&hellip;</td><td>&hellip;</td><td>&hellip;</td><td>&hellip;</td><td>&hellip;</td><td>&hellip;</td><td>&hellip;</td></tr><tr><td>&quot;Odisha&quot;</td><td>&quot;53597 &quot;</td><td>96.5</td><td>&quot;4141 &quot;</td><td>&quot;94.2&quot;</td><td>&quot;57738 &quot;</td><td>96.3</td><td>&quot;4047 &quot;</td><td>7.6</td><td>&quot;274 &quot;</td><td>&quot;6.6&quot;</td><td>&quot;4321 &quot;</td><td>7.5</td><td>&quot;3105 &quot;</td><td>76.7</td><td>&quot;211 &quot;</td><td>&quot;77&quot;</td><td>&quot;3316 &quot;</td><td>76.7</td></tr><tr><td>&quot;Puducherry&quot;</td><td>&quot;1510 &quot;</td><td>99.0</td><td>&quot;2 &quot;</td><td>&quot;100&quot;</td><td>&quot;1512 &quot;</td><td>99.0</td><td>&quot;464 &quot;</td><td>30.7</td><td>&quot;0 &quot;</td><td>&quot;0&quot;</td><td>&quot;464 &quot;</td><td>30.7</td><td>&quot;445 &quot;</td><td>95.9</td><td>&quot;NA&quot;</td><td>&quot;NA&quot;</td><td>&quot;445 &quot;</td><td>95.9</td></tr><tr><td>&quot;Punjab&quot;</td><td>&quot;43665 &quot;</td><td>91.5</td><td>&quot;9006 &quot;</td><td>&quot;91.8&quot;</td><td>&quot;52671 &quot;</td><td>91.5</td><td>&quot;4930 &quot;</td><td>11.3</td><td>&quot;676 &quot;</td><td>&quot;7.5&quot;</td><td>&quot;5606 &quot;</td><td>10.6</td><td>&quot;2266 &quot;</td><td>46.0</td><td>&quot;170 &quot;</td><td>&quot;25.1&quot;</td><td>&quot;2436 &quot;</td><td>43.5</td></tr><tr><td>&quot;Rajasthan&quot;</td><td>&quot;119170 &quot;</td><td>90.5</td><td>&quot;34317 &quot;</td><td>&quot;88.8&quot;</td><td>&quot;153487 &quot;</td><td>90.1</td><td>&quot;3484 &quot;</td><td>2.9</td><td>&quot;1208 &quot;</td><td>&quot;3.5&quot;</td><td>&quot;4692 &quot;</td><td>3.1</td><td>&quot;2276 &quot;</td><td>65.3</td><td>&quot;538 &quot;</td><td>&quot;44.5&quot;</td><td>&quot;2814 &quot;</td><td>60.0</td></tr><tr><td>&quot;Sikkim&quot;</td><td>&quot;1305 &quot;</td><td>97.5</td><td>&quot;71 &quot;</td><td>&quot;95.9&quot;</td><td>&quot;1376 &quot;</td><td>97.5</td><td>&quot;118 &quot;</td><td>9.0</td><td>&quot;4 &quot;</td><td>&quot;5.6&quot;</td><td>&quot;122 &quot;</td><td>8.9</td><td>&quot;106 &quot;</td><td>89.8</td><td>&quot;3 &quot;</td><td>&quot;75&quot;</td><td>&quot;109 &quot;</td><td>89.3</td></tr><tr><td>&quot;Tamil Nadu&quot;</td><td>&quot;76635 &quot;</td><td>97.9</td><td>&quot;16054 &quot;</td><td>&quot;90.8&quot;</td><td>&quot;92689 &quot;</td><td>96.6</td><td>&quot;20196 &quot;</td><td>26.4</td><td>&quot;3655 &quot;</td><td>&quot;22.8&quot;</td><td>&quot;23851 &quot;</td><td>25.7</td><td>&quot;19144 &quot;</td><td>94.8</td><td>&quot;3179 &quot;</td><td>&quot;87&quot;</td><td>&quot;22323 &quot;</td><td>93.6</td></tr><tr><td>&quot;Telangana&quot;</td><td>&quot;51411 &quot;</td><td>94.3</td><td>&quot;17215 &quot;</td><td>&quot;92.2&quot;</td><td>&quot;68626 &quot;</td><td>93.7</td><td>&quot;3250 &quot;</td><td>6.3</td><td>&quot;892 &quot;</td><td>&quot;5.2&quot;</td><td>&quot;4142 &quot;</td><td>6.0</td><td>&quot;2691 &quot;</td><td>82.8</td><td>&quot;738 &quot;</td><td>&quot;82.7&quot;</td><td>&quot;3429 &quot;</td><td>82.8</td></tr><tr><td>&quot;Tripura&quot;</td><td>&quot;3078 &quot;</td><td>94.6</td><td>&quot;34 &quot;</td><td>&quot;85&quot;</td><td>&quot;3112 &quot;</td><td>94.4</td><td>&quot;473 &quot;</td><td>15.4</td><td>&quot;6 &quot;</td><td>&quot;17.6&quot;</td><td>&quot;479 &quot;</td><td>15.4</td><td>&quot;182 &quot;</td><td>38.5</td><td>&quot;0 &quot;</td><td>&quot;0&quot;</td><td>&quot;182 &quot;</td><td>38.0</td></tr><tr><td>&quot;Uttar Pradesh&quot;</td><td>&quot;390088 &quot;</td><td>93.0</td><td>&quot;100893 &quot;</td><td>&quot;86.5&quot;</td><td>&quot;490981 &quot;</td><td>91.6</td><td>&quot;21480 &quot;</td><td>5.5</td><td>&quot;1968 &quot;</td><td>&quot;2&quot;</td><td>&quot;23448 &quot;</td><td>4.8</td><td>&quot;8161 &quot;</td><td>38.0</td><td>&quot;670 &quot;</td><td>&quot;34&quot;</td><td>&quot;8831 &quot;</td><td>37.7</td></tr><tr><td>&quot;Uttarakhand&quot;</td><td>&quot;21948 &quot;</td><td>96.6</td><td>&quot;4339 &quot;</td><td>&quot;93.3&quot;</td><td>&quot;26287 &quot;</td><td>96.1</td><td>&quot;1741 &quot;</td><td>7.9</td><td>&quot;231 &quot;</td><td>&quot;5.3&quot;</td><td>&quot;1972 &quot;</td><td>7.5</td><td>&quot;670 &quot;</td><td>38.5</td><td>&quot;121 &quot;</td><td>&quot;52.4&quot;</td><td>&quot;791 &quot;</td><td>40.1</td></tr><tr><td>&quot;West Bengal&quot;</td><td>&quot;87854 &quot;</td><td>93.6</td><td>&quot;6472 &quot;</td><td>&quot;80.9&quot;</td><td>&quot;94326 &quot;</td><td>92.6</td><td>&quot;12541 &quot;</td><td>14.3</td><td>&quot;910 &quot;</td><td>&quot;14.1&quot;</td><td>&quot;13451 &quot;</td><td>14.3</td><td>&quot;9590 &quot;</td><td>76.5</td><td>&quot;710 &quot;</td><td>&quot;78&quot;</td><td>&quot;10300 &quot;</td><td>76.6</td></tr><tr><td>&quot;India&quot;</td><td>&quot;1707030 &quot;</td><td>92.1</td><td>&quot;508900 &quot;</td><td>&quot;89.6&quot;</td><td>&quot;2215930 &quot;</td><td>91.5</td><td>&quot;143167 &quot;</td><td>8.4</td><td>&quot;30564 &quot;</td><td>&quot;6&quot;</td><td>&quot;173731 &quot;</td><td>7.8</td><td>&quot;93897 &quot;</td><td>65.6</td><td>&quot;16161 &quot;</td><td>&quot;52.9&quot;</td><td>&quot;110058 &quot;</td><td>63.3</td></tr></tbody></table></div>"
      ],
      "text/plain": [
       "shape: (37, 19)\n",
       "┌───────────┬───────────┬───────────┬───────────┬───┬───────────┬───────────┬───────────┬──────────┐\n",
       "│ State/Uts ┆ No of TB  ┆ Percentag ┆ No of TB  ┆ … ┆ No of TB  ┆ Percentag ┆ No of TB  ┆ Percenta │\n",
       "│ ---       ┆ - Diabete ┆ e  of TB  ┆ - Diabete ┆   ┆ -         ┆ e of TB - ┆ -         ┆ ge of TB │\n",
       "│ str       ┆ s-TB      ┆ - Diabete ┆ s-TB      ┆   ┆ Diabetes- ┆ Diabetes- ┆ Diabetes- ┆ - Diabet │\n",
       "│           ┆ patients  ┆ s-TB …    ┆ patients  ┆   ┆ patients  ┆ pat…      ┆ patients  ┆ es- pat… │\n",
       "│           ┆ …         ┆ ---       ┆ …         ┆   ┆ in…       ┆ ---       ┆ in…       ┆ ---      │\n",
       "│           ┆ ---       ┆ f64       ┆ ---       ┆   ┆ ---       ┆ str       ┆ ---       ┆ f64      │\n",
       "│           ┆ str       ┆           ┆ str       ┆   ┆ str       ┆           ┆ str       ┆          │\n",
       "╞═══════════╪═══════════╪═══════════╪═══════════╪═══╪═══════════╪═══════════╪═══════════╪══════════╡\n",
       "│ Andaman & ┆ 518       ┆ 95.2      ┆ 3         ┆ … ┆ 1         ┆ 100       ┆ 70        ┆ 71.4     │\n",
       "│ Nicobar   ┆           ┆           ┆           ┆   ┆           ┆           ┆           ┆          │\n",
       "│ Islands   ┆           ┆           ┆           ┆   ┆           ┆           ┆           ┆          │\n",
       "│ Andhra    ┆ 65235     ┆ 98.7      ┆ 26883     ┆ … ┆ 1671      ┆ 56.8      ┆ 7953      ┆ 67.7     │\n",
       "│ Pradesh   ┆           ┆           ┆           ┆   ┆           ┆           ┆           ┆          │\n",
       "│ Arunachal ┆ 2378      ┆ 79.0      ┆ 3         ┆ … ┆ NA        ┆ NA        ┆ 28        ┆ 47.5     │\n",
       "│ Pradesh   ┆           ┆           ┆           ┆   ┆           ┆           ┆           ┆          │\n",
       "│ Assam     ┆ 34011     ┆ 81.0      ┆ 4929      ┆ … ┆ 179       ┆ 35.9      ┆ 1182      ┆ 38.7     │\n",
       "│ …         ┆ …         ┆ …         ┆ …         ┆ … ┆ …         ┆ …         ┆ …         ┆ …        │\n",
       "│ Uttar     ┆ 390088    ┆ 93.0      ┆ 100893    ┆ … ┆ 670       ┆ 34        ┆ 8831      ┆ 37.7     │\n",
       "│ Pradesh   ┆           ┆           ┆           ┆   ┆           ┆           ┆           ┆          │\n",
       "│ Uttarakha ┆ 21948     ┆ 96.6      ┆ 4339      ┆ … ┆ 121       ┆ 52.4      ┆ 791       ┆ 40.1     │\n",
       "│ nd        ┆           ┆           ┆           ┆   ┆           ┆           ┆           ┆          │\n",
       "│ West      ┆ 87854     ┆ 93.6      ┆ 6472      ┆ … ┆ 710       ┆ 78        ┆ 10300     ┆ 76.6     │\n",
       "│ Bengal    ┆           ┆           ┆           ┆   ┆           ┆           ┆           ┆          │\n",
       "│ India     ┆ 1707030   ┆ 92.1      ┆ 508900    ┆ … ┆ 16161     ┆ 52.9      ┆ 110058    ┆ 63.3     │\n",
       "└───────────┴───────────┴───────────┴───────────┴───┴───────────┴───────────┴───────────┴──────────┘"
      ]
     },
     "execution_count": 27,
     "metadata": {},
     "output_type": "execute_result"
    }
   ],
   "source": [
    "tb_diabetes"
   ]
  },
  {
   "cell_type": "code",
   "execution_count": 28,
   "metadata": {},
   "outputs": [],
   "source": [
    "# remove blank spaces\n",
    "columnas_tdb = tb_diabetes.columns[1:]\n",
    "\n",
    "for c in columnas_tdb:\n",
    "    tb_diabetes = tb_diabetes.with_columns(tb_diabetes[c].str.replace(' ', ''))"
   ]
  },
  {
   "cell_type": "code",
   "execution_count": 29,
   "metadata": {},
   "outputs": [],
   "source": [
    "# change null values by 0\n",
    "for c in columnas_tdb:\n",
    "    tb_diabetes = tb_diabetes.with_columns(tb_diabetes[c].str.replace('NA', '0'))"
   ]
  },
  {
   "cell_type": "code",
   "execution_count": 30,
   "metadata": {},
   "outputs": [],
   "source": [
    "# change column data type\n",
    "tb_diabetes = tb_diabetes.with_columns(tb_diabetes['No of TB - Diabetes- Patients diagnosed among tested, of those with known DM status)-Private'].cast(pl.Int64))\n",
    "tb_diabetes = tb_diabetes.with_columns(tb_diabetes['No of TB - Diabetes-TB patients with known DM status, of notified)-Public'].cast(pl.Int64))\n",
    "tb_diabetes = tb_diabetes.with_columns(tb_diabetes['No of TB - Diabetes-TB patients with known DM status, of notified)-Private'].cast(pl.Int64))\n",
    "tb_diabetes = tb_diabetes.with_columns(tb_diabetes['No of TB - Diabetes-TB patients with known DM status,of notified)-Total'].cast(pl.Int64))\n",
    "tb_diabetes = tb_diabetes.with_columns(tb_diabetes['No of TB - Diabetes-Patients diagnosed among tested,of those with known DM status)-Public'].cast(pl.Int64))\n",
    "tb_diabetes = tb_diabetes.with_columns(tb_diabetes['No of TB - Diabetes- patients initiated on Anti-diabetic treatment, of TB-DM)-Public'].cast(pl.Int64))\n",
    "tb_diabetes = tb_diabetes.with_columns(tb_diabetes['No of TB - Diabetes- patients initiated on Anti-diabetic treatment, of TB-DM)-Private'].cast(pl.Int64))\n",
    "tb_diabetes = tb_diabetes.with_columns(tb_diabetes['No of TB - Diabetes- patients initiated on Anti-diabetic treatment, of TB-DM)0Total'].cast(pl.Int64))"
   ]
  },
  {
   "cell_type": "code",
   "execution_count": 31,
   "metadata": {},
   "outputs": [],
   "source": [
    "tb_diabetes = tb_diabetes.with_columns(tb_diabetes[tb_diabetes.columns[2]].cast(pl.Float64))\n",
    "tb_diabetes = tb_diabetes.with_columns(tb_diabetes[tb_diabetes.columns[4]].cast(pl.Float64))\n",
    "tb_diabetes = tb_diabetes.with_columns(tb_diabetes[tb_diabetes.columns[6]].cast(pl.Float64))\n",
    "tb_diabetes = tb_diabetes.with_columns(tb_diabetes[tb_diabetes.columns[8]].cast(pl.Float64))\n",
    "tb_diabetes = tb_diabetes.with_columns(tb_diabetes[tb_diabetes.columns[10]].cast(pl.Float64))\n",
    "tb_diabetes = tb_diabetes.with_columns(tb_diabetes[tb_diabetes.columns[11]].cast(pl.Float64))\n",
    "tb_diabetes = tb_diabetes.with_columns(tb_diabetes[tb_diabetes.columns[12]].cast(pl.Float64))\n",
    "tb_diabetes = tb_diabetes.with_columns(tb_diabetes[tb_diabetes.columns[14]].cast(pl.Float64))\n",
    "tb_diabetes = tb_diabetes.with_columns(tb_diabetes[tb_diabetes.columns[16]].cast(pl.Float64))\n",
    "tb_diabetes = tb_diabetes.with_columns(tb_diabetes[tb_diabetes.columns[18]].cast(pl.Float64))"
   ]
  },
  {
   "cell_type": "code",
   "execution_count": 32,
   "metadata": {},
   "outputs": [
    {
     "data": {
      "text/html": [
       "<div><style>\n",
       ".dataframe > thead > tr > th,\n",
       ".dataframe > tbody > tr > td {\n",
       "  text-align: right;\n",
       "}\n",
       "</style>\n",
       "<small>shape: (37, 19)</small><table border=\"1\" class=\"dataframe\"><thead><tr><th>State/Uts</th><th>No of TB - Diabetes-TB patients with known DM status, of notified)-Public</th><th>Percentage  of TB - Diabetes-TB patients with known DM status,of notified)-Public</th><th>No of TB - Diabetes-TB patients with known DM status, of notified)-Private</th><th>Percentage  of TB - Diabetes-TB patients with known DM status, of notified)-Private</th><th>No of TB - Diabetes-TB patients with known DM status,of notified)-Total</th><th>Percentage of TB - Diabetes-TB patients with known DM status,  of notified)-Total</th><th>No of TB - Diabetes-Patients diagnosed among tested,of those with known DM status)-Public</th><th>Percentage of TB - Diabetes- Patients diagnosed among tested,of those with known DM status)-Public</th><th>No of TB - Diabetes- Patients diagnosed among tested, of those with known DM status)-Private</th><th>Percentage  of TB - Diabetes-Patients diagnosed among tested,  of those with known DM status)-Private</th><th>No of TB - Diabetes-Patients diagnosed among tested, of those with known DM status)-Total</th><th>Percentage  of TB - Diabetes-  Patients diagnosed among tested, of those with known DM status)-Total</th><th>No of TB - Diabetes- patients initiated on Anti-diabetic treatment, of TB-DM)-Public</th><th>Percentage of TB - Diabetes- patients initiated on Anti-diabetic treatment, of TB-DM)-Public</th><th>No of TB - Diabetes- patients initiated on Anti-diabetic treatment, of TB-DM)-Private</th><th>Percentage of TB - Diabetes- patients initiated on Anti-diabetic treatment, of TB-DM)-Private</th><th>No of TB - Diabetes- patients initiated on Anti-diabetic treatment, of TB-DM)0Total</th><th>Percentage of TB - Diabetes- patients initiated on Anti-diabetic treatment,of TB-DM)0Total</th></tr><tr><td>str</td><td>i64</td><td>f64</td><td>i64</td><td>f64</td><td>i64</td><td>f64</td><td>i64</td><td>f64</td><td>i64</td><td>f64</td><td>f64</td><td>f64</td><td>i64</td><td>f64</td><td>i64</td><td>f64</td><td>i64</td><td>f64</td></tr></thead><tbody><tr><td>&quot;Andaman &amp; Nico…</td><td>518</td><td>95.2</td><td>3</td><td>75.0</td><td>521</td><td>95.1</td><td>97</td><td>18.7</td><td>1</td><td>33.3</td><td>98.0</td><td>18.8</td><td>69</td><td>71.1</td><td>1</td><td>100.0</td><td>70</td><td>71.4</td></tr><tr><td>&quot;Andhra Pradesh…</td><td>65235</td><td>98.7</td><td>26883</td><td>99.6</td><td>92118</td><td>98.9</td><td>8816</td><td>13.5</td><td>2940</td><td>10.9</td><td>11756.0</td><td>12.8</td><td>6282</td><td>71.3</td><td>1671</td><td>56.8</td><td>7953</td><td>67.7</td></tr><tr><td>&quot;Arunachal Prad…</td><td>2378</td><td>79.0</td><td>3</td><td>50.0</td><td>2381</td><td>79.0</td><td>59</td><td>2.5</td><td>0</td><td>0.0</td><td>59.0</td><td>2.5</td><td>28</td><td>47.5</td><td>0</td><td>0.0</td><td>28</td><td>47.5</td></tr><tr><td>&quot;Assam&quot;</td><td>34011</td><td>81.0</td><td>4929</td><td>83.2</td><td>38940</td><td>81.2</td><td>2554</td><td>7.5</td><td>499</td><td>10.1</td><td>3053.0</td><td>7.8</td><td>1003</td><td>39.3</td><td>179</td><td>35.9</td><td>1182</td><td>38.7</td></tr><tr><td>&quot;Bihar&quot;</td><td>53768</td><td>66.1</td><td>74114</td><td>87.7</td><td>127882</td><td>77.1</td><td>3062</td><td>5.7</td><td>3801</td><td>5.1</td><td>6863.0</td><td>5.4</td><td>1489</td><td>48.6</td><td>811</td><td>21.3</td><td>2300</td><td>33.5</td></tr><tr><td>&quot;Chandigarh&quot;</td><td>3531</td><td>94.9</td><td>47</td><td>73.4</td><td>3578</td><td>94.6</td><td>316</td><td>8.9</td><td>5</td><td>10.6</td><td>321.0</td><td>9.0</td><td>248</td><td>78.5</td><td>5</td><td>100.0</td><td>253</td><td>78.8</td></tr><tr><td>&quot;Chhattisgarh&quot;</td><td>26987</td><td>91.6</td><td>8243</td><td>88.8</td><td>35230</td><td>91.0</td><td>2473</td><td>9.2</td><td>639</td><td>7.8</td><td>3112.0</td><td>8.8</td><td>1184</td><td>47.9</td><td>155</td><td>24.3</td><td>1339</td><td>43.0</td></tr><tr><td>&quot;Dadra and Naga…</td><td>838</td><td>99.2</td><td>76</td><td>100.0</td><td>914</td><td>99.2</td><td>56</td><td>6.7</td><td>3</td><td>3.9</td><td>59.0</td><td>6.5</td><td>46</td><td>82.1</td><td>2</td><td>66.7</td><td>48</td><td>81.4</td></tr><tr><td>&quot;Delhi&quot;</td><td>65700</td><td>84.2</td><td>5628</td><td>55.0</td><td>71328</td><td>80.8</td><td>5323</td><td>8.1</td><td>621</td><td>11.0</td><td>5944.0</td><td>8.3</td><td>2661</td><td>50.0</td><td>168</td><td>27.1</td><td>2829</td><td>47.6</td></tr><tr><td>&quot;Goa&quot;</td><td>1659</td><td>98.9</td><td>288</td><td>72.7</td><td>1947</td><td>93.9</td><td>332</td><td>20.0</td><td>45</td><td>15.6</td><td>377.0</td><td>19.4</td><td>300</td><td>90.4</td><td>25</td><td>55.6</td><td>325</td><td>86.2</td></tr><tr><td>&quot;Gujarat&quot;</td><td>106333</td><td>97.8</td><td>35899</td><td>90.9</td><td>142232</td><td>96.0</td><td>5343</td><td>5.0</td><td>1250</td><td>3.5</td><td>6593.0</td><td>4.6</td><td>4304</td><td>80.6</td><td>991</td><td>79.3</td><td>5295</td><td>80.3</td></tr><tr><td>&quot;Haryana&quot;</td><td>58171</td><td>95.0</td><td>15853</td><td>91.1</td><td>74024</td><td>94.1</td><td>4463</td><td>7.7</td><td>837</td><td>5.3</td><td>5300.0</td><td>7.2</td><td>3357</td><td>75.2</td><td>560</td><td>66.9</td><td>3917</td><td>73.9</td></tr><tr><td>&hellip;</td><td>&hellip;</td><td>&hellip;</td><td>&hellip;</td><td>&hellip;</td><td>&hellip;</td><td>&hellip;</td><td>&hellip;</td><td>&hellip;</td><td>&hellip;</td><td>&hellip;</td><td>&hellip;</td><td>&hellip;</td><td>&hellip;</td><td>&hellip;</td><td>&hellip;</td><td>&hellip;</td><td>&hellip;</td><td>&hellip;</td></tr><tr><td>&quot;Odisha&quot;</td><td>53597</td><td>96.5</td><td>4141</td><td>94.2</td><td>57738</td><td>96.3</td><td>4047</td><td>7.6</td><td>274</td><td>6.6</td><td>4321.0</td><td>7.5</td><td>3105</td><td>76.7</td><td>211</td><td>77.0</td><td>3316</td><td>76.7</td></tr><tr><td>&quot;Puducherry&quot;</td><td>1510</td><td>99.0</td><td>2</td><td>100.0</td><td>1512</td><td>99.0</td><td>464</td><td>30.7</td><td>0</td><td>0.0</td><td>464.0</td><td>30.7</td><td>445</td><td>95.9</td><td>0</td><td>0.0</td><td>445</td><td>95.9</td></tr><tr><td>&quot;Punjab&quot;</td><td>43665</td><td>91.5</td><td>9006</td><td>91.8</td><td>52671</td><td>91.5</td><td>4930</td><td>11.3</td><td>676</td><td>7.5</td><td>5606.0</td><td>10.6</td><td>2266</td><td>46.0</td><td>170</td><td>25.1</td><td>2436</td><td>43.5</td></tr><tr><td>&quot;Rajasthan&quot;</td><td>119170</td><td>90.5</td><td>34317</td><td>88.8</td><td>153487</td><td>90.1</td><td>3484</td><td>2.9</td><td>1208</td><td>3.5</td><td>4692.0</td><td>3.1</td><td>2276</td><td>65.3</td><td>538</td><td>44.5</td><td>2814</td><td>60.0</td></tr><tr><td>&quot;Sikkim&quot;</td><td>1305</td><td>97.5</td><td>71</td><td>95.9</td><td>1376</td><td>97.5</td><td>118</td><td>9.0</td><td>4</td><td>5.6</td><td>122.0</td><td>8.9</td><td>106</td><td>89.8</td><td>3</td><td>75.0</td><td>109</td><td>89.3</td></tr><tr><td>&quot;Tamil Nadu&quot;</td><td>76635</td><td>97.9</td><td>16054</td><td>90.8</td><td>92689</td><td>96.6</td><td>20196</td><td>26.4</td><td>3655</td><td>22.8</td><td>23851.0</td><td>25.7</td><td>19144</td><td>94.8</td><td>3179</td><td>87.0</td><td>22323</td><td>93.6</td></tr><tr><td>&quot;Telangana&quot;</td><td>51411</td><td>94.3</td><td>17215</td><td>92.2</td><td>68626</td><td>93.7</td><td>3250</td><td>6.3</td><td>892</td><td>5.2</td><td>4142.0</td><td>6.0</td><td>2691</td><td>82.8</td><td>738</td><td>82.7</td><td>3429</td><td>82.8</td></tr><tr><td>&quot;Tripura&quot;</td><td>3078</td><td>94.6</td><td>34</td><td>85.0</td><td>3112</td><td>94.4</td><td>473</td><td>15.4</td><td>6</td><td>17.6</td><td>479.0</td><td>15.4</td><td>182</td><td>38.5</td><td>0</td><td>0.0</td><td>182</td><td>38.0</td></tr><tr><td>&quot;Uttar Pradesh&quot;</td><td>390088</td><td>93.0</td><td>100893</td><td>86.5</td><td>490981</td><td>91.6</td><td>21480</td><td>5.5</td><td>1968</td><td>2.0</td><td>23448.0</td><td>4.8</td><td>8161</td><td>38.0</td><td>670</td><td>34.0</td><td>8831</td><td>37.7</td></tr><tr><td>&quot;Uttarakhand&quot;</td><td>21948</td><td>96.6</td><td>4339</td><td>93.3</td><td>26287</td><td>96.1</td><td>1741</td><td>7.9</td><td>231</td><td>5.3</td><td>1972.0</td><td>7.5</td><td>670</td><td>38.5</td><td>121</td><td>52.4</td><td>791</td><td>40.1</td></tr><tr><td>&quot;West Bengal&quot;</td><td>87854</td><td>93.6</td><td>6472</td><td>80.9</td><td>94326</td><td>92.6</td><td>12541</td><td>14.3</td><td>910</td><td>14.1</td><td>13451.0</td><td>14.3</td><td>9590</td><td>76.5</td><td>710</td><td>78.0</td><td>10300</td><td>76.6</td></tr><tr><td>&quot;India&quot;</td><td>1707030</td><td>92.1</td><td>508900</td><td>89.6</td><td>2215930</td><td>91.5</td><td>143167</td><td>8.4</td><td>30564</td><td>6.0</td><td>173731.0</td><td>7.8</td><td>93897</td><td>65.6</td><td>16161</td><td>52.9</td><td>110058</td><td>63.3</td></tr></tbody></table></div>"
      ],
      "text/plain": [
       "shape: (37, 19)\n",
       "┌───────────┬───────────┬───────────┬───────────┬───┬───────────┬───────────┬───────────┬──────────┐\n",
       "│ State/Uts ┆ No of TB  ┆ Percentag ┆ No of TB  ┆ … ┆ No of TB  ┆ Percentag ┆ No of TB  ┆ Percenta │\n",
       "│ ---       ┆ - Diabete ┆ e  of TB  ┆ - Diabete ┆   ┆ -         ┆ e of TB - ┆ -         ┆ ge of TB │\n",
       "│ str       ┆ s-TB      ┆ - Diabete ┆ s-TB      ┆   ┆ Diabetes- ┆ Diabetes- ┆ Diabetes- ┆ - Diabet │\n",
       "│           ┆ patients  ┆ s-TB …    ┆ patients  ┆   ┆ patients  ┆ pat…      ┆ patients  ┆ es- pat… │\n",
       "│           ┆ …         ┆ ---       ┆ …         ┆   ┆ in…       ┆ ---       ┆ in…       ┆ ---      │\n",
       "│           ┆ ---       ┆ f64       ┆ ---       ┆   ┆ ---       ┆ f64       ┆ ---       ┆ f64      │\n",
       "│           ┆ i64       ┆           ┆ i64       ┆   ┆ i64       ┆           ┆ i64       ┆          │\n",
       "╞═══════════╪═══════════╪═══════════╪═══════════╪═══╪═══════════╪═══════════╪═══════════╪══════════╡\n",
       "│ Andaman & ┆ 518       ┆ 95.2      ┆ 3         ┆ … ┆ 1         ┆ 100.0     ┆ 70        ┆ 71.4     │\n",
       "│ Nicobar   ┆           ┆           ┆           ┆   ┆           ┆           ┆           ┆          │\n",
       "│ Islands   ┆           ┆           ┆           ┆   ┆           ┆           ┆           ┆          │\n",
       "│ Andhra    ┆ 65235     ┆ 98.7      ┆ 26883     ┆ … ┆ 1671      ┆ 56.8      ┆ 7953      ┆ 67.7     │\n",
       "│ Pradesh   ┆           ┆           ┆           ┆   ┆           ┆           ┆           ┆          │\n",
       "│ Arunachal ┆ 2378      ┆ 79.0      ┆ 3         ┆ … ┆ 0         ┆ 0.0       ┆ 28        ┆ 47.5     │\n",
       "│ Pradesh   ┆           ┆           ┆           ┆   ┆           ┆           ┆           ┆          │\n",
       "│ Assam     ┆ 34011     ┆ 81.0      ┆ 4929      ┆ … ┆ 179       ┆ 35.9      ┆ 1182      ┆ 38.7     │\n",
       "│ …         ┆ …         ┆ …         ┆ …         ┆ … ┆ …         ┆ …         ┆ …         ┆ …        │\n",
       "│ Uttar     ┆ 390088    ┆ 93.0      ┆ 100893    ┆ … ┆ 670       ┆ 34.0      ┆ 8831      ┆ 37.7     │\n",
       "│ Pradesh   ┆           ┆           ┆           ┆   ┆           ┆           ┆           ┆          │\n",
       "│ Uttarakha ┆ 21948     ┆ 96.6      ┆ 4339      ┆ … ┆ 121       ┆ 52.4      ┆ 791       ┆ 40.1     │\n",
       "│ nd        ┆           ┆           ┆           ┆   ┆           ┆           ┆           ┆          │\n",
       "│ West      ┆ 87854     ┆ 93.6      ┆ 6472      ┆ … ┆ 710       ┆ 78.0      ┆ 10300     ┆ 76.6     │\n",
       "│ Bengal    ┆           ┆           ┆           ┆   ┆           ┆           ┆           ┆          │\n",
       "│ India     ┆ 1707030   ┆ 92.1      ┆ 508900    ┆ … ┆ 16161     ┆ 52.9      ┆ 110058    ┆ 63.3     │\n",
       "└───────────┴───────────┴───────────┴───────────┴───┴───────────┴───────────┴───────────┴──────────┘"
      ]
     },
     "execution_count": 32,
     "metadata": {},
     "output_type": "execute_result"
    }
   ],
   "source": [
    "tb_diabetes"
   ]
  },
  {
   "cell_type": "code",
   "execution_count": 33,
   "metadata": {},
   "outputs": [
    {
     "data": {
      "text/html": [
       "<div><style>\n",
       ".dataframe > thead > tr > th,\n",
       ".dataframe > tbody > tr > td {\n",
       "  text-align: right;\n",
       "}\n",
       "</style>\n",
       "<small>shape: (37, 19)</small><table border=\"1\" class=\"dataframe\"><thead><tr><th>State/Uts</th><th> No of TB - Alcohol-TB patients with known Alcohol usage status, of notified)-Public</th><th>% of  TB - Alcohol-TB patients with known Alcohol usage status, of notified)-Public</th><th>No of  TB - Alcohol-TB patients with known Alcohol usage status,  of notified)-Private</th><th>% of  TB - Alcohol-TB patients with known Alcohol usage status,  of notified)-Private</th><th> No of TB - Alcohol-TB patients with known Alcohol usage status,  of notified)-Total</th><th>% of TB - Alcohol-TB patients with known Alcohol usage status, of notified)-Total</th><th>No of TB - Alcohol-Alcohol users identified amongst screened, of those with known alcohol usage status)-Public</th><th>Percentage  of TB - Alcohol-Alcohol users identified amongst screened,of those with known alcohol usage status)-Public</th><th>No of TB - Alcohol-Alcohol users identified amongst screened, of those with known alcohol usage status)-Private</th><th>Percentage  of TB - Alcohol-Alcohol users identified amongst screened, of those with known alcohol usage status)-Private</th><th>No of TB - Alcohol-Alcohol users identified amongst screened,  of those with known alcohol usage status)-Total</th><th>Percentage  of TB - Alcohol-Alcohol users identified amongst screened,  of those with known alcohol usage status)-Total</th><th>No of TB - Alcohol-Alcohol users linked with Deaddiction centres, of alcohol users)-Public</th><th>Percentage  of TB - Alcohol-Alcohol users linked with Deaddiction centres,  of alcohol users)-Public</th><th>No of TB - Alcohol-Alcohol users linked with Deaddiction centres,  of alcohol users)-Private</th><th>Percentage  of TB - Alcohol-Alcohol users linked with Deaddiction centres,  of alcohol users)-Private</th><th>No of TB - Alcohol-Alcohol users linked with Deaddiction centres, of alcohol users)-Total</th><th>Percentage  of No of TB - Alcohol-Alcohol users linked with Deaddiction centres, of alcohol users)-Total</th></tr><tr><td>str</td><td>str</td><td>f64</td><td>str</td><td>str</td><td>str</td><td>f64</td><td>str</td><td>f64</td><td>str</td><td>f64</td><td>str</td><td>f64</td><td>str</td><td>f64</td><td>str</td><td>str</td><td>str</td><td>str</td></tr></thead><tbody><tr><td>&quot;Andaman &amp; Nico…</td><td>&quot;490 &quot;</td><td>90.1</td><td>&quot;3 &quot;</td><td>&quot;75&quot;</td><td>&quot;493 &quot;</td><td>90.0</td><td>&quot;90 &quot;</td><td>18.4</td><td>&quot;0 &quot;</td><td>0.0</td><td>&quot;90 &quot;</td><td>18.3</td><td>&quot;26 &quot;</td><td>28.9</td><td>&quot;NA&quot;</td><td>&quot;NA&quot;</td><td>&quot;26 &quot;</td><td>&quot;28.9&quot;</td></tr><tr><td>&quot;Andhra Pradesh…</td><td>&quot;63257 &quot;</td><td>95.7</td><td>&quot;26303 &quot;</td><td>&quot;97.5&quot;</td><td>&quot;89560 &quot;</td><td>96.2</td><td>&quot;8187 &quot;</td><td>12.9</td><td>&quot;1208 &quot;</td><td>4.6</td><td>&quot;9395 &quot;</td><td>10.5</td><td>&quot;1901 &quot;</td><td>23.2</td><td>&quot;265 &quot;</td><td>&quot;21.9&quot;</td><td>&quot;2166 &quot;</td><td>&quot;23.1&quot;</td></tr><tr><td>&quot;Arunachal Prad…</td><td>&quot;2240 &quot;</td><td>74.4</td><td>&quot;3 &quot;</td><td>&quot;50&quot;</td><td>&quot;2243 &quot;</td><td>74.4</td><td>&quot;245 &quot;</td><td>10.9</td><td>&quot;0 &quot;</td><td>0.0</td><td>&quot;245 &quot;</td><td>10.9</td><td>&quot;140 &quot;</td><td>57.1</td><td>&quot;NA&quot;</td><td>&quot;NA&quot;</td><td>&quot;140 &quot;</td><td>&quot;57.1&quot;</td></tr><tr><td>&quot;Assam&quot;</td><td>&quot;29582 &quot;</td><td>70.4</td><td>&quot;4366 &quot;</td><td>&quot;73.7&quot;</td><td>&quot;33948 &quot;</td><td>70.8</td><td>&quot;5161 &quot;</td><td>17.4</td><td>&quot;179 &quot;</td><td>4.1</td><td>&quot;5340 &quot;</td><td>15.7</td><td>&quot;1244 &quot;</td><td>24.1</td><td>&quot;71 &quot;</td><td>&quot;39.7&quot;</td><td>&quot;1315 &quot;</td><td>&quot;24.6&quot;</td></tr><tr><td>&quot;Bihar&quot;</td><td>&quot;44246 &quot;</td><td>54.4</td><td>&quot;35745 &quot;</td><td>&quot;42.3&quot;</td><td>&quot;79991 &quot;</td><td>48.2</td><td>&quot;781 &quot;</td><td>1.8</td><td>&quot;254 &quot;</td><td>0.7</td><td>&quot;1035 &quot;</td><td>1.3</td><td>&quot;254 &quot;</td><td>32.5</td><td>&quot;9 &quot;</td><td>&quot;3.5&quot;</td><td>&quot;263 &quot;</td><td>&quot;25.4&quot;</td></tr><tr><td>&quot;Chandigarh&quot;</td><td>&quot;3487 &quot;</td><td>93.8</td><td>&quot;47 &quot;</td><td>&quot;73.4&quot;</td><td>&quot;3534 &quot;</td><td>93.4</td><td>&quot;209 &quot;</td><td>6.0</td><td>&quot;1 &quot;</td><td>2.1</td><td>&quot;210 &quot;</td><td>5.9</td><td>&quot;39 &quot;</td><td>18.7</td><td>&quot;1 &quot;</td><td>&quot;100&quot;</td><td>&quot;40 &quot;</td><td>&quot;19&quot;</td></tr><tr><td>&quot;Chhattisgarh&quot;</td><td>&quot;24653 &quot;</td><td>83.7</td><td>&quot;5734 &quot;</td><td>&quot;61.8&quot;</td><td>&quot;30387 &quot;</td><td>78.5</td><td>&quot;5395 &quot;</td><td>21.9</td><td>&quot;247 &quot;</td><td>4.3</td><td>&quot;5642 &quot;</td><td>18.6</td><td>&quot;2606 &quot;</td><td>48.3</td><td>&quot;114 &quot;</td><td>&quot;46.2&quot;</td><td>&quot;2720 &quot;</td><td>&quot;48.2&quot;</td></tr><tr><td>&quot;Dadra and Naga…</td><td>&quot;562 &quot;</td><td>66.5</td><td>&quot;58 &quot;</td><td>&quot;76.3&quot;</td><td>&quot;620 &quot;</td><td>67.3</td><td>&quot;59 &quot;</td><td>10.5</td><td>&quot;3 &quot;</td><td>5.2</td><td>&quot;62 &quot;</td><td>10.0</td><td>&quot;31 &quot;</td><td>52.5</td><td>&quot;1 &quot;</td><td>&quot;33.3&quot;</td><td>&quot;32 &quot;</td><td>&quot;51.6&quot;</td></tr><tr><td>&quot;Delhi&quot;</td><td>&quot;50682 &quot;</td><td>65.0</td><td>&quot;1660 &quot;</td><td>&quot;16.2&quot;</td><td>&quot;52342 &quot;</td><td>59.3</td><td>&quot;3074 &quot;</td><td>6.1</td><td>&quot;18 &quot;</td><td>1.1</td><td>&quot;3092 &quot;</td><td>5.9</td><td>&quot;619 &quot;</td><td>20.1</td><td>&quot;4 &quot;</td><td>&quot;22.2&quot;</td><td>&quot;623 &quot;</td><td>&quot;20.1&quot;</td></tr><tr><td>&quot;Goa&quot;</td><td>&quot;1563 &quot;</td><td>93.2</td><td>&quot;28 &quot;</td><td>&quot;7.1&quot;</td><td>&quot;1591 &quot;</td><td>76.7</td><td>&quot;120 &quot;</td><td>7.7</td><td>&quot;2 &quot;</td><td>7.1</td><td>&quot;122 &quot;</td><td>7.7</td><td>&quot;16 &quot;</td><td>13.3</td><td>&quot;0 &quot;</td><td>&quot;0&quot;</td><td>&quot;16 &quot;</td><td>&quot;13.1&quot;</td></tr><tr><td>&quot;Gujarat&quot;</td><td>&quot;103459 &quot;</td><td>95.2</td><td>&quot;35556 &quot;</td><td>&quot;90.1&quot;</td><td>&quot;139015 &quot;</td><td>93.8</td><td>&quot;5707 &quot;</td><td>5.5</td><td>&quot;493 &quot;</td><td>1.4</td><td>&quot;6200 &quot;</td><td>4.5</td><td>&quot;2455 &quot;</td><td>43.0</td><td>&quot;252 &quot;</td><td>&quot;51.1&quot;</td><td>&quot;2707 &quot;</td><td>&quot;43.7&quot;</td></tr><tr><td>&quot;Haryana&quot;</td><td>&quot;54295 &quot;</td><td>88.6</td><td>&quot;14079 &quot;</td><td>&quot;80.9&quot;</td><td>&quot;68374 &quot;</td><td>86.9</td><td>&quot;1790 &quot;</td><td>3.3</td><td>&quot;238 &quot;</td><td>1.7</td><td>&quot;2028 &quot;</td><td>3.0</td><td>&quot;729 &quot;</td><td>40.7</td><td>&quot;99 &quot;</td><td>&quot;41.6&quot;</td><td>&quot;828 &quot;</td><td>&quot;40.8&quot;</td></tr><tr><td>&hellip;</td><td>&hellip;</td><td>&hellip;</td><td>&hellip;</td><td>&hellip;</td><td>&hellip;</td><td>&hellip;</td><td>&hellip;</td><td>&hellip;</td><td>&hellip;</td><td>&hellip;</td><td>&hellip;</td><td>&hellip;</td><td>&hellip;</td><td>&hellip;</td><td>&hellip;</td><td>&hellip;</td><td>&hellip;</td><td>&hellip;</td></tr><tr><td>&quot;Odisha&quot;</td><td>&quot;52157 &quot;</td><td>93.9</td><td>&quot;3969 &quot;</td><td>&quot;90.3&quot;</td><td>&quot;56126 &quot;</td><td>93.6</td><td>&quot;8665 &quot;</td><td>16.6</td><td>&quot;251 &quot;</td><td>6.3</td><td>&quot;8916 &quot;</td><td>15.9</td><td>&quot;4024 &quot;</td><td>46.4</td><td>&quot;103 &quot;</td><td>&quot;41&quot;</td><td>&quot;4127 &quot;</td><td>&quot;46.3&quot;</td></tr><tr><td>&quot;Puducherry&quot;</td><td>&quot;1467 &quot;</td><td>96.2</td><td>&quot;2 &quot;</td><td>&quot;100&quot;</td><td>&quot;1469 &quot;</td><td>96.2</td><td>&quot;320 &quot;</td><td>21.8</td><td>&quot;0 &quot;</td><td>0.0</td><td>&quot;320 &quot;</td><td>21.8</td><td>&quot;315 &quot;</td><td>98.4</td><td>&quot;NA&quot;</td><td>&quot;NA&quot;</td><td>&quot;315 &quot;</td><td>&quot;98.4&quot;</td></tr><tr><td>&quot;Punjab&quot;</td><td>&quot;40121 &quot;</td><td>84.1</td><td>&quot;7502 &quot;</td><td>&quot;76.4&quot;</td><td>&quot;47623 &quot;</td><td>82.8</td><td>&quot;1531 &quot;</td><td>3.8</td><td>&quot;72 &quot;</td><td>1.0</td><td>&quot;1603 &quot;</td><td>3.4</td><td>&quot;280 &quot;</td><td>18.3</td><td>&quot;6 &quot;</td><td>&quot;8.3&quot;</td><td>&quot;286 &quot;</td><td>&quot;17.8&quot;</td></tr><tr><td>&quot;Rajasthan&quot;</td><td>&quot;104335 &quot;</td><td>79.3</td><td>&quot;28427 &quot;</td><td>&quot;73.6&quot;</td><td>&quot;132762 &quot;</td><td>78.0</td><td>&quot;3343 &quot;</td><td>3.2</td><td>&quot;450 &quot;</td><td>1.6</td><td>&quot;3793 &quot;</td><td>2.9</td><td>&quot;1071 &quot;</td><td>32.0</td><td>&quot;191 &quot;</td><td>&quot;42.4&quot;</td><td>&quot;1262 &quot;</td><td>&quot;33.3&quot;</td></tr><tr><td>&quot;Sikkim&quot;</td><td>&quot;983 &quot;</td><td>73.5</td><td>&quot;48 &quot;</td><td>&quot;64.9&quot;</td><td>&quot;1031 &quot;</td><td>73.0</td><td>&quot;60 &quot;</td><td>6.1</td><td>&quot;2 &quot;</td><td>4.2</td><td>&quot;62 &quot;</td><td>6.0</td><td>&quot;4 &quot;</td><td>6.7</td><td>&quot;1 &quot;</td><td>&quot;50&quot;</td><td>&quot;5 &quot;</td><td>&quot;8.1&quot;</td></tr><tr><td>&quot;Tamil Nadu&quot;</td><td>&quot;71063 &quot;</td><td>90.8</td><td>&quot;12009 &quot;</td><td>&quot;68&quot;</td><td>&quot;83072 &quot;</td><td>86.6</td><td>&quot;16475 &quot;</td><td>23.2</td><td>&quot;979 &quot;</td><td>8.2</td><td>&quot;17454 &quot;</td><td>21.0</td><td>&quot;3754 &quot;</td><td>22.8</td><td>&quot;170 &quot;</td><td>&quot;17.4&quot;</td><td>&quot;3924 &quot;</td><td>&quot;22.5&quot;</td></tr><tr><td>&quot;Telangana&quot;</td><td>&quot;50793 &quot;</td><td>93.1</td><td>&quot;16883 &quot;</td><td>&quot;90.4&quot;</td><td>&quot;67676 &quot;</td><td>92.4</td><td>&quot;7172 &quot;</td><td>14.1</td><td>&quot;871 &quot;</td><td>5.2</td><td>&quot;8043 &quot;</td><td>11.9</td><td>&quot;3827 &quot;</td><td>53.4</td><td>&quot;474 &quot;</td><td>&quot;54.4&quot;</td><td>&quot;4301 &quot;</td><td>&quot;53.5&quot;</td></tr><tr><td>&quot;Tripura&quot;</td><td>&quot;2177 &quot;</td><td>66.9</td><td>&quot;32 &quot;</td><td>&quot;80&quot;</td><td>&quot;2209 &quot;</td><td>67.0</td><td>&quot;495 &quot;</td><td>22.7</td><td>&quot;0 &quot;</td><td>0.0</td><td>&quot;495 &quot;</td><td>22.4</td><td>&quot;72 &quot;</td><td>14.5</td><td>&quot;NA&quot;</td><td>&quot;NA&quot;</td><td>&quot;72 &quot;</td><td>&quot;14.5&quot;</td></tr><tr><td>&quot;Uttar Pradesh&quot;</td><td>&quot;291692 &quot;</td><td>69.6</td><td>&quot;56031 &quot;</td><td>&quot;48&quot;</td><td>&quot;347723 &quot;</td><td>64.9</td><td>&quot;9876 &quot;</td><td>3.4</td><td>&quot;506 &quot;</td><td>0.9</td><td>&quot;10382 &quot;</td><td>3.0</td><td>&quot;2846 &quot;</td><td>28.8</td><td>&quot;76 &quot;</td><td>&quot;15&quot;</td><td>&quot;2922 &quot;</td><td>&quot;28.1&quot;</td></tr><tr><td>&quot;Uttarakhand&quot;</td><td>&quot;21322 &quot;</td><td>93.9</td><td>&quot;4180 &quot;</td><td>&quot;89.9&quot;</td><td>&quot;25502 &quot;</td><td>93.2</td><td>&quot;1645 &quot;</td><td>7.7</td><td>&quot;106 &quot;</td><td>2.5</td><td>&quot;1751 &quot;</td><td>6.9</td><td>&quot;610 &quot;</td><td>37.1</td><td>&quot;21 &quot;</td><td>&quot;19.8&quot;</td><td>&quot;631 &quot;</td><td>&quot;36&quot;</td></tr><tr><td>&quot;West Bengal&quot;</td><td>&quot;79395 &quot;</td><td>84.6</td><td>&quot;6058 &quot;</td><td>&quot;75.7&quot;</td><td>&quot;85453 &quot;</td><td>83.9</td><td>&quot;10784 &quot;</td><td>13.6</td><td>&quot;587 &quot;</td><td>9.7</td><td>&quot;11371 &quot;</td><td>13.3</td><td>&quot;3814 &quot;</td><td>35.4</td><td>&quot;218 &quot;</td><td>&quot;37.1&quot;</td><td>&quot;4032 &quot;</td><td>&quot;35.5&quot;</td></tr><tr><td>&quot;India&quot;</td><td>&quot;1448433 &quot;</td><td>78.1</td><td>&quot;348682 &quot;</td><td>&quot;61.4&quot;</td><td>&quot;1797115 &quot;</td><td>74.2</td><td>&quot;121545 &quot;</td><td>8.4</td><td>&quot;8068 &quot;</td><td>2.3</td><td>&quot;129613 &quot;</td><td>7.2</td><td>&quot;40900 &quot;</td><td>33.7</td><td>&quot;2535 &quot;</td><td>&quot;31.4&quot;</td><td>&quot;43435 &quot;</td><td>&quot;33.5&quot;</td></tr></tbody></table></div>"
      ],
      "text/plain": [
       "shape: (37, 19)\n",
       "┌───────────┬───────────┬───────────┬───────────┬───┬───────────┬───────────┬───────────┬──────────┐\n",
       "│ State/Uts ┆ No of TB  ┆ % of  TB  ┆ No of  TB ┆ … ┆ No of TB  ┆ Percentag ┆ No of TB  ┆ Percenta │\n",
       "│ ---       ┆ - Alcohol ┆ - Alcohol ┆ - Alcohol ┆   ┆ - Alcohol ┆ e  of TB  ┆ - Alcohol ┆ ge  of   │\n",
       "│ str       ┆ -TB       ┆ -TB       ┆ -TB       ┆   ┆ -Alcohol  ┆ - Alcohol ┆ -Alcohol  ┆ No of TB │\n",
       "│           ┆ patients  ┆ patients  ┆ patients  ┆   ┆ users…    ┆ -Alco…    ┆ users…    ┆ -        │\n",
       "│           ┆ …         ┆ w…        ┆ …         ┆   ┆ ---       ┆ ---       ┆ ---       ┆ Alcoho…  │\n",
       "│           ┆ ---       ┆ ---       ┆ ---       ┆   ┆ str       ┆ str       ┆ str       ┆ ---      │\n",
       "│           ┆ str       ┆ f64       ┆ str       ┆   ┆           ┆           ┆           ┆ str      │\n",
       "╞═══════════╪═══════════╪═══════════╪═══════════╪═══╪═══════════╪═══════════╪═══════════╪══════════╡\n",
       "│ Andaman & ┆ 490       ┆ 90.1      ┆ 3         ┆ … ┆ NA        ┆ NA        ┆ 26        ┆ 28.9     │\n",
       "│ Nicobar   ┆           ┆           ┆           ┆   ┆           ┆           ┆           ┆          │\n",
       "│ Islands   ┆           ┆           ┆           ┆   ┆           ┆           ┆           ┆          │\n",
       "│ Andhra    ┆ 63257     ┆ 95.7      ┆ 26303     ┆ … ┆ 265       ┆ 21.9      ┆ 2166      ┆ 23.1     │\n",
       "│ Pradesh   ┆           ┆           ┆           ┆   ┆           ┆           ┆           ┆          │\n",
       "│ Arunachal ┆ 2240      ┆ 74.4      ┆ 3         ┆ … ┆ NA        ┆ NA        ┆ 140       ┆ 57.1     │\n",
       "│ Pradesh   ┆           ┆           ┆           ┆   ┆           ┆           ┆           ┆          │\n",
       "│ Assam     ┆ 29582     ┆ 70.4      ┆ 4366      ┆ … ┆ 71        ┆ 39.7      ┆ 1315      ┆ 24.6     │\n",
       "│ …         ┆ …         ┆ …         ┆ …         ┆ … ┆ …         ┆ …         ┆ …         ┆ …        │\n",
       "│ Uttar     ┆ 291692    ┆ 69.6      ┆ 56031     ┆ … ┆ 76        ┆ 15        ┆ 2922      ┆ 28.1     │\n",
       "│ Pradesh   ┆           ┆           ┆           ┆   ┆           ┆           ┆           ┆          │\n",
       "│ Uttarakha ┆ 21322     ┆ 93.9      ┆ 4180      ┆ … ┆ 21        ┆ 19.8      ┆ 631       ┆ 36       │\n",
       "│ nd        ┆           ┆           ┆           ┆   ┆           ┆           ┆           ┆          │\n",
       "│ West      ┆ 79395     ┆ 84.6      ┆ 6058      ┆ … ┆ 218       ┆ 37.1      ┆ 4032      ┆ 35.5     │\n",
       "│ Bengal    ┆           ┆           ┆           ┆   ┆           ┆           ┆           ┆          │\n",
       "│ India     ┆ 1448433   ┆ 78.1      ┆ 348682    ┆ … ┆ 2535      ┆ 31.4      ┆ 43435     ┆ 33.5     │\n",
       "└───────────┴───────────┴───────────┴───────────┴───┴───────────┴───────────┴───────────┴──────────┘"
      ]
     },
     "execution_count": 33,
     "metadata": {},
     "output_type": "execute_result"
    }
   ],
   "source": [
    "# apply the same formatting for the other tables\n",
    "tb_alcohol"
   ]
  },
  {
   "cell_type": "code",
   "execution_count": 34,
   "metadata": {},
   "outputs": [],
   "source": [
    "columnas_tba = tb_alcohol.columns[1:]\n",
    "\n",
    "for c in columnas_tba:\n",
    "    tb_alcohol = tb_alcohol.with_columns(tb_alcohol[c].str.replace(' ', ''))"
   ]
  },
  {
   "cell_type": "code",
   "execution_count": 35,
   "metadata": {},
   "outputs": [],
   "source": [
    "for c in columnas_tba:\n",
    "    tb_alcohol = tb_alcohol.with_columns(tb_alcohol[c].str.replace('NA', '0'))"
   ]
  },
  {
   "cell_type": "code",
   "execution_count": 36,
   "metadata": {},
   "outputs": [],
   "source": [
    "# mass convert\n",
    "for i in range(1,len(tb_alcohol.columns)):\n",
    "    if i%2 == 0:\n",
    "        tb_alcohol = tb_alcohol.with_columns(tb_alcohol[tb_alcohol.columns[i]].cast(pl.Float64))\n",
    "    else:\n",
    "        tb_alcohol = tb_alcohol.with_columns(tb_alcohol[tb_alcohol.columns[i]].cast(pl.Int64))"
   ]
  },
  {
   "cell_type": "code",
   "execution_count": 37,
   "metadata": {},
   "outputs": [
    {
     "data": {
      "text/html": [
       "<div><style>\n",
       ".dataframe > thead > tr > th,\n",
       ".dataframe > tbody > tr > td {\n",
       "  text-align: right;\n",
       "}\n",
       "</style>\n",
       "<small>shape: (37, 19)</small><table border=\"1\" class=\"dataframe\"><thead><tr><th>State/Uts</th><th> No of TB - Alcohol-TB patients with known Alcohol usage status, of notified)-Public</th><th>% of  TB - Alcohol-TB patients with known Alcohol usage status, of notified)-Public</th><th>No of  TB - Alcohol-TB patients with known Alcohol usage status,  of notified)-Private</th><th>% of  TB - Alcohol-TB patients with known Alcohol usage status,  of notified)-Private</th><th> No of TB - Alcohol-TB patients with known Alcohol usage status,  of notified)-Total</th><th>% of TB - Alcohol-TB patients with known Alcohol usage status, of notified)-Total</th><th>No of TB - Alcohol-Alcohol users identified amongst screened, of those with known alcohol usage status)-Public</th><th>Percentage  of TB - Alcohol-Alcohol users identified amongst screened,of those with known alcohol usage status)-Public</th><th>No of TB - Alcohol-Alcohol users identified amongst screened, of those with known alcohol usage status)-Private</th><th>Percentage  of TB - Alcohol-Alcohol users identified amongst screened, of those with known alcohol usage status)-Private</th><th>No of TB - Alcohol-Alcohol users identified amongst screened,  of those with known alcohol usage status)-Total</th><th>Percentage  of TB - Alcohol-Alcohol users identified amongst screened,  of those with known alcohol usage status)-Total</th><th>No of TB - Alcohol-Alcohol users linked with Deaddiction centres, of alcohol users)-Public</th><th>Percentage  of TB - Alcohol-Alcohol users linked with Deaddiction centres,  of alcohol users)-Public</th><th>No of TB - Alcohol-Alcohol users linked with Deaddiction centres,  of alcohol users)-Private</th><th>Percentage  of TB - Alcohol-Alcohol users linked with Deaddiction centres,  of alcohol users)-Private</th><th>No of TB - Alcohol-Alcohol users linked with Deaddiction centres, of alcohol users)-Total</th><th>Percentage  of No of TB - Alcohol-Alcohol users linked with Deaddiction centres, of alcohol users)-Total</th></tr><tr><td>str</td><td>i64</td><td>f64</td><td>i64</td><td>f64</td><td>i64</td><td>f64</td><td>i64</td><td>f64</td><td>i64</td><td>f64</td><td>i64</td><td>f64</td><td>i64</td><td>f64</td><td>i64</td><td>f64</td><td>i64</td><td>f64</td></tr></thead><tbody><tr><td>&quot;Andaman &amp; Nico…</td><td>490</td><td>90.1</td><td>3</td><td>75.0</td><td>493</td><td>90.0</td><td>90</td><td>18.4</td><td>0</td><td>0.0</td><td>90</td><td>18.3</td><td>26</td><td>28.9</td><td>0</td><td>0.0</td><td>26</td><td>28.9</td></tr><tr><td>&quot;Andhra Pradesh…</td><td>63257</td><td>95.7</td><td>26303</td><td>97.5</td><td>89560</td><td>96.2</td><td>8187</td><td>12.9</td><td>1208</td><td>4.6</td><td>9395</td><td>10.5</td><td>1901</td><td>23.2</td><td>265</td><td>21.9</td><td>2166</td><td>23.1</td></tr><tr><td>&quot;Arunachal Prad…</td><td>2240</td><td>74.4</td><td>3</td><td>50.0</td><td>2243</td><td>74.4</td><td>245</td><td>10.9</td><td>0</td><td>0.0</td><td>245</td><td>10.9</td><td>140</td><td>57.1</td><td>0</td><td>0.0</td><td>140</td><td>57.1</td></tr><tr><td>&quot;Assam&quot;</td><td>29582</td><td>70.4</td><td>4366</td><td>73.7</td><td>33948</td><td>70.8</td><td>5161</td><td>17.4</td><td>179</td><td>4.1</td><td>5340</td><td>15.7</td><td>1244</td><td>24.1</td><td>71</td><td>39.7</td><td>1315</td><td>24.6</td></tr><tr><td>&quot;Bihar&quot;</td><td>44246</td><td>54.4</td><td>35745</td><td>42.3</td><td>79991</td><td>48.2</td><td>781</td><td>1.8</td><td>254</td><td>0.7</td><td>1035</td><td>1.3</td><td>254</td><td>32.5</td><td>9</td><td>3.5</td><td>263</td><td>25.4</td></tr><tr><td>&quot;Chandigarh&quot;</td><td>3487</td><td>93.8</td><td>47</td><td>73.4</td><td>3534</td><td>93.4</td><td>209</td><td>6.0</td><td>1</td><td>2.1</td><td>210</td><td>5.9</td><td>39</td><td>18.7</td><td>1</td><td>100.0</td><td>40</td><td>19.0</td></tr><tr><td>&quot;Chhattisgarh&quot;</td><td>24653</td><td>83.7</td><td>5734</td><td>61.8</td><td>30387</td><td>78.5</td><td>5395</td><td>21.9</td><td>247</td><td>4.3</td><td>5642</td><td>18.6</td><td>2606</td><td>48.3</td><td>114</td><td>46.2</td><td>2720</td><td>48.2</td></tr><tr><td>&quot;Dadra and Naga…</td><td>562</td><td>66.5</td><td>58</td><td>76.3</td><td>620</td><td>67.3</td><td>59</td><td>10.5</td><td>3</td><td>5.2</td><td>62</td><td>10.0</td><td>31</td><td>52.5</td><td>1</td><td>33.3</td><td>32</td><td>51.6</td></tr><tr><td>&quot;Delhi&quot;</td><td>50682</td><td>65.0</td><td>1660</td><td>16.2</td><td>52342</td><td>59.3</td><td>3074</td><td>6.1</td><td>18</td><td>1.1</td><td>3092</td><td>5.9</td><td>619</td><td>20.1</td><td>4</td><td>22.2</td><td>623</td><td>20.1</td></tr><tr><td>&quot;Goa&quot;</td><td>1563</td><td>93.2</td><td>28</td><td>7.1</td><td>1591</td><td>76.7</td><td>120</td><td>7.7</td><td>2</td><td>7.1</td><td>122</td><td>7.7</td><td>16</td><td>13.3</td><td>0</td><td>0.0</td><td>16</td><td>13.1</td></tr><tr><td>&quot;Gujarat&quot;</td><td>103459</td><td>95.2</td><td>35556</td><td>90.1</td><td>139015</td><td>93.8</td><td>5707</td><td>5.5</td><td>493</td><td>1.4</td><td>6200</td><td>4.5</td><td>2455</td><td>43.0</td><td>252</td><td>51.1</td><td>2707</td><td>43.7</td></tr><tr><td>&quot;Haryana&quot;</td><td>54295</td><td>88.6</td><td>14079</td><td>80.9</td><td>68374</td><td>86.9</td><td>1790</td><td>3.3</td><td>238</td><td>1.7</td><td>2028</td><td>3.0</td><td>729</td><td>40.7</td><td>99</td><td>41.6</td><td>828</td><td>40.8</td></tr><tr><td>&hellip;</td><td>&hellip;</td><td>&hellip;</td><td>&hellip;</td><td>&hellip;</td><td>&hellip;</td><td>&hellip;</td><td>&hellip;</td><td>&hellip;</td><td>&hellip;</td><td>&hellip;</td><td>&hellip;</td><td>&hellip;</td><td>&hellip;</td><td>&hellip;</td><td>&hellip;</td><td>&hellip;</td><td>&hellip;</td><td>&hellip;</td></tr><tr><td>&quot;Odisha&quot;</td><td>52157</td><td>93.9</td><td>3969</td><td>90.3</td><td>56126</td><td>93.6</td><td>8665</td><td>16.6</td><td>251</td><td>6.3</td><td>8916</td><td>15.9</td><td>4024</td><td>46.4</td><td>103</td><td>41.0</td><td>4127</td><td>46.3</td></tr><tr><td>&quot;Puducherry&quot;</td><td>1467</td><td>96.2</td><td>2</td><td>100.0</td><td>1469</td><td>96.2</td><td>320</td><td>21.8</td><td>0</td><td>0.0</td><td>320</td><td>21.8</td><td>315</td><td>98.4</td><td>0</td><td>0.0</td><td>315</td><td>98.4</td></tr><tr><td>&quot;Punjab&quot;</td><td>40121</td><td>84.1</td><td>7502</td><td>76.4</td><td>47623</td><td>82.8</td><td>1531</td><td>3.8</td><td>72</td><td>1.0</td><td>1603</td><td>3.4</td><td>280</td><td>18.3</td><td>6</td><td>8.3</td><td>286</td><td>17.8</td></tr><tr><td>&quot;Rajasthan&quot;</td><td>104335</td><td>79.3</td><td>28427</td><td>73.6</td><td>132762</td><td>78.0</td><td>3343</td><td>3.2</td><td>450</td><td>1.6</td><td>3793</td><td>2.9</td><td>1071</td><td>32.0</td><td>191</td><td>42.4</td><td>1262</td><td>33.3</td></tr><tr><td>&quot;Sikkim&quot;</td><td>983</td><td>73.5</td><td>48</td><td>64.9</td><td>1031</td><td>73.0</td><td>60</td><td>6.1</td><td>2</td><td>4.2</td><td>62</td><td>6.0</td><td>4</td><td>6.7</td><td>1</td><td>50.0</td><td>5</td><td>8.1</td></tr><tr><td>&quot;Tamil Nadu&quot;</td><td>71063</td><td>90.8</td><td>12009</td><td>68.0</td><td>83072</td><td>86.6</td><td>16475</td><td>23.2</td><td>979</td><td>8.2</td><td>17454</td><td>21.0</td><td>3754</td><td>22.8</td><td>170</td><td>17.4</td><td>3924</td><td>22.5</td></tr><tr><td>&quot;Telangana&quot;</td><td>50793</td><td>93.1</td><td>16883</td><td>90.4</td><td>67676</td><td>92.4</td><td>7172</td><td>14.1</td><td>871</td><td>5.2</td><td>8043</td><td>11.9</td><td>3827</td><td>53.4</td><td>474</td><td>54.4</td><td>4301</td><td>53.5</td></tr><tr><td>&quot;Tripura&quot;</td><td>2177</td><td>66.9</td><td>32</td><td>80.0</td><td>2209</td><td>67.0</td><td>495</td><td>22.7</td><td>0</td><td>0.0</td><td>495</td><td>22.4</td><td>72</td><td>14.5</td><td>0</td><td>0.0</td><td>72</td><td>14.5</td></tr><tr><td>&quot;Uttar Pradesh&quot;</td><td>291692</td><td>69.6</td><td>56031</td><td>48.0</td><td>347723</td><td>64.9</td><td>9876</td><td>3.4</td><td>506</td><td>0.9</td><td>10382</td><td>3.0</td><td>2846</td><td>28.8</td><td>76</td><td>15.0</td><td>2922</td><td>28.1</td></tr><tr><td>&quot;Uttarakhand&quot;</td><td>21322</td><td>93.9</td><td>4180</td><td>89.9</td><td>25502</td><td>93.2</td><td>1645</td><td>7.7</td><td>106</td><td>2.5</td><td>1751</td><td>6.9</td><td>610</td><td>37.1</td><td>21</td><td>19.8</td><td>631</td><td>36.0</td></tr><tr><td>&quot;West Bengal&quot;</td><td>79395</td><td>84.6</td><td>6058</td><td>75.7</td><td>85453</td><td>83.9</td><td>10784</td><td>13.6</td><td>587</td><td>9.7</td><td>11371</td><td>13.3</td><td>3814</td><td>35.4</td><td>218</td><td>37.1</td><td>4032</td><td>35.5</td></tr><tr><td>&quot;India&quot;</td><td>1448433</td><td>78.1</td><td>348682</td><td>61.4</td><td>1797115</td><td>74.2</td><td>121545</td><td>8.4</td><td>8068</td><td>2.3</td><td>129613</td><td>7.2</td><td>40900</td><td>33.7</td><td>2535</td><td>31.4</td><td>43435</td><td>33.5</td></tr></tbody></table></div>"
      ],
      "text/plain": [
       "shape: (37, 19)\n",
       "┌───────────┬───────────┬───────────┬───────────┬───┬───────────┬───────────┬───────────┬──────────┐\n",
       "│ State/Uts ┆ No of TB  ┆ % of  TB  ┆ No of  TB ┆ … ┆ No of TB  ┆ Percentag ┆ No of TB  ┆ Percenta │\n",
       "│ ---       ┆ - Alcohol ┆ - Alcohol ┆ - Alcohol ┆   ┆ - Alcohol ┆ e  of TB  ┆ - Alcohol ┆ ge  of   │\n",
       "│ str       ┆ -TB       ┆ -TB       ┆ -TB       ┆   ┆ -Alcohol  ┆ - Alcohol ┆ -Alcohol  ┆ No of TB │\n",
       "│           ┆ patients  ┆ patients  ┆ patients  ┆   ┆ users…    ┆ -Alco…    ┆ users…    ┆ -        │\n",
       "│           ┆ …         ┆ w…        ┆ …         ┆   ┆ ---       ┆ ---       ┆ ---       ┆ Alcoho…  │\n",
       "│           ┆ ---       ┆ ---       ┆ ---       ┆   ┆ i64       ┆ f64       ┆ i64       ┆ ---      │\n",
       "│           ┆ i64       ┆ f64       ┆ i64       ┆   ┆           ┆           ┆           ┆ f64      │\n",
       "╞═══════════╪═══════════╪═══════════╪═══════════╪═══╪═══════════╪═══════════╪═══════════╪══════════╡\n",
       "│ Andaman & ┆ 490       ┆ 90.1      ┆ 3         ┆ … ┆ 0         ┆ 0.0       ┆ 26        ┆ 28.9     │\n",
       "│ Nicobar   ┆           ┆           ┆           ┆   ┆           ┆           ┆           ┆          │\n",
       "│ Islands   ┆           ┆           ┆           ┆   ┆           ┆           ┆           ┆          │\n",
       "│ Andhra    ┆ 63257     ┆ 95.7      ┆ 26303     ┆ … ┆ 265       ┆ 21.9      ┆ 2166      ┆ 23.1     │\n",
       "│ Pradesh   ┆           ┆           ┆           ┆   ┆           ┆           ┆           ┆          │\n",
       "│ Arunachal ┆ 2240      ┆ 74.4      ┆ 3         ┆ … ┆ 0         ┆ 0.0       ┆ 140       ┆ 57.1     │\n",
       "│ Pradesh   ┆           ┆           ┆           ┆   ┆           ┆           ┆           ┆          │\n",
       "│ Assam     ┆ 29582     ┆ 70.4      ┆ 4366      ┆ … ┆ 71        ┆ 39.7      ┆ 1315      ┆ 24.6     │\n",
       "│ …         ┆ …         ┆ …         ┆ …         ┆ … ┆ …         ┆ …         ┆ …         ┆ …        │\n",
       "│ Uttar     ┆ 291692    ┆ 69.6      ┆ 56031     ┆ … ┆ 76        ┆ 15.0      ┆ 2922      ┆ 28.1     │\n",
       "│ Pradesh   ┆           ┆           ┆           ┆   ┆           ┆           ┆           ┆          │\n",
       "│ Uttarakha ┆ 21322     ┆ 93.9      ┆ 4180      ┆ … ┆ 21        ┆ 19.8      ┆ 631       ┆ 36.0     │\n",
       "│ nd        ┆           ┆           ┆           ┆   ┆           ┆           ┆           ┆          │\n",
       "│ West      ┆ 79395     ┆ 84.6      ┆ 6058      ┆ … ┆ 218       ┆ 37.1      ┆ 4032      ┆ 35.5     │\n",
       "│ Bengal    ┆           ┆           ┆           ┆   ┆           ┆           ┆           ┆          │\n",
       "│ India     ┆ 1448433   ┆ 78.1      ┆ 348682    ┆ … ┆ 2535      ┆ 31.4      ┆ 43435     ┆ 33.5     │\n",
       "└───────────┴───────────┴───────────┴───────────┴───┴───────────┴───────────┴───────────┴──────────┘"
      ]
     },
     "execution_count": 37,
     "metadata": {},
     "output_type": "execute_result"
    }
   ],
   "source": [
    "tb_alcohol"
   ]
  },
  {
   "cell_type": "code",
   "execution_count": 38,
   "metadata": {},
   "outputs": [
    {
     "data": {
      "text/html": [
       "<div><style>\n",
       ".dataframe > thead > tr > th,\n",
       ".dataframe > tbody > tr > td {\n",
       "  text-align: right;\n",
       "}\n",
       "</style>\n",
       "<small>shape: (37, 19)</small><table border=\"1\" class=\"dataframe\"><thead><tr><th>State/Uts</th><th>No of Tobacco-TB patients with known Tobacco usage status, of notified)-Public</th><th>% of Tobacco-TB patients with known Tobacco usage status, of notified)-Public</th><th>No of Tobacco-TB patients with known Tobacco usage status,of notified)-Private</th><th>% of Tobacco-TB patients with known Tobacco usage status,  of notified)-Private</th><th>No of Tobacco-TB patients with known Tobacco usage status,  of notified)-Total</th><th>% of Tobacco-TB patients with known Tobacco usage status, of notified)-Total</th><th>No of Tobacco users identified amongst screened,  of those with known tobacco usage status)-Public</th><th>Percentage of Tobacco users identified amongst screened,  of those with known tobacco usage status)-Public</th><th>No of Tobacco users identified amongst screened,of those with known tobacco usage status)-Private</th><th>Percentage of Tobacco users identified amongst screened,  of those with known tobacco usage status)-Private</th><th>No of Tobacco users identified amongst screened,of those with known tobacco usage status)-Total</th><th>Percentage  of Tobacco users identified amongst screened, of those with known tobacco usage status)-Total</th><th>No of Tobacco users linked with Tobacco cessation centres, of tobacco users)-Public</th><th>Percentage  of Tobacco users linked with Tobacco cessation centres, of tobacco users)-Public</th><th>No of Tobacco users linked with Tobacco cessation centres,of tobacco users)-Private</th><th>Percentage  of Tobacco users linked with Tobacco cessation centres, n (% of tobacco users)-Private</th><th>No of Tobacco users linked with Tobacco cessation centres, of tobacco users)-Total</th><th>Percentage  of Tobacco users linked with Tobacco cessation centres, of tobacco users)-Total</th></tr><tr><td>str</td><td>str</td><td>f64</td><td>str</td><td>str</td><td>str</td><td>f64</td><td>str</td><td>f64</td><td>str</td><td>str</td><td>str</td><td>f64</td><td>str</td><td>f64</td><td>str</td><td>str</td><td>str</td><td>f64</td></tr></thead><tbody><tr><td>&quot;Andaman &amp; Nico…</td><td>&quot;495 &quot;</td><td>91.0</td><td>&quot;3 &quot;</td><td>&quot;75&quot;</td><td>&quot;498 &quot;</td><td>90.9</td><td>&quot;89 &quot;</td><td>18.0</td><td>&quot;0&quot;</td><td>&quot;0&quot;</td><td>&quot;89 &quot;</td><td>17.9</td><td>&quot;30 &quot;</td><td>33.7</td><td>&quot;NA&quot;</td><td>&quot;NA&quot;</td><td>&quot;30 &quot;</td><td>33.7</td></tr><tr><td>&quot;Andhra Pradesh…</td><td>&quot;63627 &quot;</td><td>96.2</td><td>&quot;26477 &quot;</td><td>&quot;98.1&quot;</td><td>&quot;90104 &quot;</td><td>96.8</td><td>&quot;9786 &quot;</td><td>15.4</td><td>&quot;1409 &quot;</td><td>&quot;5.3&quot;</td><td>&quot;11195 &quot;</td><td>12.4</td><td>&quot;2456 &quot;</td><td>25.1</td><td>&quot;326 &quot;</td><td>&quot;23.1&quot;</td><td>&quot;2782 &quot;</td><td>24.9</td></tr><tr><td>&quot;Arunachal Prad…</td><td>&quot;2256 &quot;</td><td>75.0</td><td>&quot;3 &quot;</td><td>&quot;50&quot;</td><td>&quot;2259 &quot;</td><td>74.9</td><td>&quot;303 &quot;</td><td>13.4</td><td>&quot;0 &quot;</td><td>&quot;0&quot;</td><td>&quot;303 &quot;</td><td>13.4</td><td>&quot;171 &quot;</td><td>56.4</td><td>&quot;NA&quot;</td><td>&quot;NA&quot;</td><td>&quot;171 &quot;</td><td>56.4</td></tr><tr><td>&quot;Assam&quot;</td><td>&quot;30134 &quot;</td><td>71.7</td><td>&quot;4074 &quot;</td><td>&quot;68.8&quot;</td><td>&quot;34208 &quot;</td><td>71.4</td><td>&quot;7929 &quot;</td><td>26.3</td><td>&quot;325 &quot;</td><td>&quot;8&quot;</td><td>&quot;8254 &quot;</td><td>24.1</td><td>&quot;1497 &quot;</td><td>18.9</td><td>&quot;93 &quot;</td><td>&quot;28.6&quot;</td><td>&quot;1590 &quot;</td><td>19.3</td></tr><tr><td>&quot;Bihar&quot;</td><td>&quot;44248 &quot;</td><td>54.4</td><td>&quot;36165 &quot;</td><td>&quot;42.8&quot;</td><td>&quot;80413 &quot;</td><td>48.5</td><td>&quot;4139 &quot;</td><td>9.4</td><td>&quot;1152 &quot;</td><td>&quot;3.2&quot;</td><td>&quot;5291 &quot;</td><td>6.6</td><td>&quot;917 &quot;</td><td>22.2</td><td>&quot;41 &quot;</td><td>&quot;3.6&quot;</td><td>&quot;958 &quot;</td><td>18.1</td></tr><tr><td>&quot;Chandigarh&quot;</td><td>&quot;3508 &quot;</td><td>94.3</td><td>&quot;47 &quot;</td><td>&quot;73.4&quot;</td><td>&quot;3555 &quot;</td><td>94.0</td><td>&quot;305 &quot;</td><td>8.7</td><td>&quot;2 &quot;</td><td>&quot;4.3&quot;</td><td>&quot;307 &quot;</td><td>8.6</td><td>&quot;60 &quot;</td><td>19.7</td><td>&quot;0 &quot;</td><td>&quot;0&quot;</td><td>&quot;60 &quot;</td><td>19.5</td></tr><tr><td>&quot;Chhattisgarh&quot;</td><td>&quot;25332 &quot;</td><td>86.0</td><td>&quot;5815 &quot;</td><td>&quot;62.7&quot;</td><td>&quot;31147 &quot;</td><td>80.4</td><td>&quot;7986 &quot;</td><td>31.5</td><td>&quot;336 &quot;</td><td>&quot;5.8&quot;</td><td>&quot;8322 &quot;</td><td>26.7</td><td>&quot;3595 &quot;</td><td>45.0</td><td>&quot;140 &quot;</td><td>&quot;41.7&quot;</td><td>&quot;3735 &quot;</td><td>44.9</td></tr><tr><td>&quot;Dadra and Naga…</td><td>&quot;548 &quot;</td><td>64.9</td><td>&quot;57 &quot;</td><td>&quot;75&quot;</td><td>&quot;605 &quot;</td><td>65.7</td><td>&quot;67 &quot;</td><td>12.2</td><td>&quot;2 &quot;</td><td>&quot;3.5&quot;</td><td>&quot;69 &quot;</td><td>11.4</td><td>&quot;38 &quot;</td><td>56.7</td><td>&quot;2 &quot;</td><td>&quot;100&quot;</td><td>&quot;40 &quot;</td><td>58.0</td></tr><tr><td>&quot;Delhi&quot;</td><td>&quot;51623 &quot;</td><td>66.2</td><td>&quot;1686 &quot;</td><td>&quot;16.5&quot;</td><td>&quot;53309 &quot;</td><td>60.4</td><td>&quot;3440 &quot;</td><td>6.7</td><td>&quot;16 &quot;</td><td>&quot;0.9&quot;</td><td>&quot;3456 &quot;</td><td>6.5</td><td>&quot;777 &quot;</td><td>22.6</td><td>&quot;5 &quot;</td><td>&quot;31.3&quot;</td><td>&quot;782 &quot;</td><td>22.6</td></tr><tr><td>&quot;Goa&quot;</td><td>&quot;1553 &quot;</td><td>92.6</td><td>&quot;27 &quot;</td><td>&quot;6.8&quot;</td><td>&quot;1580 &quot;</td><td>76.2</td><td>&quot;105 &quot;</td><td>6.8</td><td>&quot;1 &quot;</td><td>&quot;3.7&quot;</td><td>&quot;106 &quot;</td><td>6.7</td><td>&quot;8 &quot;</td><td>7.6</td><td>&quot;1 &quot;</td><td>&quot;100&quot;</td><td>&quot;9 &quot;</td><td>8.5</td></tr><tr><td>&quot;Gujarat&quot;</td><td>&quot;104192 &quot;</td><td>95.9</td><td>&quot;35780 &quot;</td><td>&quot;90.6&quot;</td><td>&quot;139972 &quot;</td><td>94.5</td><td>&quot;16920 &quot;</td><td>16.2</td><td>&quot;2365 &quot;</td><td>&quot;6.6&quot;</td><td>&quot;19285 &quot;</td><td>13.8</td><td>&quot;7145 &quot;</td><td>42.2</td><td>&quot;895 &quot;</td><td>&quot;37.8&quot;</td><td>&quot;8040 &quot;</td><td>41.7</td></tr><tr><td>&quot;Haryana&quot;</td><td>&quot;54848 &quot;</td><td>89.5</td><td>&quot;14373 &quot;</td><td>&quot;82.6&quot;</td><td>&quot;69221 &quot;</td><td>88.0</td><td>&quot;2572 &quot;</td><td>4.7</td><td>&quot;486 &quot;</td><td>&quot;3.4&quot;</td><td>&quot;3058 &quot;</td><td>4.4</td><td>&quot;1044 &quot;</td><td>40.6</td><td>&quot;161 &quot;</td><td>&quot;33.1&quot;</td><td>&quot;1205 &quot;</td><td>39.4</td></tr><tr><td>&hellip;</td><td>&hellip;</td><td>&hellip;</td><td>&hellip;</td><td>&hellip;</td><td>&hellip;</td><td>&hellip;</td><td>&hellip;</td><td>&hellip;</td><td>&hellip;</td><td>&hellip;</td><td>&hellip;</td><td>&hellip;</td><td>&hellip;</td><td>&hellip;</td><td>&hellip;</td><td>&hellip;</td><td>&hellip;</td><td>&hellip;</td></tr><tr><td>&quot;Odisha&quot;</td><td>&quot;52549 &quot;</td><td>94.6</td><td>&quot;4025 &quot;</td><td>&quot;91.6&quot;</td><td>&quot;56574 &quot;</td><td>94.4</td><td>&quot;9966 &quot;</td><td>19.0</td><td>&quot;262 &quot;</td><td>&quot;6.5&quot;</td><td>&quot;10228 &quot;</td><td>18.1</td><td>&quot;4454 &quot;</td><td>44.7</td><td>&quot;114 &quot;</td><td>&quot;43.5&quot;</td><td>&quot;4568 &quot;</td><td>44.7</td></tr><tr><td>&quot;Puducherry&quot;</td><td>&quot;1480 &quot;</td><td>97.0</td><td>&quot;2 &quot;</td><td>&quot;100&quot;</td><td>&quot;1482 &quot;</td><td>97.1</td><td>&quot;224 &quot;</td><td>15.1</td><td>&quot;1 &quot;</td><td>&quot;50&quot;</td><td>&quot;225 &quot;</td><td>15.2</td><td>&quot;220 &quot;</td><td>98.2</td><td>&quot;1 &quot;</td><td>&quot;100&quot;</td><td>&quot;221 &quot;</td><td>98.2</td></tr><tr><td>&quot;Punjab&quot;</td><td>&quot;40507 &quot;</td><td>84.9</td><td>&quot;7662 &quot;</td><td>&quot;78.1&quot;</td><td>&quot;48169 &quot;</td><td>83.7</td><td>&quot;1693 &quot;</td><td>4.2</td><td>&quot;85 &quot;</td><td>&quot;1.1&quot;</td><td>&quot;1778 &quot;</td><td>3.7</td><td>&quot;278 &quot;</td><td>16.4</td><td>&quot;4 &quot;</td><td>&quot;4.7&quot;</td><td>&quot;282 &quot;</td><td>15.9</td></tr><tr><td>&quot;Rajasthan&quot;</td><td>&quot;106155 &quot;</td><td>80.6</td><td>&quot;28475 &quot;</td><td>&quot;73.7&quot;</td><td>&quot;134630 &quot;</td><td>79.1</td><td>&quot;9100 &quot;</td><td>8.6</td><td>&quot;1541 &quot;</td><td>&quot;5.4&quot;</td><td>&quot;10641 &quot;</td><td>7.9</td><td>&quot;3141 &quot;</td><td>34.5</td><td>&quot;572 &quot;</td><td>&quot;37.1&quot;</td><td>&quot;3713 &quot;</td><td>34.9</td></tr><tr><td>&quot;Sikkim&quot;</td><td>&quot;947 &quot;</td><td>70.8</td><td>&quot;49 &quot;</td><td>&quot;66.2&quot;</td><td>&quot;996 &quot;</td><td>70.5</td><td>&quot;77 &quot;</td><td>8.1</td><td>&quot;2 &quot;</td><td>&quot;4.1&quot;</td><td>&quot;79 &quot;</td><td>7.9</td><td>&quot;5 &quot;</td><td>6.5</td><td>&quot;1 &quot;</td><td>&quot;50&quot;</td><td>&quot;6 &quot;</td><td>7.6</td></tr><tr><td>&quot;Tamil Nadu&quot;</td><td>&quot;71409 &quot;</td><td>91.2</td><td>&quot;12182 &quot;</td><td>&quot;68.9&quot;</td><td>&quot;83591 &quot;</td><td>87.1</td><td>&quot;13718 &quot;</td><td>19.2</td><td>&quot;958 &quot;</td><td>&quot;7.9&quot;</td><td>&quot;14676 &quot;</td><td>17.6</td><td>&quot;3231 &quot;</td><td>23.6</td><td>&quot;165 &quot;</td><td>&quot;17.2&quot;</td><td>&quot;3396 &quot;</td><td>23.1</td></tr><tr><td>&quot;Telangana&quot;</td><td>&quot;51000 &quot;</td><td>93.5</td><td>&quot;16920 &quot;</td><td>&quot;90.6&quot;</td><td>&quot;67920 &quot;</td><td>92.8</td><td>&quot;6533 &quot;</td><td>12.8</td><td>&quot;754 &quot;</td><td>&quot;4.5&quot;</td><td>&quot;7287 &quot;</td><td>10.7</td><td>&quot;3455 &quot;</td><td>52.9</td><td>&quot;428 &quot;</td><td>&quot;56.8&quot;</td><td>&quot;3883 &quot;</td><td>53.3</td></tr><tr><td>&quot;Tripura&quot;</td><td>&quot;2215 &quot;</td><td>68.0</td><td>&quot;31 &quot;</td><td>&quot;77.5&quot;</td><td>&quot;2246 &quot;</td><td>68.2</td><td>&quot;478 &quot;</td><td>21.6</td><td>&quot;0 &quot;</td><td>&quot;0&quot;</td><td>&quot;478 &quot;</td><td>21.3</td><td>&quot;44 &quot;</td><td>9.2</td><td>&quot;NA&quot;</td><td>&quot;NA&quot;</td><td>&quot;44 &quot;</td><td>9.2</td></tr><tr><td>&quot;Uttar Pradesh&quot;</td><td>&quot;301001 &quot;</td><td>71.8</td><td>&quot;57695 &quot;</td><td>&quot;49.4&quot;</td><td>&quot;358696 &quot;</td><td>66.9</td><td>&quot;29311 &quot;</td><td>9.7</td><td>&quot;1686 &quot;</td><td>&quot;2.9&quot;</td><td>&quot;30997 &quot;</td><td>8.6</td><td>&quot;6824 &quot;</td><td>23.3</td><td>&quot;236 &quot;</td><td>&quot;14&quot;</td><td>&quot;7060 &quot;</td><td>22.8</td></tr><tr><td>&quot;Uttarakhand&quot;</td><td>&quot;21611 &quot;</td><td>95.1</td><td>&quot;4206 &quot;</td><td>&quot;90.5&quot;</td><td>&quot;25817 &quot;</td><td>94.4</td><td>&quot;2492 &quot;</td><td>11.5</td><td>&quot;185 &quot;</td><td>&quot;4.4&quot;</td><td>&quot;2677 &quot;</td><td>10.4</td><td>&quot;800 &quot;</td><td>32.1</td><td>&quot;38 &quot;</td><td>&quot;20.5&quot;</td><td>&quot;838 &quot;</td><td>31.3</td></tr><tr><td>&quot;West Bengal&quot;</td><td>&quot;80975 &quot;</td><td>86.3</td><td>&quot;6168 &quot;</td><td>&quot;77.1&quot;</td><td>&quot;87143 &quot;</td><td>85.6</td><td>&quot;18126 &quot;</td><td>22.4</td><td>&quot;1100 &quot;</td><td>&quot;17.8&quot;</td><td>&quot;19226 &quot;</td><td>22.1</td><td>&quot;6173 &quot;</td><td>34.1</td><td>&quot;353 &quot;</td><td>&quot;32.1&quot;</td><td>&quot;6526 &quot;</td><td>33.9</td></tr><tr><td>&quot;India&quot;</td><td>&quot;1473433 &quot;</td><td>79.5</td><td>&quot;354179 &quot;</td><td>&quot;62.4&quot;</td><td>&quot;1827612 &quot;</td><td>75.5</td><td>&quot;194531 &quot;</td><td>13.2</td><td>&quot;16012 &quot;</td><td>&quot;4.5&quot;</td><td>&quot;210543 &quot;</td><td>11.5</td><td>&quot;62753 &quot;</td><td>32.3</td><td>&quot;4404 &quot;</td><td>&quot;27.5&quot;</td><td>&quot;67157 &quot;</td><td>31.9</td></tr></tbody></table></div>"
      ],
      "text/plain": [
       "shape: (37, 19)\n",
       "┌───────────┬───────────┬───────────┬───────────┬───┬───────────┬───────────┬───────────┬──────────┐\n",
       "│ State/Uts ┆ No of Tob ┆ % of Toba ┆ No of Tob ┆ … ┆ No of     ┆ Percentag ┆ No of     ┆ Percenta │\n",
       "│ ---       ┆ acco-TB   ┆ cco-TB    ┆ acco-TB   ┆   ┆ Tobacco   ┆ e  of     ┆ Tobacco   ┆ ge  of   │\n",
       "│ str       ┆ patients  ┆ patients  ┆ patients  ┆   ┆ users     ┆ Tobacco   ┆ users     ┆ Tobacco  │\n",
       "│           ┆ with k…   ┆ with kn…  ┆ with k…   ┆   ┆ linked    ┆ users     ┆ linked    ┆ users    │\n",
       "│           ┆ ---       ┆ ---       ┆ ---       ┆   ┆ with …    ┆ lin…      ┆ with …    ┆ lin…     │\n",
       "│           ┆ str       ┆ f64       ┆ str       ┆   ┆ ---       ┆ ---       ┆ ---       ┆ ---      │\n",
       "│           ┆           ┆           ┆           ┆   ┆ str       ┆ str       ┆ str       ┆ f64      │\n",
       "╞═══════════╪═══════════╪═══════════╪═══════════╪═══╪═══════════╪═══════════╪═══════════╪══════════╡\n",
       "│ Andaman & ┆ 495       ┆ 91.0      ┆ 3         ┆ … ┆ NA        ┆ NA        ┆ 30        ┆ 33.7     │\n",
       "│ Nicobar   ┆           ┆           ┆           ┆   ┆           ┆           ┆           ┆          │\n",
       "│ Islands   ┆           ┆           ┆           ┆   ┆           ┆           ┆           ┆          │\n",
       "│ Andhra    ┆ 63627     ┆ 96.2      ┆ 26477     ┆ … ┆ 326       ┆ 23.1      ┆ 2782      ┆ 24.9     │\n",
       "│ Pradesh   ┆           ┆           ┆           ┆   ┆           ┆           ┆           ┆          │\n",
       "│ Arunachal ┆ 2256      ┆ 75.0      ┆ 3         ┆ … ┆ NA        ┆ NA        ┆ 171       ┆ 56.4     │\n",
       "│ Pradesh   ┆           ┆           ┆           ┆   ┆           ┆           ┆           ┆          │\n",
       "│ Assam     ┆ 30134     ┆ 71.7      ┆ 4074      ┆ … ┆ 93        ┆ 28.6      ┆ 1590      ┆ 19.3     │\n",
       "│ …         ┆ …         ┆ …         ┆ …         ┆ … ┆ …         ┆ …         ┆ …         ┆ …        │\n",
       "│ Uttar     ┆ 301001    ┆ 71.8      ┆ 57695     ┆ … ┆ 236       ┆ 14        ┆ 7060      ┆ 22.8     │\n",
       "│ Pradesh   ┆           ┆           ┆           ┆   ┆           ┆           ┆           ┆          │\n",
       "│ Uttarakha ┆ 21611     ┆ 95.1      ┆ 4206      ┆ … ┆ 38        ┆ 20.5      ┆ 838       ┆ 31.3     │\n",
       "│ nd        ┆           ┆           ┆           ┆   ┆           ┆           ┆           ┆          │\n",
       "│ West      ┆ 80975     ┆ 86.3      ┆ 6168      ┆ … ┆ 353       ┆ 32.1      ┆ 6526      ┆ 33.9     │\n",
       "│ Bengal    ┆           ┆           ┆           ┆   ┆           ┆           ┆           ┆          │\n",
       "│ India     ┆ 1473433   ┆ 79.5      ┆ 354179    ┆ … ┆ 4404      ┆ 27.5      ┆ 67157     ┆ 31.9     │\n",
       "└───────────┴───────────┴───────────┴───────────┴───┴───────────┴───────────┴───────────┴──────────┘"
      ]
     },
     "execution_count": 38,
     "metadata": {},
     "output_type": "execute_result"
    }
   ],
   "source": [
    "tb_tabaco"
   ]
  },
  {
   "cell_type": "code",
   "execution_count": 39,
   "metadata": {},
   "outputs": [],
   "source": [
    "columnas_tbt = tb_tabaco.columns[1:]\n",
    "\n",
    "for c in columnas_tbt:\n",
    "    tb_tabaco = tb_tabaco.with_columns(tb_tabaco[c].str.replace(' ', ''))\n",
    "\n",
    "for c in columnas_tbt:\n",
    "    tb_tabaco = tb_tabaco.with_columns(tb_tabaco[c].str.replace('NA', '0'))"
   ]
  },
  {
   "cell_type": "code",
   "execution_count": 40,
   "metadata": {},
   "outputs": [],
   "source": [
    "for i in range(1,len(tb_tabaco.columns)):\n",
    "    if i%2 == 0:\n",
    "        tb_tabaco = tb_tabaco.with_columns(tb_tabaco[tb_tabaco.columns[i]].cast(pl.Float64))\n",
    "    else:\n",
    "        tb_tabaco = tb_tabaco.with_columns(tb_tabaco[tb_tabaco.columns[i]].cast(pl.Int64))"
   ]
  },
  {
   "cell_type": "code",
   "execution_count": 41,
   "metadata": {},
   "outputs": [
    {
     "data": {
      "text/html": [
       "<div><style>\n",
       ".dataframe > thead > tr > th,\n",
       ".dataframe > tbody > tr > td {\n",
       "  text-align: right;\n",
       "}\n",
       "</style>\n",
       "<small>shape: (37, 19)</small><table border=\"1\" class=\"dataframe\"><thead><tr><th>State/Uts</th><th>No of Tobacco-TB patients with known Tobacco usage status, of notified)-Public</th><th>% of Tobacco-TB patients with known Tobacco usage status, of notified)-Public</th><th>No of Tobacco-TB patients with known Tobacco usage status,of notified)-Private</th><th>% of Tobacco-TB patients with known Tobacco usage status,  of notified)-Private</th><th>No of Tobacco-TB patients with known Tobacco usage status,  of notified)-Total</th><th>% of Tobacco-TB patients with known Tobacco usage status, of notified)-Total</th><th>No of Tobacco users identified amongst screened,  of those with known tobacco usage status)-Public</th><th>Percentage of Tobacco users identified amongst screened,  of those with known tobacco usage status)-Public</th><th>No of Tobacco users identified amongst screened,of those with known tobacco usage status)-Private</th><th>Percentage of Tobacco users identified amongst screened,  of those with known tobacco usage status)-Private</th><th>No of Tobacco users identified amongst screened,of those with known tobacco usage status)-Total</th><th>Percentage  of Tobacco users identified amongst screened, of those with known tobacco usage status)-Total</th><th>No of Tobacco users linked with Tobacco cessation centres, of tobacco users)-Public</th><th>Percentage  of Tobacco users linked with Tobacco cessation centres, of tobacco users)-Public</th><th>No of Tobacco users linked with Tobacco cessation centres,of tobacco users)-Private</th><th>Percentage  of Tobacco users linked with Tobacco cessation centres, n (% of tobacco users)-Private</th><th>No of Tobacco users linked with Tobacco cessation centres, of tobacco users)-Total</th><th>Percentage  of Tobacco users linked with Tobacco cessation centres, of tobacco users)-Total</th></tr><tr><td>str</td><td>i64</td><td>f64</td><td>i64</td><td>f64</td><td>i64</td><td>f64</td><td>i64</td><td>f64</td><td>i64</td><td>f64</td><td>i64</td><td>f64</td><td>i64</td><td>f64</td><td>i64</td><td>f64</td><td>i64</td><td>f64</td></tr></thead><tbody><tr><td>&quot;Andaman &amp; Nico…</td><td>495</td><td>91.0</td><td>3</td><td>75.0</td><td>498</td><td>90.9</td><td>89</td><td>18.0</td><td>0</td><td>0.0</td><td>89</td><td>17.9</td><td>30</td><td>33.7</td><td>0</td><td>0.0</td><td>30</td><td>33.7</td></tr><tr><td>&quot;Andhra Pradesh…</td><td>63627</td><td>96.2</td><td>26477</td><td>98.1</td><td>90104</td><td>96.8</td><td>9786</td><td>15.4</td><td>1409</td><td>5.3</td><td>11195</td><td>12.4</td><td>2456</td><td>25.1</td><td>326</td><td>23.1</td><td>2782</td><td>24.9</td></tr><tr><td>&quot;Arunachal Prad…</td><td>2256</td><td>75.0</td><td>3</td><td>50.0</td><td>2259</td><td>74.9</td><td>303</td><td>13.4</td><td>0</td><td>0.0</td><td>303</td><td>13.4</td><td>171</td><td>56.4</td><td>0</td><td>0.0</td><td>171</td><td>56.4</td></tr><tr><td>&quot;Assam&quot;</td><td>30134</td><td>71.7</td><td>4074</td><td>68.8</td><td>34208</td><td>71.4</td><td>7929</td><td>26.3</td><td>325</td><td>8.0</td><td>8254</td><td>24.1</td><td>1497</td><td>18.9</td><td>93</td><td>28.6</td><td>1590</td><td>19.3</td></tr><tr><td>&quot;Bihar&quot;</td><td>44248</td><td>54.4</td><td>36165</td><td>42.8</td><td>80413</td><td>48.5</td><td>4139</td><td>9.4</td><td>1152</td><td>3.2</td><td>5291</td><td>6.6</td><td>917</td><td>22.2</td><td>41</td><td>3.6</td><td>958</td><td>18.1</td></tr><tr><td>&quot;Chandigarh&quot;</td><td>3508</td><td>94.3</td><td>47</td><td>73.4</td><td>3555</td><td>94.0</td><td>305</td><td>8.7</td><td>2</td><td>4.3</td><td>307</td><td>8.6</td><td>60</td><td>19.7</td><td>0</td><td>0.0</td><td>60</td><td>19.5</td></tr><tr><td>&quot;Chhattisgarh&quot;</td><td>25332</td><td>86.0</td><td>5815</td><td>62.7</td><td>31147</td><td>80.4</td><td>7986</td><td>31.5</td><td>336</td><td>5.8</td><td>8322</td><td>26.7</td><td>3595</td><td>45.0</td><td>140</td><td>41.7</td><td>3735</td><td>44.9</td></tr><tr><td>&quot;Dadra and Naga…</td><td>548</td><td>64.9</td><td>57</td><td>75.0</td><td>605</td><td>65.7</td><td>67</td><td>12.2</td><td>2</td><td>3.5</td><td>69</td><td>11.4</td><td>38</td><td>56.7</td><td>2</td><td>100.0</td><td>40</td><td>58.0</td></tr><tr><td>&quot;Delhi&quot;</td><td>51623</td><td>66.2</td><td>1686</td><td>16.5</td><td>53309</td><td>60.4</td><td>3440</td><td>6.7</td><td>16</td><td>0.9</td><td>3456</td><td>6.5</td><td>777</td><td>22.6</td><td>5</td><td>31.3</td><td>782</td><td>22.6</td></tr><tr><td>&quot;Goa&quot;</td><td>1553</td><td>92.6</td><td>27</td><td>6.8</td><td>1580</td><td>76.2</td><td>105</td><td>6.8</td><td>1</td><td>3.7</td><td>106</td><td>6.7</td><td>8</td><td>7.6</td><td>1</td><td>100.0</td><td>9</td><td>8.5</td></tr><tr><td>&quot;Gujarat&quot;</td><td>104192</td><td>95.9</td><td>35780</td><td>90.6</td><td>139972</td><td>94.5</td><td>16920</td><td>16.2</td><td>2365</td><td>6.6</td><td>19285</td><td>13.8</td><td>7145</td><td>42.2</td><td>895</td><td>37.8</td><td>8040</td><td>41.7</td></tr><tr><td>&quot;Haryana&quot;</td><td>54848</td><td>89.5</td><td>14373</td><td>82.6</td><td>69221</td><td>88.0</td><td>2572</td><td>4.7</td><td>486</td><td>3.4</td><td>3058</td><td>4.4</td><td>1044</td><td>40.6</td><td>161</td><td>33.1</td><td>1205</td><td>39.4</td></tr><tr><td>&hellip;</td><td>&hellip;</td><td>&hellip;</td><td>&hellip;</td><td>&hellip;</td><td>&hellip;</td><td>&hellip;</td><td>&hellip;</td><td>&hellip;</td><td>&hellip;</td><td>&hellip;</td><td>&hellip;</td><td>&hellip;</td><td>&hellip;</td><td>&hellip;</td><td>&hellip;</td><td>&hellip;</td><td>&hellip;</td><td>&hellip;</td></tr><tr><td>&quot;Odisha&quot;</td><td>52549</td><td>94.6</td><td>4025</td><td>91.6</td><td>56574</td><td>94.4</td><td>9966</td><td>19.0</td><td>262</td><td>6.5</td><td>10228</td><td>18.1</td><td>4454</td><td>44.7</td><td>114</td><td>43.5</td><td>4568</td><td>44.7</td></tr><tr><td>&quot;Puducherry&quot;</td><td>1480</td><td>97.0</td><td>2</td><td>100.0</td><td>1482</td><td>97.1</td><td>224</td><td>15.1</td><td>1</td><td>50.0</td><td>225</td><td>15.2</td><td>220</td><td>98.2</td><td>1</td><td>100.0</td><td>221</td><td>98.2</td></tr><tr><td>&quot;Punjab&quot;</td><td>40507</td><td>84.9</td><td>7662</td><td>78.1</td><td>48169</td><td>83.7</td><td>1693</td><td>4.2</td><td>85</td><td>1.1</td><td>1778</td><td>3.7</td><td>278</td><td>16.4</td><td>4</td><td>4.7</td><td>282</td><td>15.9</td></tr><tr><td>&quot;Rajasthan&quot;</td><td>106155</td><td>80.6</td><td>28475</td><td>73.7</td><td>134630</td><td>79.1</td><td>9100</td><td>8.6</td><td>1541</td><td>5.4</td><td>10641</td><td>7.9</td><td>3141</td><td>34.5</td><td>572</td><td>37.1</td><td>3713</td><td>34.9</td></tr><tr><td>&quot;Sikkim&quot;</td><td>947</td><td>70.8</td><td>49</td><td>66.2</td><td>996</td><td>70.5</td><td>77</td><td>8.1</td><td>2</td><td>4.1</td><td>79</td><td>7.9</td><td>5</td><td>6.5</td><td>1</td><td>50.0</td><td>6</td><td>7.6</td></tr><tr><td>&quot;Tamil Nadu&quot;</td><td>71409</td><td>91.2</td><td>12182</td><td>68.9</td><td>83591</td><td>87.1</td><td>13718</td><td>19.2</td><td>958</td><td>7.9</td><td>14676</td><td>17.6</td><td>3231</td><td>23.6</td><td>165</td><td>17.2</td><td>3396</td><td>23.1</td></tr><tr><td>&quot;Telangana&quot;</td><td>51000</td><td>93.5</td><td>16920</td><td>90.6</td><td>67920</td><td>92.8</td><td>6533</td><td>12.8</td><td>754</td><td>4.5</td><td>7287</td><td>10.7</td><td>3455</td><td>52.9</td><td>428</td><td>56.8</td><td>3883</td><td>53.3</td></tr><tr><td>&quot;Tripura&quot;</td><td>2215</td><td>68.0</td><td>31</td><td>77.5</td><td>2246</td><td>68.2</td><td>478</td><td>21.6</td><td>0</td><td>0.0</td><td>478</td><td>21.3</td><td>44</td><td>9.2</td><td>0</td><td>0.0</td><td>44</td><td>9.2</td></tr><tr><td>&quot;Uttar Pradesh&quot;</td><td>301001</td><td>71.8</td><td>57695</td><td>49.4</td><td>358696</td><td>66.9</td><td>29311</td><td>9.7</td><td>1686</td><td>2.9</td><td>30997</td><td>8.6</td><td>6824</td><td>23.3</td><td>236</td><td>14.0</td><td>7060</td><td>22.8</td></tr><tr><td>&quot;Uttarakhand&quot;</td><td>21611</td><td>95.1</td><td>4206</td><td>90.5</td><td>25817</td><td>94.4</td><td>2492</td><td>11.5</td><td>185</td><td>4.4</td><td>2677</td><td>10.4</td><td>800</td><td>32.1</td><td>38</td><td>20.5</td><td>838</td><td>31.3</td></tr><tr><td>&quot;West Bengal&quot;</td><td>80975</td><td>86.3</td><td>6168</td><td>77.1</td><td>87143</td><td>85.6</td><td>18126</td><td>22.4</td><td>1100</td><td>17.8</td><td>19226</td><td>22.1</td><td>6173</td><td>34.1</td><td>353</td><td>32.1</td><td>6526</td><td>33.9</td></tr><tr><td>&quot;India&quot;</td><td>1473433</td><td>79.5</td><td>354179</td><td>62.4</td><td>1827612</td><td>75.5</td><td>194531</td><td>13.2</td><td>16012</td><td>4.5</td><td>210543</td><td>11.5</td><td>62753</td><td>32.3</td><td>4404</td><td>27.5</td><td>67157</td><td>31.9</td></tr></tbody></table></div>"
      ],
      "text/plain": [
       "shape: (37, 19)\n",
       "┌───────────┬───────────┬───────────┬───────────┬───┬───────────┬───────────┬───────────┬──────────┐\n",
       "│ State/Uts ┆ No of Tob ┆ % of Toba ┆ No of Tob ┆ … ┆ No of     ┆ Percentag ┆ No of     ┆ Percenta │\n",
       "│ ---       ┆ acco-TB   ┆ cco-TB    ┆ acco-TB   ┆   ┆ Tobacco   ┆ e  of     ┆ Tobacco   ┆ ge  of   │\n",
       "│ str       ┆ patients  ┆ patients  ┆ patients  ┆   ┆ users     ┆ Tobacco   ┆ users     ┆ Tobacco  │\n",
       "│           ┆ with k…   ┆ with kn…  ┆ with k…   ┆   ┆ linked    ┆ users     ┆ linked    ┆ users    │\n",
       "│           ┆ ---       ┆ ---       ┆ ---       ┆   ┆ with …    ┆ lin…      ┆ with …    ┆ lin…     │\n",
       "│           ┆ i64       ┆ f64       ┆ i64       ┆   ┆ ---       ┆ ---       ┆ ---       ┆ ---      │\n",
       "│           ┆           ┆           ┆           ┆   ┆ i64       ┆ f64       ┆ i64       ┆ f64      │\n",
       "╞═══════════╪═══════════╪═══════════╪═══════════╪═══╪═══════════╪═══════════╪═══════════╪══════════╡\n",
       "│ Andaman & ┆ 495       ┆ 91.0      ┆ 3         ┆ … ┆ 0         ┆ 0.0       ┆ 30        ┆ 33.7     │\n",
       "│ Nicobar   ┆           ┆           ┆           ┆   ┆           ┆           ┆           ┆          │\n",
       "│ Islands   ┆           ┆           ┆           ┆   ┆           ┆           ┆           ┆          │\n",
       "│ Andhra    ┆ 63627     ┆ 96.2      ┆ 26477     ┆ … ┆ 326       ┆ 23.1      ┆ 2782      ┆ 24.9     │\n",
       "│ Pradesh   ┆           ┆           ┆           ┆   ┆           ┆           ┆           ┆          │\n",
       "│ Arunachal ┆ 2256      ┆ 75.0      ┆ 3         ┆ … ┆ 0         ┆ 0.0       ┆ 171       ┆ 56.4     │\n",
       "│ Pradesh   ┆           ┆           ┆           ┆   ┆           ┆           ┆           ┆          │\n",
       "│ Assam     ┆ 30134     ┆ 71.7      ┆ 4074      ┆ … ┆ 93        ┆ 28.6      ┆ 1590      ┆ 19.3     │\n",
       "│ …         ┆ …         ┆ …         ┆ …         ┆ … ┆ …         ┆ …         ┆ …         ┆ …        │\n",
       "│ Uttar     ┆ 301001    ┆ 71.8      ┆ 57695     ┆ … ┆ 236       ┆ 14.0      ┆ 7060      ┆ 22.8     │\n",
       "│ Pradesh   ┆           ┆           ┆           ┆   ┆           ┆           ┆           ┆          │\n",
       "│ Uttarakha ┆ 21611     ┆ 95.1      ┆ 4206      ┆ … ┆ 38        ┆ 20.5      ┆ 838       ┆ 31.3     │\n",
       "│ nd        ┆           ┆           ┆           ┆   ┆           ┆           ┆           ┆          │\n",
       "│ West      ┆ 80975     ┆ 86.3      ┆ 6168      ┆ … ┆ 353       ┆ 32.1      ┆ 6526      ┆ 33.9     │\n",
       "│ Bengal    ┆           ┆           ┆           ┆   ┆           ┆           ┆           ┆          │\n",
       "│ India     ┆ 1473433   ┆ 79.5      ┆ 354179    ┆ … ┆ 4404      ┆ 27.5      ┆ 67157     ┆ 31.9     │\n",
       "└───────────┴───────────┴───────────┴───────────┴───┴───────────┴───────────┴───────────┴──────────┘"
      ]
     },
     "execution_count": 41,
     "metadata": {},
     "output_type": "execute_result"
    }
   ],
   "source": [
    "tb_tabaco"
   ]
  }
 ],
 "metadata": {
  "kernelspec": {
   "display_name": "Python 3",
   "language": "python",
   "name": "python3"
  },
  "language_info": {
   "codemirror_mode": {
    "name": "ipython",
    "version": 3
   },
   "file_extension": ".py",
   "mimetype": "text/x-python",
   "name": "python",
   "nbconvert_exporter": "python",
   "pygments_lexer": "ipython3",
   "version": "3.11.4"
  },
  "orig_nbformat": 4
 },
 "nbformat": 4,
 "nbformat_minor": 2
}
